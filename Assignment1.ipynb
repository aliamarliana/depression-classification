{
 "cells": [
  {
   "cell_type": "markdown",
   "id": "c84af64d-8b06-40d1-8094-51659548d9ac",
   "metadata": {},
   "source": [
    "# Assignment 1: Classification\n",
    "\n",
    "### <span style='background :yellow' > Student Information </span>\n",
    "\n",
    "**Name     : ALIA MARLIANA BINTI SHAIFUL BAHARI**\n",
    "\n",
    "Depression is a common but serious mood disorder affecting an estimated of 121 million people worldwide. Emotion can possibly be an indicator of depression. The main objective of this assignment is to recommend the best classification model that can determine if an individual is showing signs of depression given the individual’s emotion pattern in the duration of two weeks. We have worked together to collect a data set containing self-report of the emotions you experienced in a period of two weeks. Each instance includes an individual’s gender and emotion pattern (based on 8 emotion categories: joy, sadness, anger, disgust, fear, surprise, contempt and neutral) and also a class label: YES (showing signs of depression) and NO (not showing signs of depression). "
   ]
  },
  {
   "cell_type": "markdown",
   "id": "c4446a4b-1126-4e1c-9f90-31245c39ae0a",
   "metadata": {},
   "source": [
    "# <span style='background:cyan'>For Freq-PHO-Binary Dataset</span> \n",
    "\n",
    "Total count of each emotion expressed by an individual in a period of 2 weeks. The total count of emotions differs for each individual depending on the number of emotions recorded in a day. An individual who recorded more than one emotion a day would produce a higher frequency number compared to an individual who only recorded one emotion a day. "
   ]
  },
  {
   "cell_type": "markdown",
   "id": "b02f784a-de23-41db-b395-895b16cf47da",
   "metadata": {},
   "source": [
    "## Prepare and Explore Data"
   ]
  },
  {
   "cell_type": "code",
   "execution_count": 1,
   "id": "ee0ba847-aa64-4d47-8901-eac9b491872c",
   "metadata": {},
   "outputs": [],
   "source": [
    "# Import pandas library\n",
    "import pandas as pd\n",
    "\n",
    "# Read csv data file\n",
    "freq = pd.read_csv('Freq-PHO-Binary.csv')"
   ]
  },
  {
   "cell_type": "code",
   "execution_count": 2,
   "id": "286ff695-c6c6-44a5-9a6a-e3669606e878",
   "metadata": {},
   "outputs": [
    {
     "data": {
      "text/plain": [
       "(391, 10)"
      ]
     },
     "execution_count": 2,
     "metadata": {},
     "output_type": "execute_result"
    }
   ],
   "source": [
    "# Find out the number of instances and number of attributes\n",
    "freq.shape"
   ]
  },
  {
   "cell_type": "code",
   "execution_count": 3,
   "id": "d0e55023-7059-4573-ad82-853d48460485",
   "metadata": {},
   "outputs": [
    {
     "data": {
      "text/plain": [
       "0"
      ]
     },
     "execution_count": 3,
     "metadata": {},
     "output_type": "execute_result"
    }
   ],
   "source": [
    "freq.isnull().sum().sum()"
   ]
  },
  {
   "cell_type": "code",
   "execution_count": 4,
   "id": "8f4a7e97-4667-4b3a-8d1c-597bc9320208",
   "metadata": {},
   "outputs": [
    {
     "data": {
      "text/html": [
       "<div>\n",
       "<style scoped>\n",
       "    .dataframe tbody tr th:only-of-type {\n",
       "        vertical-align: middle;\n",
       "    }\n",
       "\n",
       "    .dataframe tbody tr th {\n",
       "        vertical-align: top;\n",
       "    }\n",
       "\n",
       "    .dataframe thead th {\n",
       "        text-align: right;\n",
       "    }\n",
       "</style>\n",
       "<table border=\"1\" class=\"dataframe\">\n",
       "  <thead>\n",
       "    <tr style=\"text-align: right;\">\n",
       "      <th></th>\n",
       "      <th>Gender</th>\n",
       "      <th>Emotion_Joy</th>\n",
       "      <th>Emotion_Sadness</th>\n",
       "      <th>Emotion_Anger</th>\n",
       "      <th>Emotion_Disgust</th>\n",
       "      <th>Emotion_Fear</th>\n",
       "      <th>Emotion_Surprise</th>\n",
       "      <th>Emotion_Contempt</th>\n",
       "      <th>Emotion_Neutral</th>\n",
       "      <th>Depression</th>\n",
       "    </tr>\n",
       "  </thead>\n",
       "  <tbody>\n",
       "    <tr>\n",
       "      <th>0</th>\n",
       "      <td>Female</td>\n",
       "      <td>4</td>\n",
       "      <td>3</td>\n",
       "      <td>2</td>\n",
       "      <td>1</td>\n",
       "      <td>0</td>\n",
       "      <td>2</td>\n",
       "      <td>2</td>\n",
       "      <td>1</td>\n",
       "      <td>NO</td>\n",
       "    </tr>\n",
       "    <tr>\n",
       "      <th>1</th>\n",
       "      <td>Female</td>\n",
       "      <td>8</td>\n",
       "      <td>0</td>\n",
       "      <td>2</td>\n",
       "      <td>0</td>\n",
       "      <td>1</td>\n",
       "      <td>0</td>\n",
       "      <td>0</td>\n",
       "      <td>4</td>\n",
       "      <td>NO</td>\n",
       "    </tr>\n",
       "    <tr>\n",
       "      <th>2</th>\n",
       "      <td>Male</td>\n",
       "      <td>5</td>\n",
       "      <td>0</td>\n",
       "      <td>0</td>\n",
       "      <td>0</td>\n",
       "      <td>14</td>\n",
       "      <td>2</td>\n",
       "      <td>0</td>\n",
       "      <td>15</td>\n",
       "      <td>NO</td>\n",
       "    </tr>\n",
       "    <tr>\n",
       "      <th>3</th>\n",
       "      <td>Male</td>\n",
       "      <td>7</td>\n",
       "      <td>0</td>\n",
       "      <td>3</td>\n",
       "      <td>0</td>\n",
       "      <td>0</td>\n",
       "      <td>5</td>\n",
       "      <td>0</td>\n",
       "      <td>0</td>\n",
       "      <td>NO</td>\n",
       "    </tr>\n",
       "    <tr>\n",
       "      <th>4</th>\n",
       "      <td>Male</td>\n",
       "      <td>3</td>\n",
       "      <td>2</td>\n",
       "      <td>1</td>\n",
       "      <td>0</td>\n",
       "      <td>2</td>\n",
       "      <td>1</td>\n",
       "      <td>0</td>\n",
       "      <td>6</td>\n",
       "      <td>YES</td>\n",
       "    </tr>\n",
       "  </tbody>\n",
       "</table>\n",
       "</div>"
      ],
      "text/plain": [
       "   Gender  Emotion_Joy  Emotion_Sadness  Emotion_Anger  Emotion_Disgust  \\\n",
       "0  Female            4                3              2                1   \n",
       "1  Female            8                0              2                0   \n",
       "2    Male            5                0              0                0   \n",
       "3    Male            7                0              3                0   \n",
       "4    Male            3                2              1                0   \n",
       "\n",
       "   Emotion_Fear  Emotion_Surprise  Emotion_Contempt  Emotion_Neutral  \\\n",
       "0             0                 2                 2                1   \n",
       "1             1                 0                 0                4   \n",
       "2            14                 2                 0               15   \n",
       "3             0                 5                 0                0   \n",
       "4             2                 1                 0                6   \n",
       "\n",
       "  Depression  \n",
       "0         NO  \n",
       "1         NO  \n",
       "2         NO  \n",
       "3         NO  \n",
       "4        YES  "
      ]
     },
     "execution_count": 4,
     "metadata": {},
     "output_type": "execute_result"
    }
   ],
   "source": [
    "# View the first 5 rows\n",
    "freq.head()"
   ]
  },
  {
   "cell_type": "code",
   "execution_count": 5,
   "id": "c5847218-ab7b-4803-bbdf-01dc3ad916e6",
   "metadata": {},
   "outputs": [
    {
     "data": {
      "text/plain": [
       "Gender              object\n",
       "Emotion_Joy          int64\n",
       "Emotion_Sadness      int64\n",
       "Emotion_Anger        int64\n",
       "Emotion_Disgust      int64\n",
       "Emotion_Fear         int64\n",
       "Emotion_Surprise     int64\n",
       "Emotion_Contempt     int64\n",
       "Emotion_Neutral      int64\n",
       "Depression          object\n",
       "dtype: object"
      ]
     },
     "execution_count": 5,
     "metadata": {},
     "output_type": "execute_result"
    }
   ],
   "source": [
    "freq.dtypes"
   ]
  },
  {
   "cell_type": "code",
   "execution_count": 6,
   "id": "994f60e9-b5d3-4f3e-a238-c4f4ee0e4a7c",
   "metadata": {},
   "outputs": [
    {
     "name": "stdout",
     "output_type": "stream",
     "text": [
      "Depression\n",
      "NO     218\n",
      "YES    173\n",
      "Name: count, dtype: int64\n"
     ]
    }
   ],
   "source": [
    "print(freq['Depression'].value_counts())"
   ]
  },
  {
   "cell_type": "code",
   "execution_count": 7,
   "id": "8237433b-66fd-4953-8343-f023be8e6e0b",
   "metadata": {
    "scrolled": true
   },
   "outputs": [
    {
     "name": "stdout",
     "output_type": "stream",
     "text": [
      "Depression\n",
      "NO     0.557545\n",
      "YES    0.442455\n",
      "Name: count, dtype: float64\n"
     ]
    }
   ],
   "source": [
    "ratio = freq['Depression'].value_counts() / freq.shape[0]\n",
    "\n",
    "print(ratio)"
   ]
  },
  {
   "cell_type": "code",
   "execution_count": 2,
   "id": "a9c0baf8-8efd-4ef3-8d61-bb61b6912c76",
   "metadata": {},
   "outputs": [
    {
     "data": {
      "text/html": [
       "<div>\n",
       "<style scoped>\n",
       "    .dataframe tbody tr th:only-of-type {\n",
       "        vertical-align: middle;\n",
       "    }\n",
       "\n",
       "    .dataframe tbody tr th {\n",
       "        vertical-align: top;\n",
       "    }\n",
       "\n",
       "    .dataframe thead th {\n",
       "        text-align: right;\n",
       "    }\n",
       "</style>\n",
       "<table border=\"1\" class=\"dataframe\">\n",
       "  <thead>\n",
       "    <tr style=\"text-align: right;\">\n",
       "      <th></th>\n",
       "      <th>Gender</th>\n",
       "      <th>Emotion_Joy</th>\n",
       "      <th>Emotion_Sadness</th>\n",
       "      <th>Emotion_Anger</th>\n",
       "      <th>Emotion_Disgust</th>\n",
       "      <th>Emotion_Fear</th>\n",
       "      <th>Emotion_Surprise</th>\n",
       "      <th>Emotion_Contempt</th>\n",
       "      <th>Emotion_Neutral</th>\n",
       "      <th>Depression</th>\n",
       "    </tr>\n",
       "  </thead>\n",
       "  <tbody>\n",
       "    <tr>\n",
       "      <th>0</th>\n",
       "      <td>0</td>\n",
       "      <td>4</td>\n",
       "      <td>3</td>\n",
       "      <td>2</td>\n",
       "      <td>1</td>\n",
       "      <td>0</td>\n",
       "      <td>2</td>\n",
       "      <td>2</td>\n",
       "      <td>1</td>\n",
       "      <td>NO</td>\n",
       "    </tr>\n",
       "    <tr>\n",
       "      <th>1</th>\n",
       "      <td>0</td>\n",
       "      <td>8</td>\n",
       "      <td>0</td>\n",
       "      <td>2</td>\n",
       "      <td>0</td>\n",
       "      <td>1</td>\n",
       "      <td>0</td>\n",
       "      <td>0</td>\n",
       "      <td>4</td>\n",
       "      <td>NO</td>\n",
       "    </tr>\n",
       "    <tr>\n",
       "      <th>2</th>\n",
       "      <td>1</td>\n",
       "      <td>5</td>\n",
       "      <td>0</td>\n",
       "      <td>0</td>\n",
       "      <td>0</td>\n",
       "      <td>14</td>\n",
       "      <td>2</td>\n",
       "      <td>0</td>\n",
       "      <td>15</td>\n",
       "      <td>NO</td>\n",
       "    </tr>\n",
       "    <tr>\n",
       "      <th>3</th>\n",
       "      <td>1</td>\n",
       "      <td>7</td>\n",
       "      <td>0</td>\n",
       "      <td>3</td>\n",
       "      <td>0</td>\n",
       "      <td>0</td>\n",
       "      <td>5</td>\n",
       "      <td>0</td>\n",
       "      <td>0</td>\n",
       "      <td>NO</td>\n",
       "    </tr>\n",
       "    <tr>\n",
       "      <th>4</th>\n",
       "      <td>1</td>\n",
       "      <td>3</td>\n",
       "      <td>2</td>\n",
       "      <td>1</td>\n",
       "      <td>0</td>\n",
       "      <td>2</td>\n",
       "      <td>1</td>\n",
       "      <td>0</td>\n",
       "      <td>6</td>\n",
       "      <td>YES</td>\n",
       "    </tr>\n",
       "  </tbody>\n",
       "</table>\n",
       "</div>"
      ],
      "text/plain": [
       "   Gender  Emotion_Joy  Emotion_Sadness  Emotion_Anger  Emotion_Disgust  \\\n",
       "0       0            4                3              2                1   \n",
       "1       0            8                0              2                0   \n",
       "2       1            5                0              0                0   \n",
       "3       1            7                0              3                0   \n",
       "4       1            3                2              1                0   \n",
       "\n",
       "   Emotion_Fear  Emotion_Surprise  Emotion_Contempt  Emotion_Neutral  \\\n",
       "0             0                 2                 2                1   \n",
       "1             1                 0                 0                4   \n",
       "2            14                 2                 0               15   \n",
       "3             0                 5                 0                0   \n",
       "4             2                 1                 0                6   \n",
       "\n",
       "  Depression  \n",
       "0         NO  \n",
       "1         NO  \n",
       "2         NO  \n",
       "3         NO  \n",
       "4        YES  "
      ]
     },
     "execution_count": 2,
     "metadata": {},
     "output_type": "execute_result"
    }
   ],
   "source": [
    "# Import LabelEncoder\n",
    "from sklearn import preprocessing\n",
    "\n",
    "# Create LabelEncoder\n",
    "le = preprocessing.LabelEncoder()\n",
    "\n",
    "freq['Gender'] = le.fit_transform(freq['Gender'])\n",
    "\n",
    "freq.head()"
   ]
  },
  {
   "cell_type": "code",
   "execution_count": 3,
   "id": "14fa0570-8fc6-407f-aee6-2de16edf2029",
   "metadata": {},
   "outputs": [],
   "source": [
    "# Indicate the target column\n",
    "target = freq['Depression']\n",
    "\n",
    "# Indicate the columns that will serve as features\n",
    "features = freq.drop('Depression', axis = 1)"
   ]
  },
  {
   "cell_type": "markdown",
   "id": "f024b0a0-302f-49a0-b185-041e1cde4cca",
   "metadata": {},
   "source": [
    "## Dummy Classifier"
   ]
  },
  {
   "cell_type": "code",
   "execution_count": 62,
   "id": "e5a2fe96-251f-46fb-a2f9-0ca9060f0c00",
   "metadata": {},
   "outputs": [],
   "source": [
    "from sklearn.dummy import DummyClassifier\n",
    "from sklearn.model_selection import cross_val_predict\n",
    "\n",
    "# Initialize the Dummy Classifier\n",
    "dummy_clf = DummyClassifier(strategy=\"uniform\")\n",
    "\n",
    "# Perform cross-validation and get predictions for each fold\n",
    "dummy_val_predictions = cross_val_predict(dummy_clf, features, target, cv=10)"
   ]
  },
  {
   "cell_type": "code",
   "execution_count": 63,
   "id": "147d8210-1248-4d92-bc58-ccb8b609e0a5",
   "metadata": {},
   "outputs": [
    {
     "name": "stdout",
     "output_type": "stream",
     "text": [
      "Validation Accuracy for Dummy Classifier = 0.4859335038363171\n",
      "Validation Precision (Weighted Avg) for Dummy Classifier = 0.491552364336602\n",
      "Validation Recall (Weighted Avg) for Dummy Classifier = 0.4859335038363171\n",
      "Validation F1 (Weighted Avg) for Dummy Classifier = 0.4876019697152623\n"
     ]
    }
   ],
   "source": [
    "from sklearn.metrics import accuracy_score, precision_score, recall_score, f1_score\n",
    "accuracy = accuracy_score(target, dummy_val_predictions)\n",
    "precision_weighted = precision_score(target, dummy_val_predictions, average='weighted')\n",
    "recall_weighted = recall_score(target, dummy_val_predictions, average='weighted')\n",
    "f1_weighted = f1_score(target, dummy_val_predictions, average='weighted')\n",
    "\n",
    "# Print the weighted average evaluation metrics\n",
    "print('Validation Accuracy for Dummy Classifier =', accuracy)\n",
    "print('Validation Precision (Weighted Avg) for Dummy Classifier =', precision_weighted)\n",
    "print('Validation Recall (Weighted Avg) for Dummy Classifier =', recall_weighted)\n",
    "print('Validation F1 (Weighted Avg) for Dummy Classifier =', f1_weighted)"
   ]
  },
  {
   "cell_type": "markdown",
   "id": "251f49cf-0c99-4727-91cb-1f2f53a9ff7d",
   "metadata": {},
   "source": [
    "## KNN Classifier"
   ]
  },
  {
   "cell_type": "code",
   "execution_count": 10,
   "id": "28e6fe14-00b8-42a2-8f3a-a3eedbbe5b2e",
   "metadata": {},
   "outputs": [],
   "source": [
    "from sklearn.model_selection import GridSearchCV\n",
    "from sklearn.neighbors import KNeighborsClassifier\n",
    "from sklearn.metrics import make_scorer, accuracy_score, precision_score, recall_score, f1_score\n",
    "\n",
    "knn = KNeighborsClassifier()\n",
    "\n",
    "knn_param = {\n",
    "    'weights': ['uniform', 'distance'], \n",
    "    'algorithm': ['auto', 'ball_tree', 'kd_tree', 'brute'],\n",
    "    'p': [1,2,3],\n",
    "    'leaf_size': list(range(1,50))\n",
    "}\n",
    "\n",
    "scoring = {\n",
    "    'accuracy': 'accuracy',\n",
    "    'weighted_precision': make_scorer(precision_score, average='weighted'),\n",
    "    'weighted_recall': make_scorer(recall_score, average='weighted'),\n",
    "    'weighted_f1': make_scorer(f1_score, average='weighted')\n",
    "}\n",
    "\n",
    "grid_search = GridSearchCV(knn, knn_param, cv=10, scoring=scoring, refit='accuracy')"
   ]
  },
  {
   "cell_type": "code",
   "execution_count": 11,
   "id": "c47885c1-e11d-42f7-8618-b47ece71eb51",
   "metadata": {},
   "outputs": [
    {
     "data": {
      "text/html": [
       "<style>#sk-container-id-1 {color: black;background-color: white;}#sk-container-id-1 pre{padding: 0;}#sk-container-id-1 div.sk-toggleable {background-color: white;}#sk-container-id-1 label.sk-toggleable__label {cursor: pointer;display: block;width: 100%;margin-bottom: 0;padding: 0.3em;box-sizing: border-box;text-align: center;}#sk-container-id-1 label.sk-toggleable__label-arrow:before {content: \"▸\";float: left;margin-right: 0.25em;color: #696969;}#sk-container-id-1 label.sk-toggleable__label-arrow:hover:before {color: black;}#sk-container-id-1 div.sk-estimator:hover label.sk-toggleable__label-arrow:before {color: black;}#sk-container-id-1 div.sk-toggleable__content {max-height: 0;max-width: 0;overflow: hidden;text-align: left;background-color: #f0f8ff;}#sk-container-id-1 div.sk-toggleable__content pre {margin: 0.2em;color: black;border-radius: 0.25em;background-color: #f0f8ff;}#sk-container-id-1 input.sk-toggleable__control:checked~div.sk-toggleable__content {max-height: 200px;max-width: 100%;overflow: auto;}#sk-container-id-1 input.sk-toggleable__control:checked~label.sk-toggleable__label-arrow:before {content: \"▾\";}#sk-container-id-1 div.sk-estimator input.sk-toggleable__control:checked~label.sk-toggleable__label {background-color: #d4ebff;}#sk-container-id-1 div.sk-label input.sk-toggleable__control:checked~label.sk-toggleable__label {background-color: #d4ebff;}#sk-container-id-1 input.sk-hidden--visually {border: 0;clip: rect(1px 1px 1px 1px);clip: rect(1px, 1px, 1px, 1px);height: 1px;margin: -1px;overflow: hidden;padding: 0;position: absolute;width: 1px;}#sk-container-id-1 div.sk-estimator {font-family: monospace;background-color: #f0f8ff;border: 1px dotted black;border-radius: 0.25em;box-sizing: border-box;margin-bottom: 0.5em;}#sk-container-id-1 div.sk-estimator:hover {background-color: #d4ebff;}#sk-container-id-1 div.sk-parallel-item::after {content: \"\";width: 100%;border-bottom: 1px solid gray;flex-grow: 1;}#sk-container-id-1 div.sk-label:hover label.sk-toggleable__label {background-color: #d4ebff;}#sk-container-id-1 div.sk-serial::before {content: \"\";position: absolute;border-left: 1px solid gray;box-sizing: border-box;top: 0;bottom: 0;left: 50%;z-index: 0;}#sk-container-id-1 div.sk-serial {display: flex;flex-direction: column;align-items: center;background-color: white;padding-right: 0.2em;padding-left: 0.2em;position: relative;}#sk-container-id-1 div.sk-item {position: relative;z-index: 1;}#sk-container-id-1 div.sk-parallel {display: flex;align-items: stretch;justify-content: center;background-color: white;position: relative;}#sk-container-id-1 div.sk-item::before, #sk-container-id-1 div.sk-parallel-item::before {content: \"\";position: absolute;border-left: 1px solid gray;box-sizing: border-box;top: 0;bottom: 0;left: 50%;z-index: -1;}#sk-container-id-1 div.sk-parallel-item {display: flex;flex-direction: column;z-index: 1;position: relative;background-color: white;}#sk-container-id-1 div.sk-parallel-item:first-child::after {align-self: flex-end;width: 50%;}#sk-container-id-1 div.sk-parallel-item:last-child::after {align-self: flex-start;width: 50%;}#sk-container-id-1 div.sk-parallel-item:only-child::after {width: 0;}#sk-container-id-1 div.sk-dashed-wrapped {border: 1px dashed gray;margin: 0 0.4em 0.5em 0.4em;box-sizing: border-box;padding-bottom: 0.4em;background-color: white;}#sk-container-id-1 div.sk-label label {font-family: monospace;font-weight: bold;display: inline-block;line-height: 1.2em;}#sk-container-id-1 div.sk-label-container {text-align: center;}#sk-container-id-1 div.sk-container {/* jupyter's `normalize.less` sets `[hidden] { display: none; }` but bootstrap.min.css set `[hidden] { display: none !important; }` so we also need the `!important` here to be able to override the default hidden behavior on the sphinx rendered scikit-learn.org. See: https://github.com/scikit-learn/scikit-learn/issues/21755 */display: inline-block !important;position: relative;}#sk-container-id-1 div.sk-text-repr-fallback {display: none;}</style><div id=\"sk-container-id-1\" class=\"sk-top-container\"><div class=\"sk-text-repr-fallback\"><pre>GridSearchCV(cv=10, estimator=KNeighborsClassifier(),\n",
       "             param_grid={&#x27;algorithm&#x27;: [&#x27;auto&#x27;, &#x27;ball_tree&#x27;, &#x27;kd_tree&#x27;, &#x27;brute&#x27;],\n",
       "                         &#x27;leaf_size&#x27;: [1, 2, 3, 4, 5, 6, 7, 8, 9, 10, 11, 12,\n",
       "                                       13, 14, 15, 16, 17, 18, 19, 20, 21, 22,\n",
       "                                       23, 24, 25, 26, 27, 28, 29, 30, ...],\n",
       "                         &#x27;p&#x27;: [1, 2, 3], &#x27;weights&#x27;: [&#x27;uniform&#x27;, &#x27;distance&#x27;]},\n",
       "             refit=&#x27;accuracy&#x27;,\n",
       "             scoring={&#x27;accuracy&#x27;: &#x27;accuracy&#x27;,\n",
       "                      &#x27;weighted_f1&#x27;: make_scorer(f1_score, average=weighted),\n",
       "                      &#x27;weighted_precision&#x27;: make_scorer(precision_score, average=weighted),\n",
       "                      &#x27;weighted_recall&#x27;: make_scorer(recall_score, average=weighted)})</pre><b>In a Jupyter environment, please rerun this cell to show the HTML representation or trust the notebook. <br />On GitHub, the HTML representation is unable to render, please try loading this page with nbviewer.org.</b></div><div class=\"sk-container\" hidden><div class=\"sk-item sk-dashed-wrapped\"><div class=\"sk-label-container\"><div class=\"sk-label sk-toggleable\"><input class=\"sk-toggleable__control sk-hidden--visually\" id=\"sk-estimator-id-1\" type=\"checkbox\" ><label for=\"sk-estimator-id-1\" class=\"sk-toggleable__label sk-toggleable__label-arrow\">GridSearchCV</label><div class=\"sk-toggleable__content\"><pre>GridSearchCV(cv=10, estimator=KNeighborsClassifier(),\n",
       "             param_grid={&#x27;algorithm&#x27;: [&#x27;auto&#x27;, &#x27;ball_tree&#x27;, &#x27;kd_tree&#x27;, &#x27;brute&#x27;],\n",
       "                         &#x27;leaf_size&#x27;: [1, 2, 3, 4, 5, 6, 7, 8, 9, 10, 11, 12,\n",
       "                                       13, 14, 15, 16, 17, 18, 19, 20, 21, 22,\n",
       "                                       23, 24, 25, 26, 27, 28, 29, 30, ...],\n",
       "                         &#x27;p&#x27;: [1, 2, 3], &#x27;weights&#x27;: [&#x27;uniform&#x27;, &#x27;distance&#x27;]},\n",
       "             refit=&#x27;accuracy&#x27;,\n",
       "             scoring={&#x27;accuracy&#x27;: &#x27;accuracy&#x27;,\n",
       "                      &#x27;weighted_f1&#x27;: make_scorer(f1_score, average=weighted),\n",
       "                      &#x27;weighted_precision&#x27;: make_scorer(precision_score, average=weighted),\n",
       "                      &#x27;weighted_recall&#x27;: make_scorer(recall_score, average=weighted)})</pre></div></div></div><div class=\"sk-parallel\"><div class=\"sk-parallel-item\"><div class=\"sk-item\"><div class=\"sk-label-container\"><div class=\"sk-label sk-toggleable\"><input class=\"sk-toggleable__control sk-hidden--visually\" id=\"sk-estimator-id-2\" type=\"checkbox\" ><label for=\"sk-estimator-id-2\" class=\"sk-toggleable__label sk-toggleable__label-arrow\">estimator: KNeighborsClassifier</label><div class=\"sk-toggleable__content\"><pre>KNeighborsClassifier()</pre></div></div></div><div class=\"sk-serial\"><div class=\"sk-item\"><div class=\"sk-estimator sk-toggleable\"><input class=\"sk-toggleable__control sk-hidden--visually\" id=\"sk-estimator-id-3\" type=\"checkbox\" ><label for=\"sk-estimator-id-3\" class=\"sk-toggleable__label sk-toggleable__label-arrow\">KNeighborsClassifier</label><div class=\"sk-toggleable__content\"><pre>KNeighborsClassifier()</pre></div></div></div></div></div></div></div></div></div></div>"
      ],
      "text/plain": [
       "GridSearchCV(cv=10, estimator=KNeighborsClassifier(),\n",
       "             param_grid={'algorithm': ['auto', 'ball_tree', 'kd_tree', 'brute'],\n",
       "                         'leaf_size': [1, 2, 3, 4, 5, 6, 7, 8, 9, 10, 11, 12,\n",
       "                                       13, 14, 15, 16, 17, 18, 19, 20, 21, 22,\n",
       "                                       23, 24, 25, 26, 27, 28, 29, 30, ...],\n",
       "                         'p': [1, 2, 3], 'weights': ['uniform', 'distance']},\n",
       "             refit='accuracy',\n",
       "             scoring={'accuracy': 'accuracy',\n",
       "                      'weighted_f1': make_scorer(f1_score, average=weighted),\n",
       "                      'weighted_precision': make_scorer(precision_score, average=weighted),\n",
       "                      'weighted_recall': make_scorer(recall_score, average=weighted)})"
      ]
     },
     "execution_count": 11,
     "metadata": {},
     "output_type": "execute_result"
    }
   ],
   "source": [
    "grid_search.fit(features, target)"
   ]
  },
  {
   "cell_type": "code",
   "execution_count": 12,
   "id": "392cf39b-db02-444e-bf80-c1942b3aaa2b",
   "metadata": {},
   "outputs": [
    {
     "name": "stdout",
     "output_type": "stream",
     "text": [
      "Best parameter for KNN Classifier = {'algorithm': 'auto', 'leaf_size': 1, 'p': 2, 'weights': 'uniform'}\n",
      "Best Accuracy Score for KNN Classifier = 0.5755128205128206\n",
      "Best Weighted Precision Score for KNN Classifier = 0.5718320213749701\n",
      "Best Weighted Recall Score for KNN Classifier = 0.5755128205128206\n",
      "Best Weighted F1 Score for KNN Classifier = 0.5675465119987295\n"
     ]
    }
   ],
   "source": [
    "best_params = grid_search.best_params_\n",
    "best_accuracy = grid_search.best_score_\n",
    "best_weighted_precision = grid_search.cv_results_['mean_test_weighted_precision'][grid_search.best_index_]\n",
    "best_weighted_recall = grid_search.cv_results_['mean_test_weighted_recall'][grid_search.best_index_]\n",
    "best_weighted_f1 = grid_search.cv_results_['mean_test_weighted_f1'][grid_search.best_index_]\n",
    "\n",
    "print(\"Best parameter for KNN Classifier =\", best_params)\n",
    "print(\"Best Accuracy Score for KNN Classifier =\", best_accuracy)\n",
    "print(\"Best Weighted Precision Score for KNN Classifier =\", best_weighted_precision)\n",
    "print(\"Best Weighted Recall Score for KNN Classifier =\", best_weighted_recall)\n",
    "print(\"Best Weighted F1 Score for KNN Classifier =\", best_weighted_f1)"
   ]
  },
  {
   "cell_type": "code",
   "execution_count": 13,
   "id": "09e54c61-25de-407f-8531-bb5599b8e569",
   "metadata": {},
   "outputs": [],
   "source": [
    "knn = KNeighborsClassifier(grid_search.best_estimator_)\n",
    "\n",
    "knn_param = {\n",
    "    'n_neighbors': list(range(1,40))\n",
    "}\n",
    "\n",
    "scoring = {\n",
    "    'accuracy': 'accuracy',\n",
    "    'weighted_precision': make_scorer(precision_score, average='weighted', zero_division=0),    \n",
    "    'weighted_recall': make_scorer(recall_score, average='weighted', zero_division=0),\n",
    "    'weighted_f1': make_scorer(f1_score, average='weighted', zero_division=0)\n",
    "}\n",
    "\n",
    "grid_search = GridSearchCV(knn, knn_param, cv=10, scoring=scoring, refit='accuracy')"
   ]
  },
  {
   "cell_type": "code",
   "execution_count": 14,
   "id": "9f5cb6a7-27e9-4f74-82fc-0a2c632cf938",
   "metadata": {},
   "outputs": [
    {
     "data": {
      "text/html": [
       "<style>#sk-container-id-2 {color: black;background-color: white;}#sk-container-id-2 pre{padding: 0;}#sk-container-id-2 div.sk-toggleable {background-color: white;}#sk-container-id-2 label.sk-toggleable__label {cursor: pointer;display: block;width: 100%;margin-bottom: 0;padding: 0.3em;box-sizing: border-box;text-align: center;}#sk-container-id-2 label.sk-toggleable__label-arrow:before {content: \"▸\";float: left;margin-right: 0.25em;color: #696969;}#sk-container-id-2 label.sk-toggleable__label-arrow:hover:before {color: black;}#sk-container-id-2 div.sk-estimator:hover label.sk-toggleable__label-arrow:before {color: black;}#sk-container-id-2 div.sk-toggleable__content {max-height: 0;max-width: 0;overflow: hidden;text-align: left;background-color: #f0f8ff;}#sk-container-id-2 div.sk-toggleable__content pre {margin: 0.2em;color: black;border-radius: 0.25em;background-color: #f0f8ff;}#sk-container-id-2 input.sk-toggleable__control:checked~div.sk-toggleable__content {max-height: 200px;max-width: 100%;overflow: auto;}#sk-container-id-2 input.sk-toggleable__control:checked~label.sk-toggleable__label-arrow:before {content: \"▾\";}#sk-container-id-2 div.sk-estimator input.sk-toggleable__control:checked~label.sk-toggleable__label {background-color: #d4ebff;}#sk-container-id-2 div.sk-label input.sk-toggleable__control:checked~label.sk-toggleable__label {background-color: #d4ebff;}#sk-container-id-2 input.sk-hidden--visually {border: 0;clip: rect(1px 1px 1px 1px);clip: rect(1px, 1px, 1px, 1px);height: 1px;margin: -1px;overflow: hidden;padding: 0;position: absolute;width: 1px;}#sk-container-id-2 div.sk-estimator {font-family: monospace;background-color: #f0f8ff;border: 1px dotted black;border-radius: 0.25em;box-sizing: border-box;margin-bottom: 0.5em;}#sk-container-id-2 div.sk-estimator:hover {background-color: #d4ebff;}#sk-container-id-2 div.sk-parallel-item::after {content: \"\";width: 100%;border-bottom: 1px solid gray;flex-grow: 1;}#sk-container-id-2 div.sk-label:hover label.sk-toggleable__label {background-color: #d4ebff;}#sk-container-id-2 div.sk-serial::before {content: \"\";position: absolute;border-left: 1px solid gray;box-sizing: border-box;top: 0;bottom: 0;left: 50%;z-index: 0;}#sk-container-id-2 div.sk-serial {display: flex;flex-direction: column;align-items: center;background-color: white;padding-right: 0.2em;padding-left: 0.2em;position: relative;}#sk-container-id-2 div.sk-item {position: relative;z-index: 1;}#sk-container-id-2 div.sk-parallel {display: flex;align-items: stretch;justify-content: center;background-color: white;position: relative;}#sk-container-id-2 div.sk-item::before, #sk-container-id-2 div.sk-parallel-item::before {content: \"\";position: absolute;border-left: 1px solid gray;box-sizing: border-box;top: 0;bottom: 0;left: 50%;z-index: -1;}#sk-container-id-2 div.sk-parallel-item {display: flex;flex-direction: column;z-index: 1;position: relative;background-color: white;}#sk-container-id-2 div.sk-parallel-item:first-child::after {align-self: flex-end;width: 50%;}#sk-container-id-2 div.sk-parallel-item:last-child::after {align-self: flex-start;width: 50%;}#sk-container-id-2 div.sk-parallel-item:only-child::after {width: 0;}#sk-container-id-2 div.sk-dashed-wrapped {border: 1px dashed gray;margin: 0 0.4em 0.5em 0.4em;box-sizing: border-box;padding-bottom: 0.4em;background-color: white;}#sk-container-id-2 div.sk-label label {font-family: monospace;font-weight: bold;display: inline-block;line-height: 1.2em;}#sk-container-id-2 div.sk-label-container {text-align: center;}#sk-container-id-2 div.sk-container {/* jupyter's `normalize.less` sets `[hidden] { display: none; }` but bootstrap.min.css set `[hidden] { display: none !important; }` so we also need the `!important` here to be able to override the default hidden behavior on the sphinx rendered scikit-learn.org. See: https://github.com/scikit-learn/scikit-learn/issues/21755 */display: inline-block !important;position: relative;}#sk-container-id-2 div.sk-text-repr-fallback {display: none;}</style><div id=\"sk-container-id-2\" class=\"sk-top-container\"><div class=\"sk-text-repr-fallback\"><pre>GridSearchCV(cv=10,\n",
       "             estimator=KNeighborsClassifier(n_neighbors=KNeighborsClassifier(leaf_size=1)),\n",
       "             param_grid={&#x27;n_neighbors&#x27;: [1, 2, 3, 4, 5, 6, 7, 8, 9, 10, 11, 12,\n",
       "                                         13, 14, 15, 16, 17, 18, 19, 20, 21, 22,\n",
       "                                         23, 24, 25, 26, 27, 28, 29, 30, ...]},\n",
       "             refit=&#x27;accuracy&#x27;,\n",
       "             scoring={&#x27;accuracy&#x27;: &#x27;accuracy&#x27;,\n",
       "                      &#x27;weighted_f1&#x27;: make_scorer(f1_score, average=weighted, zero_division=0),\n",
       "                      &#x27;weighted_precision&#x27;: make_scorer(precision_score, average=weighted, zero_division=0),\n",
       "                      &#x27;weighted_recall&#x27;: make_scorer(recall_score, average=weighted, zero_division=0)})</pre><b>In a Jupyter environment, please rerun this cell to show the HTML representation or trust the notebook. <br />On GitHub, the HTML representation is unable to render, please try loading this page with nbviewer.org.</b></div><div class=\"sk-container\" hidden><div class=\"sk-item sk-dashed-wrapped\"><div class=\"sk-label-container\"><div class=\"sk-label sk-toggleable\"><input class=\"sk-toggleable__control sk-hidden--visually\" id=\"sk-estimator-id-4\" type=\"checkbox\" ><label for=\"sk-estimator-id-4\" class=\"sk-toggleable__label sk-toggleable__label-arrow\">GridSearchCV</label><div class=\"sk-toggleable__content\"><pre>GridSearchCV(cv=10,\n",
       "             estimator=KNeighborsClassifier(n_neighbors=KNeighborsClassifier(leaf_size=1)),\n",
       "             param_grid={&#x27;n_neighbors&#x27;: [1, 2, 3, 4, 5, 6, 7, 8, 9, 10, 11, 12,\n",
       "                                         13, 14, 15, 16, 17, 18, 19, 20, 21, 22,\n",
       "                                         23, 24, 25, 26, 27, 28, 29, 30, ...]},\n",
       "             refit=&#x27;accuracy&#x27;,\n",
       "             scoring={&#x27;accuracy&#x27;: &#x27;accuracy&#x27;,\n",
       "                      &#x27;weighted_f1&#x27;: make_scorer(f1_score, average=weighted, zero_division=0),\n",
       "                      &#x27;weighted_precision&#x27;: make_scorer(precision_score, average=weighted, zero_division=0),\n",
       "                      &#x27;weighted_recall&#x27;: make_scorer(recall_score, average=weighted, zero_division=0)})</pre></div></div></div><div class=\"sk-parallel\"><div class=\"sk-parallel-item\"><div class=\"sk-item\"><div class=\"sk-label-container\"><div class=\"sk-label sk-toggleable\"><input class=\"sk-toggleable__control sk-hidden--visually\" id=\"sk-estimator-id-5\" type=\"checkbox\" ><label for=\"sk-estimator-id-5\" class=\"sk-toggleable__label sk-toggleable__label-arrow\">estimator: KNeighborsClassifier</label><div class=\"sk-toggleable__content\"><pre>KNeighborsClassifier(n_neighbors=KNeighborsClassifier(leaf_size=1))</pre></div></div></div><div class=\"sk-serial\"><div class=\"sk-item sk-dashed-wrapped\"><div class=\"sk-parallel\"><div class=\"sk-parallel-item\"><div class=\"sk-item\"><div class=\"sk-label-container\"><div class=\"sk-label sk-toggleable\"><input class=\"sk-toggleable__control sk-hidden--visually\" id=\"sk-estimator-id-6\" type=\"checkbox\" ><label for=\"sk-estimator-id-6\" class=\"sk-toggleable__label sk-toggleable__label-arrow\">n_neighbors: KNeighborsClassifier</label><div class=\"sk-toggleable__content\"><pre>KNeighborsClassifier(leaf_size=1)</pre></div></div></div><div class=\"sk-serial\"><div class=\"sk-item\"><div class=\"sk-estimator sk-toggleable\"><input class=\"sk-toggleable__control sk-hidden--visually\" id=\"sk-estimator-id-7\" type=\"checkbox\" ><label for=\"sk-estimator-id-7\" class=\"sk-toggleable__label sk-toggleable__label-arrow\">KNeighborsClassifier</label><div class=\"sk-toggleable__content\"><pre>KNeighborsClassifier(leaf_size=1)</pre></div></div></div></div></div></div></div></div></div></div></div></div></div></div></div>"
      ],
      "text/plain": [
       "GridSearchCV(cv=10,\n",
       "             estimator=KNeighborsClassifier(n_neighbors=KNeighborsClassifier(leaf_size=1)),\n",
       "             param_grid={'n_neighbors': [1, 2, 3, 4, 5, 6, 7, 8, 9, 10, 11, 12,\n",
       "                                         13, 14, 15, 16, 17, 18, 19, 20, 21, 22,\n",
       "                                         23, 24, 25, 26, 27, 28, 29, 30, ...]},\n",
       "             refit='accuracy',\n",
       "             scoring={'accuracy': 'accuracy',\n",
       "                      'weighted_f1': make_scorer(f1_score, average=weighted, zero_division=0),\n",
       "                      'weighted_precision': make_scorer(precision_score, average=weighted, zero_division=0),\n",
       "                      'weighted_recall': make_scorer(recall_score, average=weighted, zero_division=0)})"
      ]
     },
     "execution_count": 14,
     "metadata": {},
     "output_type": "execute_result"
    }
   ],
   "source": [
    "grid_search.fit(features, target)"
   ]
  },
  {
   "cell_type": "code",
   "execution_count": 15,
   "id": "6af7335c-953c-4ec5-aa63-df1dfa54ca5c",
   "metadata": {
    "scrolled": true
   },
   "outputs": [
    {
     "name": "stdout",
     "output_type": "stream",
     "text": [
      "Best parameter for KNN Classifier = {'n_neighbors': 39}\n",
      "Best Accuracy Score for KNN Classifier = 0.6012179487179486\n",
      "Best Weighted Precision Score for KNN Classifier = 0.6051822059967863\n",
      "Best Weighted Recall Score for KNN Classifier = 0.6012179487179486\n",
      "Best Weighted F1 Score for KNN Classifier = 0.5720967818437168\n"
     ]
    }
   ],
   "source": [
    "best_params = grid_search.best_params_\n",
    "best_accuracy = grid_search.best_score_\n",
    "best_weighted_precision = grid_search.cv_results_['mean_test_weighted_precision'][grid_search.best_index_]\n",
    "best_weighted_recall = grid_search.cv_results_['mean_test_weighted_recall'][grid_search.best_index_]\n",
    "best_weighted_f1 = grid_search.cv_results_['mean_test_weighted_f1'][grid_search.best_index_]\n",
    "\n",
    "print(\"Best parameter for KNN Classifier =\", best_params)\n",
    "print(\"Best Accuracy Score for KNN Classifier =\", best_accuracy)\n",
    "print(\"Best Weighted Precision Score for KNN Classifier =\", best_weighted_precision)\n",
    "print(\"Best Weighted Recall Score for KNN Classifier =\", best_weighted_recall)\n",
    "print(\"Best Weighted F1 Score for KNN Classifier =\", best_weighted_f1)"
   ]
  },
  {
   "cell_type": "markdown",
   "id": "61bf7077-f8f3-437b-840f-a04b1000d8fb",
   "metadata": {},
   "source": [
    "## Decision Tree Classifier"
   ]
  },
  {
   "cell_type": "code",
   "execution_count": 7,
   "id": "54642bbc-e2ee-4380-9dad-d7d554674321",
   "metadata": {},
   "outputs": [],
   "source": [
    "from sklearn.model_selection import GridSearchCV\n",
    "from sklearn.tree import DecisionTreeClassifier\n",
    "from sklearn.metrics import make_scorer, accuracy_score, precision_score, recall_score, f1_score\n",
    "\n",
    "dt = DecisionTreeClassifier(random_state=0)\n",
    "\n",
    "dt_param = {\n",
    "     'max_depth': [3, 5, 7, 10, 15, None],\n",
    "     'min_samples_leaf': [1, 3, 5, 10, 15, 20],\n",
    "     'min_samples_split': [2, 4, 6, 8, 10, 12, 14, 16, 18, 20],\n",
    "     'criterion': ['gini', 'entropy', 'log_loss'],\n",
    "}\n",
    "\n",
    "scoring = {\n",
    "    'accuracy': 'accuracy',\n",
    "    'weighted_precision': make_scorer(precision_score, average='weighted'),\n",
    "    'weighted_recall': make_scorer(recall_score, average='weighted'),\n",
    "    'weighted_f1': make_scorer(f1_score, average='weighted')\n",
    "    \n",
    "}\n",
    "\n",
    "grid_search = GridSearchCV(dt, dt_param, cv=10, scoring=scoring, refit='accuracy')"
   ]
  },
  {
   "cell_type": "code",
   "execution_count": 8,
   "id": "04afb3db-4979-45ec-b210-5b8b0590acbd",
   "metadata": {},
   "outputs": [
    {
     "data": {
      "text/html": [
       "<style>#sk-container-id-2 {color: black;background-color: white;}#sk-container-id-2 pre{padding: 0;}#sk-container-id-2 div.sk-toggleable {background-color: white;}#sk-container-id-2 label.sk-toggleable__label {cursor: pointer;display: block;width: 100%;margin-bottom: 0;padding: 0.3em;box-sizing: border-box;text-align: center;}#sk-container-id-2 label.sk-toggleable__label-arrow:before {content: \"▸\";float: left;margin-right: 0.25em;color: #696969;}#sk-container-id-2 label.sk-toggleable__label-arrow:hover:before {color: black;}#sk-container-id-2 div.sk-estimator:hover label.sk-toggleable__label-arrow:before {color: black;}#sk-container-id-2 div.sk-toggleable__content {max-height: 0;max-width: 0;overflow: hidden;text-align: left;background-color: #f0f8ff;}#sk-container-id-2 div.sk-toggleable__content pre {margin: 0.2em;color: black;border-radius: 0.25em;background-color: #f0f8ff;}#sk-container-id-2 input.sk-toggleable__control:checked~div.sk-toggleable__content {max-height: 200px;max-width: 100%;overflow: auto;}#sk-container-id-2 input.sk-toggleable__control:checked~label.sk-toggleable__label-arrow:before {content: \"▾\";}#sk-container-id-2 div.sk-estimator input.sk-toggleable__control:checked~label.sk-toggleable__label {background-color: #d4ebff;}#sk-container-id-2 div.sk-label input.sk-toggleable__control:checked~label.sk-toggleable__label {background-color: #d4ebff;}#sk-container-id-2 input.sk-hidden--visually {border: 0;clip: rect(1px 1px 1px 1px);clip: rect(1px, 1px, 1px, 1px);height: 1px;margin: -1px;overflow: hidden;padding: 0;position: absolute;width: 1px;}#sk-container-id-2 div.sk-estimator {font-family: monospace;background-color: #f0f8ff;border: 1px dotted black;border-radius: 0.25em;box-sizing: border-box;margin-bottom: 0.5em;}#sk-container-id-2 div.sk-estimator:hover {background-color: #d4ebff;}#sk-container-id-2 div.sk-parallel-item::after {content: \"\";width: 100%;border-bottom: 1px solid gray;flex-grow: 1;}#sk-container-id-2 div.sk-label:hover label.sk-toggleable__label {background-color: #d4ebff;}#sk-container-id-2 div.sk-serial::before {content: \"\";position: absolute;border-left: 1px solid gray;box-sizing: border-box;top: 0;bottom: 0;left: 50%;z-index: 0;}#sk-container-id-2 div.sk-serial {display: flex;flex-direction: column;align-items: center;background-color: white;padding-right: 0.2em;padding-left: 0.2em;position: relative;}#sk-container-id-2 div.sk-item {position: relative;z-index: 1;}#sk-container-id-2 div.sk-parallel {display: flex;align-items: stretch;justify-content: center;background-color: white;position: relative;}#sk-container-id-2 div.sk-item::before, #sk-container-id-2 div.sk-parallel-item::before {content: \"\";position: absolute;border-left: 1px solid gray;box-sizing: border-box;top: 0;bottom: 0;left: 50%;z-index: -1;}#sk-container-id-2 div.sk-parallel-item {display: flex;flex-direction: column;z-index: 1;position: relative;background-color: white;}#sk-container-id-2 div.sk-parallel-item:first-child::after {align-self: flex-end;width: 50%;}#sk-container-id-2 div.sk-parallel-item:last-child::after {align-self: flex-start;width: 50%;}#sk-container-id-2 div.sk-parallel-item:only-child::after {width: 0;}#sk-container-id-2 div.sk-dashed-wrapped {border: 1px dashed gray;margin: 0 0.4em 0.5em 0.4em;box-sizing: border-box;padding-bottom: 0.4em;background-color: white;}#sk-container-id-2 div.sk-label label {font-family: monospace;font-weight: bold;display: inline-block;line-height: 1.2em;}#sk-container-id-2 div.sk-label-container {text-align: center;}#sk-container-id-2 div.sk-container {/* jupyter's `normalize.less` sets `[hidden] { display: none; }` but bootstrap.min.css set `[hidden] { display: none !important; }` so we also need the `!important` here to be able to override the default hidden behavior on the sphinx rendered scikit-learn.org. See: https://github.com/scikit-learn/scikit-learn/issues/21755 */display: inline-block !important;position: relative;}#sk-container-id-2 div.sk-text-repr-fallback {display: none;}</style><div id=\"sk-container-id-2\" class=\"sk-top-container\"><div class=\"sk-text-repr-fallback\"><pre>GridSearchCV(cv=10, estimator=DecisionTreeClassifier(random_state=0),\n",
       "             param_grid={&#x27;criterion&#x27;: [&#x27;gini&#x27;, &#x27;entropy&#x27;, &#x27;log_loss&#x27;],\n",
       "                         &#x27;max_depth&#x27;: [3, 5, 7, 10, 15, None],\n",
       "                         &#x27;min_samples_leaf&#x27;: [1, 3, 5, 10, 15, 20],\n",
       "                         &#x27;min_samples_split&#x27;: [2, 4, 6, 8, 10, 12, 14, 16, 18,\n",
       "                                               20]},\n",
       "             refit=&#x27;accuracy&#x27;,\n",
       "             scoring={&#x27;accuracy&#x27;: &#x27;accuracy&#x27;,\n",
       "                      &#x27;weighted_f1&#x27;: make_scorer(f1_score, average=weighted),\n",
       "                      &#x27;weighted_precision&#x27;: make_scorer(precision_score, average=weighted),\n",
       "                      &#x27;weighted_recall&#x27;: make_scorer(recall_score, average=weighted)})</pre><b>In a Jupyter environment, please rerun this cell to show the HTML representation or trust the notebook. <br />On GitHub, the HTML representation is unable to render, please try loading this page with nbviewer.org.</b></div><div class=\"sk-container\" hidden><div class=\"sk-item sk-dashed-wrapped\"><div class=\"sk-label-container\"><div class=\"sk-label sk-toggleable\"><input class=\"sk-toggleable__control sk-hidden--visually\" id=\"sk-estimator-id-4\" type=\"checkbox\" ><label for=\"sk-estimator-id-4\" class=\"sk-toggleable__label sk-toggleable__label-arrow\">GridSearchCV</label><div class=\"sk-toggleable__content\"><pre>GridSearchCV(cv=10, estimator=DecisionTreeClassifier(random_state=0),\n",
       "             param_grid={&#x27;criterion&#x27;: [&#x27;gini&#x27;, &#x27;entropy&#x27;, &#x27;log_loss&#x27;],\n",
       "                         &#x27;max_depth&#x27;: [3, 5, 7, 10, 15, None],\n",
       "                         &#x27;min_samples_leaf&#x27;: [1, 3, 5, 10, 15, 20],\n",
       "                         &#x27;min_samples_split&#x27;: [2, 4, 6, 8, 10, 12, 14, 16, 18,\n",
       "                                               20]},\n",
       "             refit=&#x27;accuracy&#x27;,\n",
       "             scoring={&#x27;accuracy&#x27;: &#x27;accuracy&#x27;,\n",
       "                      &#x27;weighted_f1&#x27;: make_scorer(f1_score, average=weighted),\n",
       "                      &#x27;weighted_precision&#x27;: make_scorer(precision_score, average=weighted),\n",
       "                      &#x27;weighted_recall&#x27;: make_scorer(recall_score, average=weighted)})</pre></div></div></div><div class=\"sk-parallel\"><div class=\"sk-parallel-item\"><div class=\"sk-item\"><div class=\"sk-label-container\"><div class=\"sk-label sk-toggleable\"><input class=\"sk-toggleable__control sk-hidden--visually\" id=\"sk-estimator-id-5\" type=\"checkbox\" ><label for=\"sk-estimator-id-5\" class=\"sk-toggleable__label sk-toggleable__label-arrow\">estimator: DecisionTreeClassifier</label><div class=\"sk-toggleable__content\"><pre>DecisionTreeClassifier(random_state=0)</pre></div></div></div><div class=\"sk-serial\"><div class=\"sk-item\"><div class=\"sk-estimator sk-toggleable\"><input class=\"sk-toggleable__control sk-hidden--visually\" id=\"sk-estimator-id-6\" type=\"checkbox\" ><label for=\"sk-estimator-id-6\" class=\"sk-toggleable__label sk-toggleable__label-arrow\">DecisionTreeClassifier</label><div class=\"sk-toggleable__content\"><pre>DecisionTreeClassifier(random_state=0)</pre></div></div></div></div></div></div></div></div></div></div>"
      ],
      "text/plain": [
       "GridSearchCV(cv=10, estimator=DecisionTreeClassifier(random_state=0),\n",
       "             param_grid={'criterion': ['gini', 'entropy', 'log_loss'],\n",
       "                         'max_depth': [3, 5, 7, 10, 15, None],\n",
       "                         'min_samples_leaf': [1, 3, 5, 10, 15, 20],\n",
       "                         'min_samples_split': [2, 4, 6, 8, 10, 12, 14, 16, 18,\n",
       "                                               20]},\n",
       "             refit='accuracy',\n",
       "             scoring={'accuracy': 'accuracy',\n",
       "                      'weighted_f1': make_scorer(f1_score, average=weighted),\n",
       "                      'weighted_precision': make_scorer(precision_score, average=weighted),\n",
       "                      'weighted_recall': make_scorer(recall_score, average=weighted)})"
      ]
     },
     "execution_count": 8,
     "metadata": {},
     "output_type": "execute_result"
    }
   ],
   "source": [
    "grid_search.fit(features, target)"
   ]
  },
  {
   "cell_type": "code",
   "execution_count": 9,
   "id": "0badb12f-76ed-4e52-a455-e403105aa7ac",
   "metadata": {},
   "outputs": [
    {
     "name": "stdout",
     "output_type": "stream",
     "text": [
      "Best parameter for Decision Tree Classifier = {'criterion': 'entropy', 'max_depth': 15, 'min_samples_leaf': 1, 'min_samples_split': 2}\n",
      "Best Accuracy Score for Decision Tree Classifier = 0.6035897435897436\n",
      "Best Weighted Precision Score for Decision Tree Classifier = 0.6030396053688901\n",
      "Best Weighted Recall Score for Decision Tree Classifier = 0.6035897435897436\n",
      "Best Weighted F1 Score for Decision Tree Classifier = 0.5991395461648829\n"
     ]
    }
   ],
   "source": [
    "best_params = grid_search.best_params_\n",
    "best_accuracy = grid_search.best_score_\n",
    "best_weighted_precision = grid_search.cv_results_['mean_test_weighted_precision'][grid_search.best_index_]\n",
    "best_weighted_recall = grid_search.cv_results_['mean_test_weighted_recall'][grid_search.best_index_]\n",
    "best_weighted_f1 = grid_search.cv_results_['mean_test_weighted_f1'][grid_search.best_index_]\n",
    "\n",
    "print(\"Best parameter for Decision Tree Classifier =\", best_params)\n",
    "print(\"Best Accuracy Score for Decision Tree Classifier =\", best_accuracy)\n",
    "print(\"Best Weighted Precision Score for Decision Tree Classifier =\", best_weighted_precision)\n",
    "print(\"Best Weighted Recall Score for Decision Tree Classifier =\", best_weighted_recall)\n",
    "print(\"Best Weighted F1 Score for Decision Tree Classifier =\", best_weighted_f1)"
   ]
  },
  {
   "cell_type": "markdown",
   "id": "e1f2ab68-3966-4b2b-8bc6-da144cad74cd",
   "metadata": {},
   "source": [
    "## Naive Bayes Classifier"
   ]
  },
  {
   "cell_type": "markdown",
   "id": "2c146796-3582-4aae-aff4-da6c93d95673",
   "metadata": {},
   "source": [
    "### Gaussian Naive Bayes"
   ]
  },
  {
   "cell_type": "code",
   "execution_count": 73,
   "id": "cf661e58-8a84-4d1b-950c-e0fa1cc00ea0",
   "metadata": {},
   "outputs": [],
   "source": [
    "from sklearn.model_selection import GridSearchCV\n",
    "from sklearn.naive_bayes import GaussianNB\n",
    "from sklearn.metrics import make_scorer, accuracy_score, precision_score, recall_score, f1_score\n",
    "\n",
    "gnb = GaussianNB()\n",
    "\n",
    "gnb_param = {\n",
    "    'var_smoothing': [1e-9, 1e-8, 1e-7, 1e-6, 1e-5, 1e-4]  \n",
    "}\n",
    "\n",
    "scoring = {\n",
    "    'accuracy': 'accuracy',\n",
    "    'weighted_precision': make_scorer(precision_score, average='weighted'),\n",
    "    'weighted_recall': make_scorer(recall_score, average='weighted'),\n",
    "    'weighted_f1': make_scorer(f1_score, average='weighted')\n",
    "    \n",
    "}\n",
    "\n",
    "grid_search = GridSearchCV(gnb, gnb_param, cv=10, scoring=scoring, refit='accuracy')"
   ]
  },
  {
   "cell_type": "code",
   "execution_count": 74,
   "id": "5bfc482f-8c92-406b-bb80-342d22dbcfc0",
   "metadata": {
    "scrolled": true
   },
   "outputs": [
    {
     "data": {
      "text/html": [
       "<style>#sk-container-id-17 {color: black;background-color: white;}#sk-container-id-17 pre{padding: 0;}#sk-container-id-17 div.sk-toggleable {background-color: white;}#sk-container-id-17 label.sk-toggleable__label {cursor: pointer;display: block;width: 100%;margin-bottom: 0;padding: 0.3em;box-sizing: border-box;text-align: center;}#sk-container-id-17 label.sk-toggleable__label-arrow:before {content: \"▸\";float: left;margin-right: 0.25em;color: #696969;}#sk-container-id-17 label.sk-toggleable__label-arrow:hover:before {color: black;}#sk-container-id-17 div.sk-estimator:hover label.sk-toggleable__label-arrow:before {color: black;}#sk-container-id-17 div.sk-toggleable__content {max-height: 0;max-width: 0;overflow: hidden;text-align: left;background-color: #f0f8ff;}#sk-container-id-17 div.sk-toggleable__content pre {margin: 0.2em;color: black;border-radius: 0.25em;background-color: #f0f8ff;}#sk-container-id-17 input.sk-toggleable__control:checked~div.sk-toggleable__content {max-height: 200px;max-width: 100%;overflow: auto;}#sk-container-id-17 input.sk-toggleable__control:checked~label.sk-toggleable__label-arrow:before {content: \"▾\";}#sk-container-id-17 div.sk-estimator input.sk-toggleable__control:checked~label.sk-toggleable__label {background-color: #d4ebff;}#sk-container-id-17 div.sk-label input.sk-toggleable__control:checked~label.sk-toggleable__label {background-color: #d4ebff;}#sk-container-id-17 input.sk-hidden--visually {border: 0;clip: rect(1px 1px 1px 1px);clip: rect(1px, 1px, 1px, 1px);height: 1px;margin: -1px;overflow: hidden;padding: 0;position: absolute;width: 1px;}#sk-container-id-17 div.sk-estimator {font-family: monospace;background-color: #f0f8ff;border: 1px dotted black;border-radius: 0.25em;box-sizing: border-box;margin-bottom: 0.5em;}#sk-container-id-17 div.sk-estimator:hover {background-color: #d4ebff;}#sk-container-id-17 div.sk-parallel-item::after {content: \"\";width: 100%;border-bottom: 1px solid gray;flex-grow: 1;}#sk-container-id-17 div.sk-label:hover label.sk-toggleable__label {background-color: #d4ebff;}#sk-container-id-17 div.sk-serial::before {content: \"\";position: absolute;border-left: 1px solid gray;box-sizing: border-box;top: 0;bottom: 0;left: 50%;z-index: 0;}#sk-container-id-17 div.sk-serial {display: flex;flex-direction: column;align-items: center;background-color: white;padding-right: 0.2em;padding-left: 0.2em;position: relative;}#sk-container-id-17 div.sk-item {position: relative;z-index: 1;}#sk-container-id-17 div.sk-parallel {display: flex;align-items: stretch;justify-content: center;background-color: white;position: relative;}#sk-container-id-17 div.sk-item::before, #sk-container-id-17 div.sk-parallel-item::before {content: \"\";position: absolute;border-left: 1px solid gray;box-sizing: border-box;top: 0;bottom: 0;left: 50%;z-index: -1;}#sk-container-id-17 div.sk-parallel-item {display: flex;flex-direction: column;z-index: 1;position: relative;background-color: white;}#sk-container-id-17 div.sk-parallel-item:first-child::after {align-self: flex-end;width: 50%;}#sk-container-id-17 div.sk-parallel-item:last-child::after {align-self: flex-start;width: 50%;}#sk-container-id-17 div.sk-parallel-item:only-child::after {width: 0;}#sk-container-id-17 div.sk-dashed-wrapped {border: 1px dashed gray;margin: 0 0.4em 0.5em 0.4em;box-sizing: border-box;padding-bottom: 0.4em;background-color: white;}#sk-container-id-17 div.sk-label label {font-family: monospace;font-weight: bold;display: inline-block;line-height: 1.2em;}#sk-container-id-17 div.sk-label-container {text-align: center;}#sk-container-id-17 div.sk-container {/* jupyter's `normalize.less` sets `[hidden] { display: none; }` but bootstrap.min.css set `[hidden] { display: none !important; }` so we also need the `!important` here to be able to override the default hidden behavior on the sphinx rendered scikit-learn.org. See: https://github.com/scikit-learn/scikit-learn/issues/21755 */display: inline-block !important;position: relative;}#sk-container-id-17 div.sk-text-repr-fallback {display: none;}</style><div id=\"sk-container-id-17\" class=\"sk-top-container\"><div class=\"sk-text-repr-fallback\"><pre>GridSearchCV(cv=10, estimator=GaussianNB(),\n",
       "             param_grid={&#x27;var_smoothing&#x27;: [1e-09, 1e-08, 1e-07, 1e-06, 1e-05,\n",
       "                                           0.0001]},\n",
       "             refit=&#x27;accuracy&#x27;,\n",
       "             scoring={&#x27;accuracy&#x27;: &#x27;accuracy&#x27;,\n",
       "                      &#x27;weighted_f1&#x27;: make_scorer(f1_score, average=weighted),\n",
       "                      &#x27;weighted_precision&#x27;: make_scorer(precision_score, average=weighted),\n",
       "                      &#x27;weighted_recall&#x27;: make_scorer(recall_score, average=weighted)})</pre><b>In a Jupyter environment, please rerun this cell to show the HTML representation or trust the notebook. <br />On GitHub, the HTML representation is unable to render, please try loading this page with nbviewer.org.</b></div><div class=\"sk-container\" hidden><div class=\"sk-item sk-dashed-wrapped\"><div class=\"sk-label-container\"><div class=\"sk-label sk-toggleable\"><input class=\"sk-toggleable__control sk-hidden--visually\" id=\"sk-estimator-id-50\" type=\"checkbox\" ><label for=\"sk-estimator-id-50\" class=\"sk-toggleable__label sk-toggleable__label-arrow\">GridSearchCV</label><div class=\"sk-toggleable__content\"><pre>GridSearchCV(cv=10, estimator=GaussianNB(),\n",
       "             param_grid={&#x27;var_smoothing&#x27;: [1e-09, 1e-08, 1e-07, 1e-06, 1e-05,\n",
       "                                           0.0001]},\n",
       "             refit=&#x27;accuracy&#x27;,\n",
       "             scoring={&#x27;accuracy&#x27;: &#x27;accuracy&#x27;,\n",
       "                      &#x27;weighted_f1&#x27;: make_scorer(f1_score, average=weighted),\n",
       "                      &#x27;weighted_precision&#x27;: make_scorer(precision_score, average=weighted),\n",
       "                      &#x27;weighted_recall&#x27;: make_scorer(recall_score, average=weighted)})</pre></div></div></div><div class=\"sk-parallel\"><div class=\"sk-parallel-item\"><div class=\"sk-item\"><div class=\"sk-label-container\"><div class=\"sk-label sk-toggleable\"><input class=\"sk-toggleable__control sk-hidden--visually\" id=\"sk-estimator-id-51\" type=\"checkbox\" ><label for=\"sk-estimator-id-51\" class=\"sk-toggleable__label sk-toggleable__label-arrow\">estimator: GaussianNB</label><div class=\"sk-toggleable__content\"><pre>GaussianNB()</pre></div></div></div><div class=\"sk-serial\"><div class=\"sk-item\"><div class=\"sk-estimator sk-toggleable\"><input class=\"sk-toggleable__control sk-hidden--visually\" id=\"sk-estimator-id-52\" type=\"checkbox\" ><label for=\"sk-estimator-id-52\" class=\"sk-toggleable__label sk-toggleable__label-arrow\">GaussianNB</label><div class=\"sk-toggleable__content\"><pre>GaussianNB()</pre></div></div></div></div></div></div></div></div></div></div>"
      ],
      "text/plain": [
       "GridSearchCV(cv=10, estimator=GaussianNB(),\n",
       "             param_grid={'var_smoothing': [1e-09, 1e-08, 1e-07, 1e-06, 1e-05,\n",
       "                                           0.0001]},\n",
       "             refit='accuracy',\n",
       "             scoring={'accuracy': 'accuracy',\n",
       "                      'weighted_f1': make_scorer(f1_score, average=weighted),\n",
       "                      'weighted_precision': make_scorer(precision_score, average=weighted),\n",
       "                      'weighted_recall': make_scorer(recall_score, average=weighted)})"
      ]
     },
     "execution_count": 74,
     "metadata": {},
     "output_type": "execute_result"
    }
   ],
   "source": [
    "grid_search.fit(features, target)"
   ]
  },
  {
   "cell_type": "code",
   "execution_count": 75,
   "id": "acee72b3-7e3a-46f7-8379-ba0debf4d092",
   "metadata": {
    "scrolled": true
   },
   "outputs": [
    {
     "name": "stdout",
     "output_type": "stream",
     "text": [
      "Best parameter for Gaussian Naive Bayes = {'var_smoothing': 1e-09}\n",
      "Best Accuracy Score for Gaussian Naive Bayes = 0.5933333333333335\n",
      "Best Weighted Precision Score for Gaussian Naive Bayes = 0.6298916290637484\n",
      "Best Weighted Recall Score for Gaussian Naive Bayes = 0.5933333333333335\n",
      "Best Weighted F1 Score for Gaussian Naive Bayes = 0.5245600411982516\n"
     ]
    }
   ],
   "source": [
    "best_params = grid_search.best_params_\n",
    "best_accuracy = grid_search.best_score_\n",
    "best_weighted_precision = grid_search.cv_results_['mean_test_weighted_precision'][grid_search.best_index_]\n",
    "best_weighted_recall = grid_search.cv_results_['mean_test_weighted_recall'][grid_search.best_index_]\n",
    "best_weighted_f1 = grid_search.cv_results_['mean_test_weighted_f1'][grid_search.best_index_]\n",
    "\n",
    "print(\"Best parameter for Gaussian Naive Bayes =\", best_params)\n",
    "print(\"Best Accuracy Score for Gaussian Naive Bayes =\", best_accuracy)\n",
    "print(\"Best Weighted Precision Score for Gaussian Naive Bayes =\", best_weighted_precision)\n",
    "print(\"Best Weighted Recall Score for Gaussian Naive Bayes =\", best_weighted_recall)\n",
    "print(\"Best Weighted F1 Score for Gaussian Naive Bayes =\", best_weighted_f1)"
   ]
  },
  {
   "cell_type": "markdown",
   "id": "8499726d-4abe-499c-97a8-0702bd3767b8",
   "metadata": {},
   "source": [
    "### Bernoulli Naive Bayes"
   ]
  },
  {
   "cell_type": "code",
   "execution_count": 76,
   "id": "96e58a24-c47b-42d1-8fcd-1921f4bb18da",
   "metadata": {},
   "outputs": [],
   "source": [
    "from sklearn.model_selection import GridSearchCV\n",
    "from sklearn.naive_bayes import BernoulliNB\n",
    "from sklearn.metrics import make_scorer, accuracy_score, precision_score, recall_score, f1_score\n",
    "\n",
    "bnb = BernoulliNB()\n",
    "\n",
    "bnb_param = {\n",
    "    'binarize': [0.0, 0.5, 1.0],  \n",
    "    'alpha': [0.5, 1.0, 2.0], \n",
    "    'force_alpha': [True,False],\n",
    "    'fit_prior': [True,False]\n",
    "}\n",
    "\n",
    "scoring = {\n",
    "    'accuracy': 'accuracy',\n",
    "    'weighted_precision': make_scorer(precision_score, average='weighted', zero_division=0),\n",
    "    'weighted_recall': make_scorer(recall_score, average='weighted', zero_division=0),\n",
    "    'weighted_f1': make_scorer(f1_score, average='weighted', zero_division=0),\n",
    "\n",
    "}\n",
    "\n",
    "grid_search = GridSearchCV(bnb, bnb_param, cv=10, scoring=scoring, refit='accuracy')"
   ]
  },
  {
   "cell_type": "code",
   "execution_count": 77,
   "id": "e264dece-5a63-4bf9-9711-cf8c409b542c",
   "metadata": {},
   "outputs": [
    {
     "data": {
      "text/html": [
       "<style>#sk-container-id-18 {color: black;background-color: white;}#sk-container-id-18 pre{padding: 0;}#sk-container-id-18 div.sk-toggleable {background-color: white;}#sk-container-id-18 label.sk-toggleable__label {cursor: pointer;display: block;width: 100%;margin-bottom: 0;padding: 0.3em;box-sizing: border-box;text-align: center;}#sk-container-id-18 label.sk-toggleable__label-arrow:before {content: \"▸\";float: left;margin-right: 0.25em;color: #696969;}#sk-container-id-18 label.sk-toggleable__label-arrow:hover:before {color: black;}#sk-container-id-18 div.sk-estimator:hover label.sk-toggleable__label-arrow:before {color: black;}#sk-container-id-18 div.sk-toggleable__content {max-height: 0;max-width: 0;overflow: hidden;text-align: left;background-color: #f0f8ff;}#sk-container-id-18 div.sk-toggleable__content pre {margin: 0.2em;color: black;border-radius: 0.25em;background-color: #f0f8ff;}#sk-container-id-18 input.sk-toggleable__control:checked~div.sk-toggleable__content {max-height: 200px;max-width: 100%;overflow: auto;}#sk-container-id-18 input.sk-toggleable__control:checked~label.sk-toggleable__label-arrow:before {content: \"▾\";}#sk-container-id-18 div.sk-estimator input.sk-toggleable__control:checked~label.sk-toggleable__label {background-color: #d4ebff;}#sk-container-id-18 div.sk-label input.sk-toggleable__control:checked~label.sk-toggleable__label {background-color: #d4ebff;}#sk-container-id-18 input.sk-hidden--visually {border: 0;clip: rect(1px 1px 1px 1px);clip: rect(1px, 1px, 1px, 1px);height: 1px;margin: -1px;overflow: hidden;padding: 0;position: absolute;width: 1px;}#sk-container-id-18 div.sk-estimator {font-family: monospace;background-color: #f0f8ff;border: 1px dotted black;border-radius: 0.25em;box-sizing: border-box;margin-bottom: 0.5em;}#sk-container-id-18 div.sk-estimator:hover {background-color: #d4ebff;}#sk-container-id-18 div.sk-parallel-item::after {content: \"\";width: 100%;border-bottom: 1px solid gray;flex-grow: 1;}#sk-container-id-18 div.sk-label:hover label.sk-toggleable__label {background-color: #d4ebff;}#sk-container-id-18 div.sk-serial::before {content: \"\";position: absolute;border-left: 1px solid gray;box-sizing: border-box;top: 0;bottom: 0;left: 50%;z-index: 0;}#sk-container-id-18 div.sk-serial {display: flex;flex-direction: column;align-items: center;background-color: white;padding-right: 0.2em;padding-left: 0.2em;position: relative;}#sk-container-id-18 div.sk-item {position: relative;z-index: 1;}#sk-container-id-18 div.sk-parallel {display: flex;align-items: stretch;justify-content: center;background-color: white;position: relative;}#sk-container-id-18 div.sk-item::before, #sk-container-id-18 div.sk-parallel-item::before {content: \"\";position: absolute;border-left: 1px solid gray;box-sizing: border-box;top: 0;bottom: 0;left: 50%;z-index: -1;}#sk-container-id-18 div.sk-parallel-item {display: flex;flex-direction: column;z-index: 1;position: relative;background-color: white;}#sk-container-id-18 div.sk-parallel-item:first-child::after {align-self: flex-end;width: 50%;}#sk-container-id-18 div.sk-parallel-item:last-child::after {align-self: flex-start;width: 50%;}#sk-container-id-18 div.sk-parallel-item:only-child::after {width: 0;}#sk-container-id-18 div.sk-dashed-wrapped {border: 1px dashed gray;margin: 0 0.4em 0.5em 0.4em;box-sizing: border-box;padding-bottom: 0.4em;background-color: white;}#sk-container-id-18 div.sk-label label {font-family: monospace;font-weight: bold;display: inline-block;line-height: 1.2em;}#sk-container-id-18 div.sk-label-container {text-align: center;}#sk-container-id-18 div.sk-container {/* jupyter's `normalize.less` sets `[hidden] { display: none; }` but bootstrap.min.css set `[hidden] { display: none !important; }` so we also need the `!important` here to be able to override the default hidden behavior on the sphinx rendered scikit-learn.org. See: https://github.com/scikit-learn/scikit-learn/issues/21755 */display: inline-block !important;position: relative;}#sk-container-id-18 div.sk-text-repr-fallback {display: none;}</style><div id=\"sk-container-id-18\" class=\"sk-top-container\"><div class=\"sk-text-repr-fallback\"><pre>GridSearchCV(cv=10, estimator=BernoulliNB(),\n",
       "             param_grid={&#x27;alpha&#x27;: [0.5, 1.0, 2.0], &#x27;binarize&#x27;: [0.0, 0.5, 1.0],\n",
       "                         &#x27;fit_prior&#x27;: [True, False],\n",
       "                         &#x27;force_alpha&#x27;: [True, False]},\n",
       "             refit=&#x27;accuracy&#x27;,\n",
       "             scoring={&#x27;accuracy&#x27;: &#x27;accuracy&#x27;,\n",
       "                      &#x27;weighted_f1&#x27;: make_scorer(f1_score, average=weighted, zero_division=0),\n",
       "                      &#x27;weighted_precision&#x27;: make_scorer(precision_score, average=weighted, zero_division=0),\n",
       "                      &#x27;weighted_recall&#x27;: make_scorer(recall_score, average=weighted, zero_division=0)})</pre><b>In a Jupyter environment, please rerun this cell to show the HTML representation or trust the notebook. <br />On GitHub, the HTML representation is unable to render, please try loading this page with nbviewer.org.</b></div><div class=\"sk-container\" hidden><div class=\"sk-item sk-dashed-wrapped\"><div class=\"sk-label-container\"><div class=\"sk-label sk-toggleable\"><input class=\"sk-toggleable__control sk-hidden--visually\" id=\"sk-estimator-id-53\" type=\"checkbox\" ><label for=\"sk-estimator-id-53\" class=\"sk-toggleable__label sk-toggleable__label-arrow\">GridSearchCV</label><div class=\"sk-toggleable__content\"><pre>GridSearchCV(cv=10, estimator=BernoulliNB(),\n",
       "             param_grid={&#x27;alpha&#x27;: [0.5, 1.0, 2.0], &#x27;binarize&#x27;: [0.0, 0.5, 1.0],\n",
       "                         &#x27;fit_prior&#x27;: [True, False],\n",
       "                         &#x27;force_alpha&#x27;: [True, False]},\n",
       "             refit=&#x27;accuracy&#x27;,\n",
       "             scoring={&#x27;accuracy&#x27;: &#x27;accuracy&#x27;,\n",
       "                      &#x27;weighted_f1&#x27;: make_scorer(f1_score, average=weighted, zero_division=0),\n",
       "                      &#x27;weighted_precision&#x27;: make_scorer(precision_score, average=weighted, zero_division=0),\n",
       "                      &#x27;weighted_recall&#x27;: make_scorer(recall_score, average=weighted, zero_division=0)})</pre></div></div></div><div class=\"sk-parallel\"><div class=\"sk-parallel-item\"><div class=\"sk-item\"><div class=\"sk-label-container\"><div class=\"sk-label sk-toggleable\"><input class=\"sk-toggleable__control sk-hidden--visually\" id=\"sk-estimator-id-54\" type=\"checkbox\" ><label for=\"sk-estimator-id-54\" class=\"sk-toggleable__label sk-toggleable__label-arrow\">estimator: BernoulliNB</label><div class=\"sk-toggleable__content\"><pre>BernoulliNB()</pre></div></div></div><div class=\"sk-serial\"><div class=\"sk-item\"><div class=\"sk-estimator sk-toggleable\"><input class=\"sk-toggleable__control sk-hidden--visually\" id=\"sk-estimator-id-55\" type=\"checkbox\" ><label for=\"sk-estimator-id-55\" class=\"sk-toggleable__label sk-toggleable__label-arrow\">BernoulliNB</label><div class=\"sk-toggleable__content\"><pre>BernoulliNB()</pre></div></div></div></div></div></div></div></div></div></div>"
      ],
      "text/plain": [
       "GridSearchCV(cv=10, estimator=BernoulliNB(),\n",
       "             param_grid={'alpha': [0.5, 1.0, 2.0], 'binarize': [0.0, 0.5, 1.0],\n",
       "                         'fit_prior': [True, False],\n",
       "                         'force_alpha': [True, False]},\n",
       "             refit='accuracy',\n",
       "             scoring={'accuracy': 'accuracy',\n",
       "                      'weighted_f1': make_scorer(f1_score, average=weighted, zero_division=0),\n",
       "                      'weighted_precision': make_scorer(precision_score, average=weighted, zero_division=0),\n",
       "                      'weighted_recall': make_scorer(recall_score, average=weighted, zero_division=0)})"
      ]
     },
     "execution_count": 77,
     "metadata": {},
     "output_type": "execute_result"
    }
   ],
   "source": [
    "grid_search.fit(features, target)"
   ]
  },
  {
   "cell_type": "code",
   "execution_count": 78,
   "id": "7b303ff3-e0b2-4842-92a2-0dbba75a6869",
   "metadata": {},
   "outputs": [
    {
     "name": "stdout",
     "output_type": "stream",
     "text": [
      "Best parameter for Bernoulli Naive Bayes = {'alpha': 0.5, 'binarize': 0.0, 'fit_prior': True, 'force_alpha': True}\n",
      "Best Accuracy Score for Bernoulli Naive Bayes = 0.5932692307692309\n",
      "Best Weighted Precision Score for Bernoulli Naive Bayes = 0.5975401250372647\n",
      "Best Weighted Recall Score for Bernoulli Naive Bayes = 0.5932692307692309\n",
      "Best Weighted F1 Score for Bernoulli Naive Bayes = 0.5896412702055163\n"
     ]
    }
   ],
   "source": [
    "best_params = grid_search.best_params_\n",
    "best_accuracy = grid_search.best_score_\n",
    "best_weighted_precision = grid_search.cv_results_['mean_test_weighted_precision'][grid_search.best_index_]\n",
    "best_weighted_recall = grid_search.cv_results_['mean_test_weighted_recall'][grid_search.best_index_]\n",
    "best_weighted_f1 = grid_search.cv_results_['mean_test_weighted_f1'][grid_search.best_index_]\n",
    "\n",
    "print(\"Best parameter for Bernoulli Naive Bayes =\", best_params)\n",
    "print(\"Best Accuracy Score for Bernoulli Naive Bayes =\", best_accuracy)\n",
    "print(\"Best Weighted Precision Score for Bernoulli Naive Bayes =\", best_weighted_precision)\n",
    "print(\"Best Weighted Recall Score for Bernoulli Naive Bayes =\", best_weighted_recall)\n",
    "print(\"Best Weighted F1 Score for Bernoulli Naive Bayes =\", best_weighted_f1)"
   ]
  },
  {
   "cell_type": "markdown",
   "id": "e9b62c1c-6564-4add-96d7-21cb886caba4",
   "metadata": {},
   "source": [
    "### Multinomial Naive Bayes"
   ]
  },
  {
   "cell_type": "code",
   "execution_count": 85,
   "id": "c8cf9884-5a0c-406e-a55b-f0a2e53cdd70",
   "metadata": {},
   "outputs": [],
   "source": [
    "from sklearn.model_selection import GridSearchCV\n",
    "from sklearn.naive_bayes import MultinomialNB\n",
    "from sklearn.metrics import make_scorer, accuracy_score, precision_score, recall_score, f1_score\n",
    "\n",
    "mnb = MultinomialNB()\n",
    "\n",
    "mnb_param = {\n",
    "    'alpha': [0.5, 1.0, 2.0, 3.0], \n",
    "    'force_alpha': [True,False],\n",
    "    'fit_prior': [True,False]\n",
    "}\n",
    "\n",
    "scoring = {\n",
    "    'accuracy': 'accuracy',\n",
    "    'weighted_precision': make_scorer(precision_score, average='weighted', zero_division=0),\n",
    "    'weighted_recall': make_scorer(recall_score, average='weighted', zero_division=0),\n",
    "    'weighted_f1': make_scorer(f1_score, average='weighted', zero_division=0)\n",
    "\n",
    "}\n",
    "\n",
    "grid_search = GridSearchCV(mnb, mnb_param, cv=10, scoring=scoring, refit='accuracy')"
   ]
  },
  {
   "cell_type": "code",
   "execution_count": 86,
   "id": "b3cec10a-a449-4182-a92d-9c42af20cbe8",
   "metadata": {},
   "outputs": [
    {
     "data": {
      "text/html": [
       "<style>#sk-container-id-21 {color: black;background-color: white;}#sk-container-id-21 pre{padding: 0;}#sk-container-id-21 div.sk-toggleable {background-color: white;}#sk-container-id-21 label.sk-toggleable__label {cursor: pointer;display: block;width: 100%;margin-bottom: 0;padding: 0.3em;box-sizing: border-box;text-align: center;}#sk-container-id-21 label.sk-toggleable__label-arrow:before {content: \"▸\";float: left;margin-right: 0.25em;color: #696969;}#sk-container-id-21 label.sk-toggleable__label-arrow:hover:before {color: black;}#sk-container-id-21 div.sk-estimator:hover label.sk-toggleable__label-arrow:before {color: black;}#sk-container-id-21 div.sk-toggleable__content {max-height: 0;max-width: 0;overflow: hidden;text-align: left;background-color: #f0f8ff;}#sk-container-id-21 div.sk-toggleable__content pre {margin: 0.2em;color: black;border-radius: 0.25em;background-color: #f0f8ff;}#sk-container-id-21 input.sk-toggleable__control:checked~div.sk-toggleable__content {max-height: 200px;max-width: 100%;overflow: auto;}#sk-container-id-21 input.sk-toggleable__control:checked~label.sk-toggleable__label-arrow:before {content: \"▾\";}#sk-container-id-21 div.sk-estimator input.sk-toggleable__control:checked~label.sk-toggleable__label {background-color: #d4ebff;}#sk-container-id-21 div.sk-label input.sk-toggleable__control:checked~label.sk-toggleable__label {background-color: #d4ebff;}#sk-container-id-21 input.sk-hidden--visually {border: 0;clip: rect(1px 1px 1px 1px);clip: rect(1px, 1px, 1px, 1px);height: 1px;margin: -1px;overflow: hidden;padding: 0;position: absolute;width: 1px;}#sk-container-id-21 div.sk-estimator {font-family: monospace;background-color: #f0f8ff;border: 1px dotted black;border-radius: 0.25em;box-sizing: border-box;margin-bottom: 0.5em;}#sk-container-id-21 div.sk-estimator:hover {background-color: #d4ebff;}#sk-container-id-21 div.sk-parallel-item::after {content: \"\";width: 100%;border-bottom: 1px solid gray;flex-grow: 1;}#sk-container-id-21 div.sk-label:hover label.sk-toggleable__label {background-color: #d4ebff;}#sk-container-id-21 div.sk-serial::before {content: \"\";position: absolute;border-left: 1px solid gray;box-sizing: border-box;top: 0;bottom: 0;left: 50%;z-index: 0;}#sk-container-id-21 div.sk-serial {display: flex;flex-direction: column;align-items: center;background-color: white;padding-right: 0.2em;padding-left: 0.2em;position: relative;}#sk-container-id-21 div.sk-item {position: relative;z-index: 1;}#sk-container-id-21 div.sk-parallel {display: flex;align-items: stretch;justify-content: center;background-color: white;position: relative;}#sk-container-id-21 div.sk-item::before, #sk-container-id-21 div.sk-parallel-item::before {content: \"\";position: absolute;border-left: 1px solid gray;box-sizing: border-box;top: 0;bottom: 0;left: 50%;z-index: -1;}#sk-container-id-21 div.sk-parallel-item {display: flex;flex-direction: column;z-index: 1;position: relative;background-color: white;}#sk-container-id-21 div.sk-parallel-item:first-child::after {align-self: flex-end;width: 50%;}#sk-container-id-21 div.sk-parallel-item:last-child::after {align-self: flex-start;width: 50%;}#sk-container-id-21 div.sk-parallel-item:only-child::after {width: 0;}#sk-container-id-21 div.sk-dashed-wrapped {border: 1px dashed gray;margin: 0 0.4em 0.5em 0.4em;box-sizing: border-box;padding-bottom: 0.4em;background-color: white;}#sk-container-id-21 div.sk-label label {font-family: monospace;font-weight: bold;display: inline-block;line-height: 1.2em;}#sk-container-id-21 div.sk-label-container {text-align: center;}#sk-container-id-21 div.sk-container {/* jupyter's `normalize.less` sets `[hidden] { display: none; }` but bootstrap.min.css set `[hidden] { display: none !important; }` so we also need the `!important` here to be able to override the default hidden behavior on the sphinx rendered scikit-learn.org. See: https://github.com/scikit-learn/scikit-learn/issues/21755 */display: inline-block !important;position: relative;}#sk-container-id-21 div.sk-text-repr-fallback {display: none;}</style><div id=\"sk-container-id-21\" class=\"sk-top-container\"><div class=\"sk-text-repr-fallback\"><pre>GridSearchCV(cv=10, estimator=MultinomialNB(),\n",
       "             param_grid={&#x27;alpha&#x27;: [0.5, 1.0, 2.0, 3.0],\n",
       "                         &#x27;fit_prior&#x27;: [True, False],\n",
       "                         &#x27;force_alpha&#x27;: [True, False]},\n",
       "             refit=&#x27;accuracy&#x27;,\n",
       "             scoring={&#x27;accuracy&#x27;: &#x27;accuracy&#x27;,\n",
       "                      &#x27;weighted_f1&#x27;: make_scorer(f1_score, average=weighted, zero_division=0),\n",
       "                      &#x27;weighted_precision&#x27;: make_scorer(precision_score, average=weighted, zero_division=0),\n",
       "                      &#x27;weighted_recall&#x27;: make_scorer(recall_score, average=weighted, zero_division=0)})</pre><b>In a Jupyter environment, please rerun this cell to show the HTML representation or trust the notebook. <br />On GitHub, the HTML representation is unable to render, please try loading this page with nbviewer.org.</b></div><div class=\"sk-container\" hidden><div class=\"sk-item sk-dashed-wrapped\"><div class=\"sk-label-container\"><div class=\"sk-label sk-toggleable\"><input class=\"sk-toggleable__control sk-hidden--visually\" id=\"sk-estimator-id-62\" type=\"checkbox\" ><label for=\"sk-estimator-id-62\" class=\"sk-toggleable__label sk-toggleable__label-arrow\">GridSearchCV</label><div class=\"sk-toggleable__content\"><pre>GridSearchCV(cv=10, estimator=MultinomialNB(),\n",
       "             param_grid={&#x27;alpha&#x27;: [0.5, 1.0, 2.0, 3.0],\n",
       "                         &#x27;fit_prior&#x27;: [True, False],\n",
       "                         &#x27;force_alpha&#x27;: [True, False]},\n",
       "             refit=&#x27;accuracy&#x27;,\n",
       "             scoring={&#x27;accuracy&#x27;: &#x27;accuracy&#x27;,\n",
       "                      &#x27;weighted_f1&#x27;: make_scorer(f1_score, average=weighted, zero_division=0),\n",
       "                      &#x27;weighted_precision&#x27;: make_scorer(precision_score, average=weighted, zero_division=0),\n",
       "                      &#x27;weighted_recall&#x27;: make_scorer(recall_score, average=weighted, zero_division=0)})</pre></div></div></div><div class=\"sk-parallel\"><div class=\"sk-parallel-item\"><div class=\"sk-item\"><div class=\"sk-label-container\"><div class=\"sk-label sk-toggleable\"><input class=\"sk-toggleable__control sk-hidden--visually\" id=\"sk-estimator-id-63\" type=\"checkbox\" ><label for=\"sk-estimator-id-63\" class=\"sk-toggleable__label sk-toggleable__label-arrow\">estimator: MultinomialNB</label><div class=\"sk-toggleable__content\"><pre>MultinomialNB()</pre></div></div></div><div class=\"sk-serial\"><div class=\"sk-item\"><div class=\"sk-estimator sk-toggleable\"><input class=\"sk-toggleable__control sk-hidden--visually\" id=\"sk-estimator-id-64\" type=\"checkbox\" ><label for=\"sk-estimator-id-64\" class=\"sk-toggleable__label sk-toggleable__label-arrow\">MultinomialNB</label><div class=\"sk-toggleable__content\"><pre>MultinomialNB()</pre></div></div></div></div></div></div></div></div></div></div>"
      ],
      "text/plain": [
       "GridSearchCV(cv=10, estimator=MultinomialNB(),\n",
       "             param_grid={'alpha': [0.5, 1.0, 2.0, 3.0],\n",
       "                         'fit_prior': [True, False],\n",
       "                         'force_alpha': [True, False]},\n",
       "             refit='accuracy',\n",
       "             scoring={'accuracy': 'accuracy',\n",
       "                      'weighted_f1': make_scorer(f1_score, average=weighted, zero_division=0),\n",
       "                      'weighted_precision': make_scorer(precision_score, average=weighted, zero_division=0),\n",
       "                      'weighted_recall': make_scorer(recall_score, average=weighted, zero_division=0)})"
      ]
     },
     "execution_count": 86,
     "metadata": {},
     "output_type": "execute_result"
    }
   ],
   "source": [
    "grid_search.fit(features, target)"
   ]
  },
  {
   "cell_type": "code",
   "execution_count": 87,
   "id": "0699eb6e-42f3-4289-8787-382ed1e3f9ba",
   "metadata": {
    "scrolled": true
   },
   "outputs": [
    {
     "name": "stdout",
     "output_type": "stream",
     "text": [
      "Best parameter for Multinomial Naive Bayes = {'alpha': 2.0, 'fit_prior': True, 'force_alpha': True}\n",
      "Best Accuracy Score for Multinomial Naive Bayes = 0.6240384615384615\n",
      "Best Weighted Precision Score for Multinomial Naive Bayes = 0.6603815301728332\n",
      "Best Weighted Recall Score for Multinomial Naive Bayes = 0.6240384615384615\n",
      "Best Weighted F1 Score for Multinomial Naive Bayes = 0.611185508323137\n"
     ]
    }
   ],
   "source": [
    "best_params = grid_search.best_params_\n",
    "best_accuracy = grid_search.best_score_\n",
    "best_weighted_f1 = grid_search.cv_results_['mean_test_weighted_f1'][grid_search.best_index_]\n",
    "best_weighted_recall = grid_search.cv_results_['mean_test_weighted_recall'][grid_search.best_index_]\n",
    "best_weighted_f1 = grid_search.cv_results_['mean_test_weighted_f1'][grid_search.best_index_]\n",
    "\n",
    "print(\"Best parameter for Multinomial Naive Bayes =\", best_params)\n",
    "print(\"Best Accuracy Score for Multinomial Naive Bayes =\", best_accuracy)\n",
    "print(\"Best Weighted Precision Score for Multinomial Naive Bayes =\", best_weighted_precision)\n",
    "print(\"Best Weighted Recall Score for Multinomial Naive Bayes =\", best_weighted_recall)\n",
    "print(\"Best Weighted F1 Score for Multinomial Naive Bayes =\", best_weighted_f1)"
   ]
  },
  {
   "cell_type": "markdown",
   "id": "7ecd0a95-8ebd-499f-ae1a-a332f6b98bd7",
   "metadata": {},
   "source": [
    "## SVM Classifier"
   ]
  },
  {
   "cell_type": "markdown",
   "id": "89b9d8a8-fef8-48bc-9033-da88f9084f58",
   "metadata": {},
   "source": [
    "### Linear Kernel SVM"
   ]
  },
  {
   "cell_type": "code",
   "execution_count": 89,
   "id": "0eced666-16a7-4ba2-8c09-528d53e227ac",
   "metadata": {},
   "outputs": [],
   "source": [
    "from sklearn.model_selection import GridSearchCV\n",
    "from sklearn.svm import SVC\n",
    "from sklearn.metrics import make_scorer, accuracy_score, precision_score, recall_score, f1_score\n",
    "\n",
    "linear = SVC(kernel = 'linear')\n",
    "\n",
    "linear_param = {\n",
    "     'C': [1, 10, 100, 1000]\n",
    "}\n",
    "\n",
    "scoring = {\n",
    "    'accuracy': 'accuracy',\n",
    "    'weighted_precision': make_scorer(precision_score, average='weighted'),\n",
    "    'weighted_recall': make_scorer(recall_score, average='weighted'),\n",
    "    'weighted_f1': make_scorer(f1_score, average='weighted')\n",
    "}\n",
    "\n",
    "grid_search = GridSearchCV(linear, linear_param, cv=10, scoring=scoring, refit='accuracy')"
   ]
  },
  {
   "cell_type": "code",
   "execution_count": 90,
   "id": "a7b352ed-c3ab-468b-ad4a-8b0beb0dabc8",
   "metadata": {},
   "outputs": [
    {
     "data": {
      "text/html": [
       "<style>#sk-container-id-22 {color: black;background-color: white;}#sk-container-id-22 pre{padding: 0;}#sk-container-id-22 div.sk-toggleable {background-color: white;}#sk-container-id-22 label.sk-toggleable__label {cursor: pointer;display: block;width: 100%;margin-bottom: 0;padding: 0.3em;box-sizing: border-box;text-align: center;}#sk-container-id-22 label.sk-toggleable__label-arrow:before {content: \"▸\";float: left;margin-right: 0.25em;color: #696969;}#sk-container-id-22 label.sk-toggleable__label-arrow:hover:before {color: black;}#sk-container-id-22 div.sk-estimator:hover label.sk-toggleable__label-arrow:before {color: black;}#sk-container-id-22 div.sk-toggleable__content {max-height: 0;max-width: 0;overflow: hidden;text-align: left;background-color: #f0f8ff;}#sk-container-id-22 div.sk-toggleable__content pre {margin: 0.2em;color: black;border-radius: 0.25em;background-color: #f0f8ff;}#sk-container-id-22 input.sk-toggleable__control:checked~div.sk-toggleable__content {max-height: 200px;max-width: 100%;overflow: auto;}#sk-container-id-22 input.sk-toggleable__control:checked~label.sk-toggleable__label-arrow:before {content: \"▾\";}#sk-container-id-22 div.sk-estimator input.sk-toggleable__control:checked~label.sk-toggleable__label {background-color: #d4ebff;}#sk-container-id-22 div.sk-label input.sk-toggleable__control:checked~label.sk-toggleable__label {background-color: #d4ebff;}#sk-container-id-22 input.sk-hidden--visually {border: 0;clip: rect(1px 1px 1px 1px);clip: rect(1px, 1px, 1px, 1px);height: 1px;margin: -1px;overflow: hidden;padding: 0;position: absolute;width: 1px;}#sk-container-id-22 div.sk-estimator {font-family: monospace;background-color: #f0f8ff;border: 1px dotted black;border-radius: 0.25em;box-sizing: border-box;margin-bottom: 0.5em;}#sk-container-id-22 div.sk-estimator:hover {background-color: #d4ebff;}#sk-container-id-22 div.sk-parallel-item::after {content: \"\";width: 100%;border-bottom: 1px solid gray;flex-grow: 1;}#sk-container-id-22 div.sk-label:hover label.sk-toggleable__label {background-color: #d4ebff;}#sk-container-id-22 div.sk-serial::before {content: \"\";position: absolute;border-left: 1px solid gray;box-sizing: border-box;top: 0;bottom: 0;left: 50%;z-index: 0;}#sk-container-id-22 div.sk-serial {display: flex;flex-direction: column;align-items: center;background-color: white;padding-right: 0.2em;padding-left: 0.2em;position: relative;}#sk-container-id-22 div.sk-item {position: relative;z-index: 1;}#sk-container-id-22 div.sk-parallel {display: flex;align-items: stretch;justify-content: center;background-color: white;position: relative;}#sk-container-id-22 div.sk-item::before, #sk-container-id-22 div.sk-parallel-item::before {content: \"\";position: absolute;border-left: 1px solid gray;box-sizing: border-box;top: 0;bottom: 0;left: 50%;z-index: -1;}#sk-container-id-22 div.sk-parallel-item {display: flex;flex-direction: column;z-index: 1;position: relative;background-color: white;}#sk-container-id-22 div.sk-parallel-item:first-child::after {align-self: flex-end;width: 50%;}#sk-container-id-22 div.sk-parallel-item:last-child::after {align-self: flex-start;width: 50%;}#sk-container-id-22 div.sk-parallel-item:only-child::after {width: 0;}#sk-container-id-22 div.sk-dashed-wrapped {border: 1px dashed gray;margin: 0 0.4em 0.5em 0.4em;box-sizing: border-box;padding-bottom: 0.4em;background-color: white;}#sk-container-id-22 div.sk-label label {font-family: monospace;font-weight: bold;display: inline-block;line-height: 1.2em;}#sk-container-id-22 div.sk-label-container {text-align: center;}#sk-container-id-22 div.sk-container {/* jupyter's `normalize.less` sets `[hidden] { display: none; }` but bootstrap.min.css set `[hidden] { display: none !important; }` so we also need the `!important` here to be able to override the default hidden behavior on the sphinx rendered scikit-learn.org. See: https://github.com/scikit-learn/scikit-learn/issues/21755 */display: inline-block !important;position: relative;}#sk-container-id-22 div.sk-text-repr-fallback {display: none;}</style><div id=\"sk-container-id-22\" class=\"sk-top-container\"><div class=\"sk-text-repr-fallback\"><pre>GridSearchCV(cv=10, estimator=SVC(kernel=&#x27;linear&#x27;),\n",
       "             param_grid={&#x27;C&#x27;: [1, 10, 100, 1000]}, refit=&#x27;accuracy&#x27;,\n",
       "             scoring={&#x27;accuracy&#x27;: &#x27;accuracy&#x27;,\n",
       "                      &#x27;weighted_f1&#x27;: make_scorer(f1_score, average=weighted),\n",
       "                      &#x27;weighted_precision&#x27;: make_scorer(precision_score, average=weighted),\n",
       "                      &#x27;weighted_recall&#x27;: make_scorer(recall_score, average=weighted)})</pre><b>In a Jupyter environment, please rerun this cell to show the HTML representation or trust the notebook. <br />On GitHub, the HTML representation is unable to render, please try loading this page with nbviewer.org.</b></div><div class=\"sk-container\" hidden><div class=\"sk-item sk-dashed-wrapped\"><div class=\"sk-label-container\"><div class=\"sk-label sk-toggleable\"><input class=\"sk-toggleable__control sk-hidden--visually\" id=\"sk-estimator-id-65\" type=\"checkbox\" ><label for=\"sk-estimator-id-65\" class=\"sk-toggleable__label sk-toggleable__label-arrow\">GridSearchCV</label><div class=\"sk-toggleable__content\"><pre>GridSearchCV(cv=10, estimator=SVC(kernel=&#x27;linear&#x27;),\n",
       "             param_grid={&#x27;C&#x27;: [1, 10, 100, 1000]}, refit=&#x27;accuracy&#x27;,\n",
       "             scoring={&#x27;accuracy&#x27;: &#x27;accuracy&#x27;,\n",
       "                      &#x27;weighted_f1&#x27;: make_scorer(f1_score, average=weighted),\n",
       "                      &#x27;weighted_precision&#x27;: make_scorer(precision_score, average=weighted),\n",
       "                      &#x27;weighted_recall&#x27;: make_scorer(recall_score, average=weighted)})</pre></div></div></div><div class=\"sk-parallel\"><div class=\"sk-parallel-item\"><div class=\"sk-item\"><div class=\"sk-label-container\"><div class=\"sk-label sk-toggleable\"><input class=\"sk-toggleable__control sk-hidden--visually\" id=\"sk-estimator-id-66\" type=\"checkbox\" ><label for=\"sk-estimator-id-66\" class=\"sk-toggleable__label sk-toggleable__label-arrow\">estimator: SVC</label><div class=\"sk-toggleable__content\"><pre>SVC(kernel=&#x27;linear&#x27;)</pre></div></div></div><div class=\"sk-serial\"><div class=\"sk-item\"><div class=\"sk-estimator sk-toggleable\"><input class=\"sk-toggleable__control sk-hidden--visually\" id=\"sk-estimator-id-67\" type=\"checkbox\" ><label for=\"sk-estimator-id-67\" class=\"sk-toggleable__label sk-toggleable__label-arrow\">SVC</label><div class=\"sk-toggleable__content\"><pre>SVC(kernel=&#x27;linear&#x27;)</pre></div></div></div></div></div></div></div></div></div></div>"
      ],
      "text/plain": [
       "GridSearchCV(cv=10, estimator=SVC(kernel='linear'),\n",
       "             param_grid={'C': [1, 10, 100, 1000]}, refit='accuracy',\n",
       "             scoring={'accuracy': 'accuracy',\n",
       "                      'weighted_f1': make_scorer(f1_score, average=weighted),\n",
       "                      'weighted_precision': make_scorer(precision_score, average=weighted),\n",
       "                      'weighted_recall': make_scorer(recall_score, average=weighted)})"
      ]
     },
     "execution_count": 90,
     "metadata": {},
     "output_type": "execute_result"
    }
   ],
   "source": [
    "grid_search.fit(features, target)"
   ]
  },
  {
   "cell_type": "code",
   "execution_count": 91,
   "id": "8284f3a1-6aaf-4773-aa06-c2ea38a29340",
   "metadata": {},
   "outputs": [
    {
     "name": "stdout",
     "output_type": "stream",
     "text": [
      "Best parameter for Linear Kernel SVM = {'C': 10}\n",
      "Best Accuracy Score for Linear Kernel SVM = 0.629102564102564\n",
      "Best Weighted Precision Score for Linear Kernel SVM = 0.6603815301728332\n",
      "Best Weighted Recall Score for Linear Kernel SVM = 0.629102564102564\n",
      "Best Weighted F1 Score for Linear Kernel SVM = 0.584706984213165\n"
     ]
    }
   ],
   "source": [
    "best_params = grid_search.best_params_\n",
    "best_accuracy = grid_search.best_score_\n",
    "best_weighted_precision = grid_search.cv_results_['mean_test_weighted_precision'][grid_search.best_index_]\n",
    "best_weighted_recall = grid_search.cv_results_['mean_test_weighted_recall'][grid_search.best_index_]\n",
    "best_weighted_f1 = grid_search.cv_results_['mean_test_weighted_f1'][grid_search.best_index_]\n",
    "\n",
    "print(\"Best parameter for Linear Kernel SVM =\", best_params)\n",
    "print(\"Best Accuracy Score for Linear Kernel SVM =\", best_accuracy)\n",
    "print(\"Best Weighted Precision Score for Linear Kernel SVM =\", best_weighted_precision)\n",
    "print(\"Best Weighted Recall Score for Linear Kernel SVM =\", best_weighted_recall)\n",
    "print(\"Best Weighted F1 Score for Linear Kernel SVM =\", best_weighted_f1)"
   ]
  },
  {
   "cell_type": "markdown",
   "id": "f36cdf25-b9bb-40e1-a8e3-d6eb3940980d",
   "metadata": {},
   "source": [
    "### RBF Kernel SVM"
   ]
  },
  {
   "cell_type": "code",
   "execution_count": 93,
   "id": "5f0e6856-4ea9-42bd-8eee-469134bb4d6b",
   "metadata": {},
   "outputs": [],
   "source": [
    "from sklearn.model_selection import GridSearchCV\n",
    "from sklearn.svm import SVC\n",
    "from sklearn.metrics import make_scorer, accuracy_score, precision_score, recall_score, f1_score\n",
    "\n",
    "rbf = SVC(kernel = 'rbf')\n",
    "\n",
    "rbf_param = {\n",
    "     'C': [1,10,100,1000], \n",
    "     'gamma': [0.1,1,'scale', 'auto']\n",
    "}\n",
    "\n",
    "scoring = {\n",
    "    'accuracy': 'accuracy',\n",
    "    'weighted_precision': make_scorer(precision_score, average='weighted', zero_division=0),\n",
    "    'weighted_recall': make_scorer(recall_score, average='weighted', zero_division=0),\n",
    "    'weighted_f1': make_scorer(f1_score, average='weighted', zero_division=0)\n",
    "}\n",
    "\n",
    "grid_search = GridSearchCV(rbf, rbf_param, cv=10, scoring=scoring, refit='accuracy')"
   ]
  },
  {
   "cell_type": "code",
   "execution_count": 94,
   "id": "075bdfa4-39a6-41a2-9b99-05898e71f855",
   "metadata": {},
   "outputs": [
    {
     "data": {
      "text/html": [
       "<style>#sk-container-id-23 {color: black;background-color: white;}#sk-container-id-23 pre{padding: 0;}#sk-container-id-23 div.sk-toggleable {background-color: white;}#sk-container-id-23 label.sk-toggleable__label {cursor: pointer;display: block;width: 100%;margin-bottom: 0;padding: 0.3em;box-sizing: border-box;text-align: center;}#sk-container-id-23 label.sk-toggleable__label-arrow:before {content: \"▸\";float: left;margin-right: 0.25em;color: #696969;}#sk-container-id-23 label.sk-toggleable__label-arrow:hover:before {color: black;}#sk-container-id-23 div.sk-estimator:hover label.sk-toggleable__label-arrow:before {color: black;}#sk-container-id-23 div.sk-toggleable__content {max-height: 0;max-width: 0;overflow: hidden;text-align: left;background-color: #f0f8ff;}#sk-container-id-23 div.sk-toggleable__content pre {margin: 0.2em;color: black;border-radius: 0.25em;background-color: #f0f8ff;}#sk-container-id-23 input.sk-toggleable__control:checked~div.sk-toggleable__content {max-height: 200px;max-width: 100%;overflow: auto;}#sk-container-id-23 input.sk-toggleable__control:checked~label.sk-toggleable__label-arrow:before {content: \"▾\";}#sk-container-id-23 div.sk-estimator input.sk-toggleable__control:checked~label.sk-toggleable__label {background-color: #d4ebff;}#sk-container-id-23 div.sk-label input.sk-toggleable__control:checked~label.sk-toggleable__label {background-color: #d4ebff;}#sk-container-id-23 input.sk-hidden--visually {border: 0;clip: rect(1px 1px 1px 1px);clip: rect(1px, 1px, 1px, 1px);height: 1px;margin: -1px;overflow: hidden;padding: 0;position: absolute;width: 1px;}#sk-container-id-23 div.sk-estimator {font-family: monospace;background-color: #f0f8ff;border: 1px dotted black;border-radius: 0.25em;box-sizing: border-box;margin-bottom: 0.5em;}#sk-container-id-23 div.sk-estimator:hover {background-color: #d4ebff;}#sk-container-id-23 div.sk-parallel-item::after {content: \"\";width: 100%;border-bottom: 1px solid gray;flex-grow: 1;}#sk-container-id-23 div.sk-label:hover label.sk-toggleable__label {background-color: #d4ebff;}#sk-container-id-23 div.sk-serial::before {content: \"\";position: absolute;border-left: 1px solid gray;box-sizing: border-box;top: 0;bottom: 0;left: 50%;z-index: 0;}#sk-container-id-23 div.sk-serial {display: flex;flex-direction: column;align-items: center;background-color: white;padding-right: 0.2em;padding-left: 0.2em;position: relative;}#sk-container-id-23 div.sk-item {position: relative;z-index: 1;}#sk-container-id-23 div.sk-parallel {display: flex;align-items: stretch;justify-content: center;background-color: white;position: relative;}#sk-container-id-23 div.sk-item::before, #sk-container-id-23 div.sk-parallel-item::before {content: \"\";position: absolute;border-left: 1px solid gray;box-sizing: border-box;top: 0;bottom: 0;left: 50%;z-index: -1;}#sk-container-id-23 div.sk-parallel-item {display: flex;flex-direction: column;z-index: 1;position: relative;background-color: white;}#sk-container-id-23 div.sk-parallel-item:first-child::after {align-self: flex-end;width: 50%;}#sk-container-id-23 div.sk-parallel-item:last-child::after {align-self: flex-start;width: 50%;}#sk-container-id-23 div.sk-parallel-item:only-child::after {width: 0;}#sk-container-id-23 div.sk-dashed-wrapped {border: 1px dashed gray;margin: 0 0.4em 0.5em 0.4em;box-sizing: border-box;padding-bottom: 0.4em;background-color: white;}#sk-container-id-23 div.sk-label label {font-family: monospace;font-weight: bold;display: inline-block;line-height: 1.2em;}#sk-container-id-23 div.sk-label-container {text-align: center;}#sk-container-id-23 div.sk-container {/* jupyter's `normalize.less` sets `[hidden] { display: none; }` but bootstrap.min.css set `[hidden] { display: none !important; }` so we also need the `!important` here to be able to override the default hidden behavior on the sphinx rendered scikit-learn.org. See: https://github.com/scikit-learn/scikit-learn/issues/21755 */display: inline-block !important;position: relative;}#sk-container-id-23 div.sk-text-repr-fallback {display: none;}</style><div id=\"sk-container-id-23\" class=\"sk-top-container\"><div class=\"sk-text-repr-fallback\"><pre>GridSearchCV(cv=10, estimator=SVC(),\n",
       "             param_grid={&#x27;C&#x27;: [1, 10, 100, 1000],\n",
       "                         &#x27;gamma&#x27;: [0.1, 1, &#x27;scale&#x27;, &#x27;auto&#x27;]},\n",
       "             refit=&#x27;accuracy&#x27;,\n",
       "             scoring={&#x27;accuracy&#x27;: &#x27;accuracy&#x27;,\n",
       "                      &#x27;weighted_f1&#x27;: make_scorer(f1_score, average=weighted, zero_division=0),\n",
       "                      &#x27;weighted_precision&#x27;: make_scorer(precision_score, average=weighted, zero_division=0),\n",
       "                      &#x27;weighted_recall&#x27;: make_scorer(recall_score, average=weighted, zero_division=0)})</pre><b>In a Jupyter environment, please rerun this cell to show the HTML representation or trust the notebook. <br />On GitHub, the HTML representation is unable to render, please try loading this page with nbviewer.org.</b></div><div class=\"sk-container\" hidden><div class=\"sk-item sk-dashed-wrapped\"><div class=\"sk-label-container\"><div class=\"sk-label sk-toggleable\"><input class=\"sk-toggleable__control sk-hidden--visually\" id=\"sk-estimator-id-68\" type=\"checkbox\" ><label for=\"sk-estimator-id-68\" class=\"sk-toggleable__label sk-toggleable__label-arrow\">GridSearchCV</label><div class=\"sk-toggleable__content\"><pre>GridSearchCV(cv=10, estimator=SVC(),\n",
       "             param_grid={&#x27;C&#x27;: [1, 10, 100, 1000],\n",
       "                         &#x27;gamma&#x27;: [0.1, 1, &#x27;scale&#x27;, &#x27;auto&#x27;]},\n",
       "             refit=&#x27;accuracy&#x27;,\n",
       "             scoring={&#x27;accuracy&#x27;: &#x27;accuracy&#x27;,\n",
       "                      &#x27;weighted_f1&#x27;: make_scorer(f1_score, average=weighted, zero_division=0),\n",
       "                      &#x27;weighted_precision&#x27;: make_scorer(precision_score, average=weighted, zero_division=0),\n",
       "                      &#x27;weighted_recall&#x27;: make_scorer(recall_score, average=weighted, zero_division=0)})</pre></div></div></div><div class=\"sk-parallel\"><div class=\"sk-parallel-item\"><div class=\"sk-item\"><div class=\"sk-label-container\"><div class=\"sk-label sk-toggleable\"><input class=\"sk-toggleable__control sk-hidden--visually\" id=\"sk-estimator-id-69\" type=\"checkbox\" ><label for=\"sk-estimator-id-69\" class=\"sk-toggleable__label sk-toggleable__label-arrow\">estimator: SVC</label><div class=\"sk-toggleable__content\"><pre>SVC()</pre></div></div></div><div class=\"sk-serial\"><div class=\"sk-item\"><div class=\"sk-estimator sk-toggleable\"><input class=\"sk-toggleable__control sk-hidden--visually\" id=\"sk-estimator-id-70\" type=\"checkbox\" ><label for=\"sk-estimator-id-70\" class=\"sk-toggleable__label sk-toggleable__label-arrow\">SVC</label><div class=\"sk-toggleable__content\"><pre>SVC()</pre></div></div></div></div></div></div></div></div></div></div>"
      ],
      "text/plain": [
       "GridSearchCV(cv=10, estimator=SVC(),\n",
       "             param_grid={'C': [1, 10, 100, 1000],\n",
       "                         'gamma': [0.1, 1, 'scale', 'auto']},\n",
       "             refit='accuracy',\n",
       "             scoring={'accuracy': 'accuracy',\n",
       "                      'weighted_f1': make_scorer(f1_score, average=weighted, zero_division=0),\n",
       "                      'weighted_precision': make_scorer(precision_score, average=weighted, zero_division=0),\n",
       "                      'weighted_recall': make_scorer(recall_score, average=weighted, zero_division=0)})"
      ]
     },
     "execution_count": 94,
     "metadata": {},
     "output_type": "execute_result"
    }
   ],
   "source": [
    "grid_search.fit(features, target)"
   ]
  },
  {
   "cell_type": "code",
   "execution_count": 95,
   "id": "2f38b72c-d5bb-41f5-9a57-8abf591783f9",
   "metadata": {},
   "outputs": [
    {
     "name": "stdout",
     "output_type": "stream",
     "text": [
      "Best parameter for RBF Kernel SVM = {'C': 1000, 'gamma': 'scale'}\n",
      "Best Accuracy Score for RBF Kernel SVM = 0.6192307692307694\n",
      "Best Weighted Precision Score for RBF Kernel SVM = 0.6205976893100426\n",
      "Best Weighted Recall Score for RBF Kernel SVM = 0.6192307692307694\n",
      "Best Weighted F1 Score for RBF Kernel SVM = 0.6100169874514775\n"
     ]
    }
   ],
   "source": [
    "best_params = grid_search.best_params_\n",
    "best_accuracy = grid_search.best_score_\n",
    "best_weighted_precision = grid_search.cv_results_['mean_test_weighted_precision'][grid_search.best_index_]\n",
    "best_weighted_recall = grid_search.cv_results_['mean_test_weighted_recall'][grid_search.best_index_]\n",
    "best_weighted_f1 = grid_search.cv_results_['mean_test_weighted_f1'][grid_search.best_index_]\n",
    "\n",
    "print(\"Best parameter for RBF Kernel SVM =\", best_params)\n",
    "print(\"Best Accuracy Score for RBF Kernel SVM =\", best_accuracy)\n",
    "print(\"Best Weighted Precision Score for RBF Kernel SVM =\", best_weighted_precision)\n",
    "print(\"Best Weighted Recall Score for RBF Kernel SVM =\", best_weighted_recall)\n",
    "print(\"Best Weighted F1 Score for RBF Kernel SVM =\", best_weighted_f1)"
   ]
  },
  {
   "cell_type": "markdown",
   "id": "e533950d-619d-455e-9207-3007be1b5373",
   "metadata": {},
   "source": [
    "### Sigmoid Kernel SVM"
   ]
  },
  {
   "cell_type": "code",
   "execution_count": 96,
   "id": "f51c3481-c63c-49eb-b07d-42398103399f",
   "metadata": {},
   "outputs": [],
   "source": [
    "from sklearn.model_selection import GridSearchCV\n",
    "from sklearn.svm import SVC\n",
    "from sklearn.metrics import make_scorer, accuracy_score, precision_score, recall_score, f1_score\n",
    "\n",
    "sigmoid = SVC(kernel = 'sigmoid')\n",
    "\n",
    "sigmoid_param = {\n",
    "     'C': [1,10,100,1000], \n",
    "     'gamma': [0.1,1,'scale', 'auto'], \n",
    "     'coef0': [0, 1, 2]\n",
    "}\n",
    "\n",
    "scoring = {\n",
    "    'accuracy': 'accuracy',\n",
    "    'weighted_precision': make_scorer(precision_score, average='weighted', zero_division=0),\n",
    "    'weighted_recall': make_scorer(recall_score, average='weighted', zero_division=0),\n",
    "    'weighted_f1': make_scorer(f1_score, average='weighted', zero_division=0)\n",
    "}\n",
    "\n",
    "grid_search = GridSearchCV(sigmoid, sigmoid_param, cv=10, scoring=scoring, refit='accuracy')"
   ]
  },
  {
   "cell_type": "code",
   "execution_count": 97,
   "id": "6bd955aa-71bf-445b-a895-07d91e94e25a",
   "metadata": {},
   "outputs": [
    {
     "data": {
      "text/html": [
       "<style>#sk-container-id-24 {color: black;background-color: white;}#sk-container-id-24 pre{padding: 0;}#sk-container-id-24 div.sk-toggleable {background-color: white;}#sk-container-id-24 label.sk-toggleable__label {cursor: pointer;display: block;width: 100%;margin-bottom: 0;padding: 0.3em;box-sizing: border-box;text-align: center;}#sk-container-id-24 label.sk-toggleable__label-arrow:before {content: \"▸\";float: left;margin-right: 0.25em;color: #696969;}#sk-container-id-24 label.sk-toggleable__label-arrow:hover:before {color: black;}#sk-container-id-24 div.sk-estimator:hover label.sk-toggleable__label-arrow:before {color: black;}#sk-container-id-24 div.sk-toggleable__content {max-height: 0;max-width: 0;overflow: hidden;text-align: left;background-color: #f0f8ff;}#sk-container-id-24 div.sk-toggleable__content pre {margin: 0.2em;color: black;border-radius: 0.25em;background-color: #f0f8ff;}#sk-container-id-24 input.sk-toggleable__control:checked~div.sk-toggleable__content {max-height: 200px;max-width: 100%;overflow: auto;}#sk-container-id-24 input.sk-toggleable__control:checked~label.sk-toggleable__label-arrow:before {content: \"▾\";}#sk-container-id-24 div.sk-estimator input.sk-toggleable__control:checked~label.sk-toggleable__label {background-color: #d4ebff;}#sk-container-id-24 div.sk-label input.sk-toggleable__control:checked~label.sk-toggleable__label {background-color: #d4ebff;}#sk-container-id-24 input.sk-hidden--visually {border: 0;clip: rect(1px 1px 1px 1px);clip: rect(1px, 1px, 1px, 1px);height: 1px;margin: -1px;overflow: hidden;padding: 0;position: absolute;width: 1px;}#sk-container-id-24 div.sk-estimator {font-family: monospace;background-color: #f0f8ff;border: 1px dotted black;border-radius: 0.25em;box-sizing: border-box;margin-bottom: 0.5em;}#sk-container-id-24 div.sk-estimator:hover {background-color: #d4ebff;}#sk-container-id-24 div.sk-parallel-item::after {content: \"\";width: 100%;border-bottom: 1px solid gray;flex-grow: 1;}#sk-container-id-24 div.sk-label:hover label.sk-toggleable__label {background-color: #d4ebff;}#sk-container-id-24 div.sk-serial::before {content: \"\";position: absolute;border-left: 1px solid gray;box-sizing: border-box;top: 0;bottom: 0;left: 50%;z-index: 0;}#sk-container-id-24 div.sk-serial {display: flex;flex-direction: column;align-items: center;background-color: white;padding-right: 0.2em;padding-left: 0.2em;position: relative;}#sk-container-id-24 div.sk-item {position: relative;z-index: 1;}#sk-container-id-24 div.sk-parallel {display: flex;align-items: stretch;justify-content: center;background-color: white;position: relative;}#sk-container-id-24 div.sk-item::before, #sk-container-id-24 div.sk-parallel-item::before {content: \"\";position: absolute;border-left: 1px solid gray;box-sizing: border-box;top: 0;bottom: 0;left: 50%;z-index: -1;}#sk-container-id-24 div.sk-parallel-item {display: flex;flex-direction: column;z-index: 1;position: relative;background-color: white;}#sk-container-id-24 div.sk-parallel-item:first-child::after {align-self: flex-end;width: 50%;}#sk-container-id-24 div.sk-parallel-item:last-child::after {align-self: flex-start;width: 50%;}#sk-container-id-24 div.sk-parallel-item:only-child::after {width: 0;}#sk-container-id-24 div.sk-dashed-wrapped {border: 1px dashed gray;margin: 0 0.4em 0.5em 0.4em;box-sizing: border-box;padding-bottom: 0.4em;background-color: white;}#sk-container-id-24 div.sk-label label {font-family: monospace;font-weight: bold;display: inline-block;line-height: 1.2em;}#sk-container-id-24 div.sk-label-container {text-align: center;}#sk-container-id-24 div.sk-container {/* jupyter's `normalize.less` sets `[hidden] { display: none; }` but bootstrap.min.css set `[hidden] { display: none !important; }` so we also need the `!important` here to be able to override the default hidden behavior on the sphinx rendered scikit-learn.org. See: https://github.com/scikit-learn/scikit-learn/issues/21755 */display: inline-block !important;position: relative;}#sk-container-id-24 div.sk-text-repr-fallback {display: none;}</style><div id=\"sk-container-id-24\" class=\"sk-top-container\"><div class=\"sk-text-repr-fallback\"><pre>GridSearchCV(cv=10, estimator=SVC(kernel=&#x27;sigmoid&#x27;),\n",
       "             param_grid={&#x27;C&#x27;: [1, 10, 100, 1000], &#x27;coef0&#x27;: [0, 1, 2],\n",
       "                         &#x27;gamma&#x27;: [0.1, 1, &#x27;scale&#x27;, &#x27;auto&#x27;]},\n",
       "             refit=&#x27;accuracy&#x27;,\n",
       "             scoring={&#x27;accuracy&#x27;: &#x27;accuracy&#x27;,\n",
       "                      &#x27;weighted_f1&#x27;: make_scorer(f1_score, average=weighted, zero_division=0),\n",
       "                      &#x27;weighted_precision&#x27;: make_scorer(precision_score, average=weighted, zero_division=0),\n",
       "                      &#x27;weighted_recall&#x27;: make_scorer(recall_score, average=weighted, zero_division=0)})</pre><b>In a Jupyter environment, please rerun this cell to show the HTML representation or trust the notebook. <br />On GitHub, the HTML representation is unable to render, please try loading this page with nbviewer.org.</b></div><div class=\"sk-container\" hidden><div class=\"sk-item sk-dashed-wrapped\"><div class=\"sk-label-container\"><div class=\"sk-label sk-toggleable\"><input class=\"sk-toggleable__control sk-hidden--visually\" id=\"sk-estimator-id-71\" type=\"checkbox\" ><label for=\"sk-estimator-id-71\" class=\"sk-toggleable__label sk-toggleable__label-arrow\">GridSearchCV</label><div class=\"sk-toggleable__content\"><pre>GridSearchCV(cv=10, estimator=SVC(kernel=&#x27;sigmoid&#x27;),\n",
       "             param_grid={&#x27;C&#x27;: [1, 10, 100, 1000], &#x27;coef0&#x27;: [0, 1, 2],\n",
       "                         &#x27;gamma&#x27;: [0.1, 1, &#x27;scale&#x27;, &#x27;auto&#x27;]},\n",
       "             refit=&#x27;accuracy&#x27;,\n",
       "             scoring={&#x27;accuracy&#x27;: &#x27;accuracy&#x27;,\n",
       "                      &#x27;weighted_f1&#x27;: make_scorer(f1_score, average=weighted, zero_division=0),\n",
       "                      &#x27;weighted_precision&#x27;: make_scorer(precision_score, average=weighted, zero_division=0),\n",
       "                      &#x27;weighted_recall&#x27;: make_scorer(recall_score, average=weighted, zero_division=0)})</pre></div></div></div><div class=\"sk-parallel\"><div class=\"sk-parallel-item\"><div class=\"sk-item\"><div class=\"sk-label-container\"><div class=\"sk-label sk-toggleable\"><input class=\"sk-toggleable__control sk-hidden--visually\" id=\"sk-estimator-id-72\" type=\"checkbox\" ><label for=\"sk-estimator-id-72\" class=\"sk-toggleable__label sk-toggleable__label-arrow\">estimator: SVC</label><div class=\"sk-toggleable__content\"><pre>SVC(kernel=&#x27;sigmoid&#x27;)</pre></div></div></div><div class=\"sk-serial\"><div class=\"sk-item\"><div class=\"sk-estimator sk-toggleable\"><input class=\"sk-toggleable__control sk-hidden--visually\" id=\"sk-estimator-id-73\" type=\"checkbox\" ><label for=\"sk-estimator-id-73\" class=\"sk-toggleable__label sk-toggleable__label-arrow\">SVC</label><div class=\"sk-toggleable__content\"><pre>SVC(kernel=&#x27;sigmoid&#x27;)</pre></div></div></div></div></div></div></div></div></div></div>"
      ],
      "text/plain": [
       "GridSearchCV(cv=10, estimator=SVC(kernel='sigmoid'),\n",
       "             param_grid={'C': [1, 10, 100, 1000], 'coef0': [0, 1, 2],\n",
       "                         'gamma': [0.1, 1, 'scale', 'auto']},\n",
       "             refit='accuracy',\n",
       "             scoring={'accuracy': 'accuracy',\n",
       "                      'weighted_f1': make_scorer(f1_score, average=weighted, zero_division=0),\n",
       "                      'weighted_precision': make_scorer(precision_score, average=weighted, zero_division=0),\n",
       "                      'weighted_recall': make_scorer(recall_score, average=weighted, zero_division=0)})"
      ]
     },
     "execution_count": 97,
     "metadata": {},
     "output_type": "execute_result"
    }
   ],
   "source": [
    "grid_search.fit(features, target)"
   ]
  },
  {
   "cell_type": "code",
   "execution_count": 98,
   "id": "82ca2d22-7cdc-4fe1-9e7e-6c6dbe17b22d",
   "metadata": {},
   "outputs": [
    {
     "name": "stdout",
     "output_type": "stream",
     "text": [
      "Best parameter for Sigmoid Kernel SVM = {'C': 10, 'coef0': 2, 'gamma': 'scale'}\n",
      "Best Accuracy Score for Sigmoid Kernel SVM = 0.5959615384615384\n",
      "Best Weighted Precision Score for Sigmoid Kernel SVM = 0.6619354133761093\n",
      "Best Weighted Recall Score for Sigmoid Kernel SVM = 0.5959615384615384\n",
      "Best Weighted F1 Score for Sigmoid Kernel SVM = 0.5015432891121969\n"
     ]
    }
   ],
   "source": [
    "best_params = grid_search.best_params_\n",
    "best_accuracy = grid_search.best_score_\n",
    "best_weighted_precision = grid_search.cv_results_['mean_test_weighted_precision'][grid_search.best_index_]\n",
    "best_weighted_recall = grid_search.cv_results_['mean_test_weighted_recall'][grid_search.best_index_]\n",
    "best_weighted_f1 = grid_search.cv_results_['mean_test_weighted_f1'][grid_search.best_index_]\n",
    "\n",
    "print(\"Best parameter for Sigmoid Kernel SVM =\", best_params)\n",
    "print(\"Best Accuracy Score for Sigmoid Kernel SVM =\", best_accuracy)\n",
    "print(\"Best Weighted Precision Score for Sigmoid Kernel SVM =\", best_weighted_precision)\n",
    "print(\"Best Weighted Recall Score for Sigmoid Kernel SVM =\", best_weighted_recall)\n",
    "print(\"Best Weighted F1 Score for Sigmoid Kernel SVM =\", best_weighted_f1)"
   ]
  },
  {
   "cell_type": "markdown",
   "id": "9e8369cf-b1d5-47f9-8620-bf8c018b9e8e",
   "metadata": {},
   "source": [
    "### Polynomial Kernel SVM"
   ]
  },
  {
   "cell_type": "code",
   "execution_count": 13,
   "id": "ae2bc6d9-cbe5-447b-b50d-573e592b39cc",
   "metadata": {},
   "outputs": [],
   "source": [
    "from sklearn.model_selection import GridSearchCV\n",
    "from sklearn.svm import SVC\n",
    "from sklearn.metrics import make_scorer, accuracy_score, precision_score, recall_score, f1_score\n",
    "\n",
    "poly = SVC(kernel = 'poly', degree = 3)\n",
    "\n",
    "poly_param = {\n",
    "     'C': [1,10,100,1000], \n",
    "}\n",
    "\n",
    "scoring = {\n",
    "    'accuracy': 'accuracy',\n",
    "    'weighted_precision': make_scorer(precision_score, average='weighted', zero_division=0),\n",
    "    'weighted_recall': make_scorer(recall_score, average='weighted', zero_division=0),\n",
    "    'weighted_f1': make_scorer(f1_score, average='weighted', zero_division=0)\n",
    "}\n",
    "\n",
    "grid_search = GridSearchCV(poly, poly_param, cv=10, scoring=scoring, refit='accuracy')"
   ]
  },
  {
   "cell_type": "code",
   "execution_count": 14,
   "id": "7dac0e13-91e0-4d66-afe4-bae167e59ea8",
   "metadata": {},
   "outputs": [
    {
     "data": {
      "text/html": [
       "<style>#sk-container-id-3 {color: black;background-color: white;}#sk-container-id-3 pre{padding: 0;}#sk-container-id-3 div.sk-toggleable {background-color: white;}#sk-container-id-3 label.sk-toggleable__label {cursor: pointer;display: block;width: 100%;margin-bottom: 0;padding: 0.3em;box-sizing: border-box;text-align: center;}#sk-container-id-3 label.sk-toggleable__label-arrow:before {content: \"▸\";float: left;margin-right: 0.25em;color: #696969;}#sk-container-id-3 label.sk-toggleable__label-arrow:hover:before {color: black;}#sk-container-id-3 div.sk-estimator:hover label.sk-toggleable__label-arrow:before {color: black;}#sk-container-id-3 div.sk-toggleable__content {max-height: 0;max-width: 0;overflow: hidden;text-align: left;background-color: #f0f8ff;}#sk-container-id-3 div.sk-toggleable__content pre {margin: 0.2em;color: black;border-radius: 0.25em;background-color: #f0f8ff;}#sk-container-id-3 input.sk-toggleable__control:checked~div.sk-toggleable__content {max-height: 200px;max-width: 100%;overflow: auto;}#sk-container-id-3 input.sk-toggleable__control:checked~label.sk-toggleable__label-arrow:before {content: \"▾\";}#sk-container-id-3 div.sk-estimator input.sk-toggleable__control:checked~label.sk-toggleable__label {background-color: #d4ebff;}#sk-container-id-3 div.sk-label input.sk-toggleable__control:checked~label.sk-toggleable__label {background-color: #d4ebff;}#sk-container-id-3 input.sk-hidden--visually {border: 0;clip: rect(1px 1px 1px 1px);clip: rect(1px, 1px, 1px, 1px);height: 1px;margin: -1px;overflow: hidden;padding: 0;position: absolute;width: 1px;}#sk-container-id-3 div.sk-estimator {font-family: monospace;background-color: #f0f8ff;border: 1px dotted black;border-radius: 0.25em;box-sizing: border-box;margin-bottom: 0.5em;}#sk-container-id-3 div.sk-estimator:hover {background-color: #d4ebff;}#sk-container-id-3 div.sk-parallel-item::after {content: \"\";width: 100%;border-bottom: 1px solid gray;flex-grow: 1;}#sk-container-id-3 div.sk-label:hover label.sk-toggleable__label {background-color: #d4ebff;}#sk-container-id-3 div.sk-serial::before {content: \"\";position: absolute;border-left: 1px solid gray;box-sizing: border-box;top: 0;bottom: 0;left: 50%;z-index: 0;}#sk-container-id-3 div.sk-serial {display: flex;flex-direction: column;align-items: center;background-color: white;padding-right: 0.2em;padding-left: 0.2em;position: relative;}#sk-container-id-3 div.sk-item {position: relative;z-index: 1;}#sk-container-id-3 div.sk-parallel {display: flex;align-items: stretch;justify-content: center;background-color: white;position: relative;}#sk-container-id-3 div.sk-item::before, #sk-container-id-3 div.sk-parallel-item::before {content: \"\";position: absolute;border-left: 1px solid gray;box-sizing: border-box;top: 0;bottom: 0;left: 50%;z-index: -1;}#sk-container-id-3 div.sk-parallel-item {display: flex;flex-direction: column;z-index: 1;position: relative;background-color: white;}#sk-container-id-3 div.sk-parallel-item:first-child::after {align-self: flex-end;width: 50%;}#sk-container-id-3 div.sk-parallel-item:last-child::after {align-self: flex-start;width: 50%;}#sk-container-id-3 div.sk-parallel-item:only-child::after {width: 0;}#sk-container-id-3 div.sk-dashed-wrapped {border: 1px dashed gray;margin: 0 0.4em 0.5em 0.4em;box-sizing: border-box;padding-bottom: 0.4em;background-color: white;}#sk-container-id-3 div.sk-label label {font-family: monospace;font-weight: bold;display: inline-block;line-height: 1.2em;}#sk-container-id-3 div.sk-label-container {text-align: center;}#sk-container-id-3 div.sk-container {/* jupyter's `normalize.less` sets `[hidden] { display: none; }` but bootstrap.min.css set `[hidden] { display: none !important; }` so we also need the `!important` here to be able to override the default hidden behavior on the sphinx rendered scikit-learn.org. See: https://github.com/scikit-learn/scikit-learn/issues/21755 */display: inline-block !important;position: relative;}#sk-container-id-3 div.sk-text-repr-fallback {display: none;}</style><div id=\"sk-container-id-3\" class=\"sk-top-container\"><div class=\"sk-text-repr-fallback\"><pre>GridSearchCV(cv=10, estimator=SVC(kernel=&#x27;poly&#x27;),\n",
       "             param_grid={&#x27;C&#x27;: [1, 10, 100, 1000]}, refit=&#x27;accuracy&#x27;,\n",
       "             scoring={&#x27;accuracy&#x27;: &#x27;accuracy&#x27;,\n",
       "                      &#x27;weighted_f1&#x27;: make_scorer(f1_score, average=weighted, zero_division=0),\n",
       "                      &#x27;weighted_precision&#x27;: make_scorer(precision_score, average=weighted, zero_division=0),\n",
       "                      &#x27;weighted_recall&#x27;: make_scorer(recall_score, average=weighted, zero_division=0)})</pre><b>In a Jupyter environment, please rerun this cell to show the HTML representation or trust the notebook. <br />On GitHub, the HTML representation is unable to render, please try loading this page with nbviewer.org.</b></div><div class=\"sk-container\" hidden><div class=\"sk-item sk-dashed-wrapped\"><div class=\"sk-label-container\"><div class=\"sk-label sk-toggleable\"><input class=\"sk-toggleable__control sk-hidden--visually\" id=\"sk-estimator-id-7\" type=\"checkbox\" ><label for=\"sk-estimator-id-7\" class=\"sk-toggleable__label sk-toggleable__label-arrow\">GridSearchCV</label><div class=\"sk-toggleable__content\"><pre>GridSearchCV(cv=10, estimator=SVC(kernel=&#x27;poly&#x27;),\n",
       "             param_grid={&#x27;C&#x27;: [1, 10, 100, 1000]}, refit=&#x27;accuracy&#x27;,\n",
       "             scoring={&#x27;accuracy&#x27;: &#x27;accuracy&#x27;,\n",
       "                      &#x27;weighted_f1&#x27;: make_scorer(f1_score, average=weighted, zero_division=0),\n",
       "                      &#x27;weighted_precision&#x27;: make_scorer(precision_score, average=weighted, zero_division=0),\n",
       "                      &#x27;weighted_recall&#x27;: make_scorer(recall_score, average=weighted, zero_division=0)})</pre></div></div></div><div class=\"sk-parallel\"><div class=\"sk-parallel-item\"><div class=\"sk-item\"><div class=\"sk-label-container\"><div class=\"sk-label sk-toggleable\"><input class=\"sk-toggleable__control sk-hidden--visually\" id=\"sk-estimator-id-8\" type=\"checkbox\" ><label for=\"sk-estimator-id-8\" class=\"sk-toggleable__label sk-toggleable__label-arrow\">estimator: SVC</label><div class=\"sk-toggleable__content\"><pre>SVC(kernel=&#x27;poly&#x27;)</pre></div></div></div><div class=\"sk-serial\"><div class=\"sk-item\"><div class=\"sk-estimator sk-toggleable\"><input class=\"sk-toggleable__control sk-hidden--visually\" id=\"sk-estimator-id-9\" type=\"checkbox\" ><label for=\"sk-estimator-id-9\" class=\"sk-toggleable__label sk-toggleable__label-arrow\">SVC</label><div class=\"sk-toggleable__content\"><pre>SVC(kernel=&#x27;poly&#x27;)</pre></div></div></div></div></div></div></div></div></div></div>"
      ],
      "text/plain": [
       "GridSearchCV(cv=10, estimator=SVC(kernel='poly'),\n",
       "             param_grid={'C': [1, 10, 100, 1000]}, refit='accuracy',\n",
       "             scoring={'accuracy': 'accuracy',\n",
       "                      'weighted_f1': make_scorer(f1_score, average=weighted, zero_division=0),\n",
       "                      'weighted_precision': make_scorer(precision_score, average=weighted, zero_division=0),\n",
       "                      'weighted_recall': make_scorer(recall_score, average=weighted, zero_division=0)})"
      ]
     },
     "execution_count": 14,
     "metadata": {},
     "output_type": "execute_result"
    }
   ],
   "source": [
    "grid_search.fit(features, target)"
   ]
  },
  {
   "cell_type": "code",
   "execution_count": 15,
   "id": "1e53485c-04aa-4666-aa92-48ab1a388d81",
   "metadata": {},
   "outputs": [
    {
     "name": "stdout",
     "output_type": "stream",
     "text": [
      "Best parameter for Polynomial Kernel SVM = {'C': 1000}\n",
      "Best Accuracy Score for Polynomial Kernel SVM = 0.6140384615384615\n",
      "Best Weighted Precision Score for Polynomial Kernel SVM = 0.641291632386122\n",
      "Best Weighted Recall Score for Polynomial Kernel SVM = 0.6140384615384615\n",
      "Best Weighted F1 Score for Polynomial Kernel SVM = 0.566799395245657\n"
     ]
    }
   ],
   "source": [
    "best_params = grid_search.best_params_\n",
    "best_accuracy = grid_search.best_score_\n",
    "best_weighted_precision = grid_search.cv_results_['mean_test_weighted_precision'][grid_search.best_index_]\n",
    "best_weighted_recall = grid_search.cv_results_['mean_test_weighted_recall'][grid_search.best_index_]\n",
    "best_weighted_f1 = grid_search.cv_results_['mean_test_weighted_f1'][grid_search.best_index_]\n",
    "\n",
    "print(\"Best parameter for Polynomial Kernel SVM =\", best_params)\n",
    "print(\"Best Accuracy Score for Polynomial Kernel SVM =\", best_accuracy)\n",
    "print(\"Best Weighted Precision Score for Polynomial Kernel SVM =\", best_weighted_precision)\n",
    "print(\"Best Weighted Recall Score for Polynomial Kernel SVM =\", best_weighted_recall)\n",
    "print(\"Best Weighted F1 Score for Polynomial Kernel SVM =\", best_weighted_f1)"
   ]
  },
  {
   "cell_type": "code",
   "execution_count": 4,
   "id": "3c480347-e829-4993-88b2-342edc239ef8",
   "metadata": {},
   "outputs": [],
   "source": [
    "from sklearn.model_selection import GridSearchCV\n",
    "from sklearn.svm import SVC\n",
    "from sklearn.metrics import make_scorer, accuracy_score, precision_score, recall_score, f1_score\n",
    "\n",
    "poly = SVC(kernel = 'poly', degree = 3, C = 1000)\n",
    "\n",
    "poly_param = {\n",
    "     'coef0': [0, 1, 2]  \n",
    "}\n",
    "\n",
    "scoring = {\n",
    "    'accuracy': 'accuracy',\n",
    "    'weighted_precision': make_scorer(precision_score, average='weighted', zero_division=0),\n",
    "    'weighted_recall': make_scorer(recall_score, average='weighted', zero_division=0),\n",
    "    'weighted_f1': make_scorer(f1_score, average='weighted', zero_division=0)\n",
    "}\n",
    "\n",
    "grid_search = GridSearchCV(poly, poly_param, cv=10, scoring=scoring, refit='accuracy')"
   ]
  },
  {
   "cell_type": "code",
   "execution_count": 5,
   "id": "07dafd0c-c947-46e9-8025-b194d86cc723",
   "metadata": {},
   "outputs": [
    {
     "data": {
      "text/html": [
       "<style>#sk-container-id-1 {color: black;background-color: white;}#sk-container-id-1 pre{padding: 0;}#sk-container-id-1 div.sk-toggleable {background-color: white;}#sk-container-id-1 label.sk-toggleable__label {cursor: pointer;display: block;width: 100%;margin-bottom: 0;padding: 0.3em;box-sizing: border-box;text-align: center;}#sk-container-id-1 label.sk-toggleable__label-arrow:before {content: \"▸\";float: left;margin-right: 0.25em;color: #696969;}#sk-container-id-1 label.sk-toggleable__label-arrow:hover:before {color: black;}#sk-container-id-1 div.sk-estimator:hover label.sk-toggleable__label-arrow:before {color: black;}#sk-container-id-1 div.sk-toggleable__content {max-height: 0;max-width: 0;overflow: hidden;text-align: left;background-color: #f0f8ff;}#sk-container-id-1 div.sk-toggleable__content pre {margin: 0.2em;color: black;border-radius: 0.25em;background-color: #f0f8ff;}#sk-container-id-1 input.sk-toggleable__control:checked~div.sk-toggleable__content {max-height: 200px;max-width: 100%;overflow: auto;}#sk-container-id-1 input.sk-toggleable__control:checked~label.sk-toggleable__label-arrow:before {content: \"▾\";}#sk-container-id-1 div.sk-estimator input.sk-toggleable__control:checked~label.sk-toggleable__label {background-color: #d4ebff;}#sk-container-id-1 div.sk-label input.sk-toggleable__control:checked~label.sk-toggleable__label {background-color: #d4ebff;}#sk-container-id-1 input.sk-hidden--visually {border: 0;clip: rect(1px 1px 1px 1px);clip: rect(1px, 1px, 1px, 1px);height: 1px;margin: -1px;overflow: hidden;padding: 0;position: absolute;width: 1px;}#sk-container-id-1 div.sk-estimator {font-family: monospace;background-color: #f0f8ff;border: 1px dotted black;border-radius: 0.25em;box-sizing: border-box;margin-bottom: 0.5em;}#sk-container-id-1 div.sk-estimator:hover {background-color: #d4ebff;}#sk-container-id-1 div.sk-parallel-item::after {content: \"\";width: 100%;border-bottom: 1px solid gray;flex-grow: 1;}#sk-container-id-1 div.sk-label:hover label.sk-toggleable__label {background-color: #d4ebff;}#sk-container-id-1 div.sk-serial::before {content: \"\";position: absolute;border-left: 1px solid gray;box-sizing: border-box;top: 0;bottom: 0;left: 50%;z-index: 0;}#sk-container-id-1 div.sk-serial {display: flex;flex-direction: column;align-items: center;background-color: white;padding-right: 0.2em;padding-left: 0.2em;position: relative;}#sk-container-id-1 div.sk-item {position: relative;z-index: 1;}#sk-container-id-1 div.sk-parallel {display: flex;align-items: stretch;justify-content: center;background-color: white;position: relative;}#sk-container-id-1 div.sk-item::before, #sk-container-id-1 div.sk-parallel-item::before {content: \"\";position: absolute;border-left: 1px solid gray;box-sizing: border-box;top: 0;bottom: 0;left: 50%;z-index: -1;}#sk-container-id-1 div.sk-parallel-item {display: flex;flex-direction: column;z-index: 1;position: relative;background-color: white;}#sk-container-id-1 div.sk-parallel-item:first-child::after {align-self: flex-end;width: 50%;}#sk-container-id-1 div.sk-parallel-item:last-child::after {align-self: flex-start;width: 50%;}#sk-container-id-1 div.sk-parallel-item:only-child::after {width: 0;}#sk-container-id-1 div.sk-dashed-wrapped {border: 1px dashed gray;margin: 0 0.4em 0.5em 0.4em;box-sizing: border-box;padding-bottom: 0.4em;background-color: white;}#sk-container-id-1 div.sk-label label {font-family: monospace;font-weight: bold;display: inline-block;line-height: 1.2em;}#sk-container-id-1 div.sk-label-container {text-align: center;}#sk-container-id-1 div.sk-container {/* jupyter's `normalize.less` sets `[hidden] { display: none; }` but bootstrap.min.css set `[hidden] { display: none !important; }` so we also need the `!important` here to be able to override the default hidden behavior on the sphinx rendered scikit-learn.org. See: https://github.com/scikit-learn/scikit-learn/issues/21755 */display: inline-block !important;position: relative;}#sk-container-id-1 div.sk-text-repr-fallback {display: none;}</style><div id=\"sk-container-id-1\" class=\"sk-top-container\"><div class=\"sk-text-repr-fallback\"><pre>GridSearchCV(cv=10, estimator=SVC(C=1000, kernel=&#x27;poly&#x27;),\n",
       "             param_grid={&#x27;coef0&#x27;: [0, 1, 2]}, refit=&#x27;accuracy&#x27;,\n",
       "             scoring={&#x27;accuracy&#x27;: &#x27;accuracy&#x27;,\n",
       "                      &#x27;weighted_f1&#x27;: make_scorer(f1_score, average=weighted, zero_division=0),\n",
       "                      &#x27;weighted_precision&#x27;: make_scorer(precision_score, average=weighted, zero_division=0),\n",
       "                      &#x27;weighted_recall&#x27;: make_scorer(recall_score, average=weighted, zero_division=0)})</pre><b>In a Jupyter environment, please rerun this cell to show the HTML representation or trust the notebook. <br />On GitHub, the HTML representation is unable to render, please try loading this page with nbviewer.org.</b></div><div class=\"sk-container\" hidden><div class=\"sk-item sk-dashed-wrapped\"><div class=\"sk-label-container\"><div class=\"sk-label sk-toggleable\"><input class=\"sk-toggleable__control sk-hidden--visually\" id=\"sk-estimator-id-1\" type=\"checkbox\" ><label for=\"sk-estimator-id-1\" class=\"sk-toggleable__label sk-toggleable__label-arrow\">GridSearchCV</label><div class=\"sk-toggleable__content\"><pre>GridSearchCV(cv=10, estimator=SVC(C=1000, kernel=&#x27;poly&#x27;),\n",
       "             param_grid={&#x27;coef0&#x27;: [0, 1, 2]}, refit=&#x27;accuracy&#x27;,\n",
       "             scoring={&#x27;accuracy&#x27;: &#x27;accuracy&#x27;,\n",
       "                      &#x27;weighted_f1&#x27;: make_scorer(f1_score, average=weighted, zero_division=0),\n",
       "                      &#x27;weighted_precision&#x27;: make_scorer(precision_score, average=weighted, zero_division=0),\n",
       "                      &#x27;weighted_recall&#x27;: make_scorer(recall_score, average=weighted, zero_division=0)})</pre></div></div></div><div class=\"sk-parallel\"><div class=\"sk-parallel-item\"><div class=\"sk-item\"><div class=\"sk-label-container\"><div class=\"sk-label sk-toggleable\"><input class=\"sk-toggleable__control sk-hidden--visually\" id=\"sk-estimator-id-2\" type=\"checkbox\" ><label for=\"sk-estimator-id-2\" class=\"sk-toggleable__label sk-toggleable__label-arrow\">estimator: SVC</label><div class=\"sk-toggleable__content\"><pre>SVC(C=1000, kernel=&#x27;poly&#x27;)</pre></div></div></div><div class=\"sk-serial\"><div class=\"sk-item\"><div class=\"sk-estimator sk-toggleable\"><input class=\"sk-toggleable__control sk-hidden--visually\" id=\"sk-estimator-id-3\" type=\"checkbox\" ><label for=\"sk-estimator-id-3\" class=\"sk-toggleable__label sk-toggleable__label-arrow\">SVC</label><div class=\"sk-toggleable__content\"><pre>SVC(C=1000, kernel=&#x27;poly&#x27;)</pre></div></div></div></div></div></div></div></div></div></div>"
      ],
      "text/plain": [
       "GridSearchCV(cv=10, estimator=SVC(C=1000, kernel='poly'),\n",
       "             param_grid={'coef0': [0, 1, 2]}, refit='accuracy',\n",
       "             scoring={'accuracy': 'accuracy',\n",
       "                      'weighted_f1': make_scorer(f1_score, average=weighted, zero_division=0),\n",
       "                      'weighted_precision': make_scorer(precision_score, average=weighted, zero_division=0),\n",
       "                      'weighted_recall': make_scorer(recall_score, average=weighted, zero_division=0)})"
      ]
     },
     "execution_count": 5,
     "metadata": {},
     "output_type": "execute_result"
    }
   ],
   "source": [
    "grid_search.fit(features, target)"
   ]
  },
  {
   "cell_type": "code",
   "execution_count": 6,
   "id": "9a75d68a-d030-412c-9901-ea3ffd1233ba",
   "metadata": {},
   "outputs": [
    {
     "name": "stdout",
     "output_type": "stream",
     "text": [
      "Best parameter for Polynomial Kernel SVM = {'coef0': 1}\n",
      "Best Accuracy Score for Polynomial Kernel SVM = 0.6267307692307693\n",
      "Best Weighted Precision Score for Polynomial Kernel SVM = 0.6313922360957955\n",
      "Best Weighted Recall Score for Polynomial Kernel SVM = 0.6267307692307693\n",
      "Best Weighted F1 Score for Polynomial Kernel SVM = 0.6116837249670092\n"
     ]
    }
   ],
   "source": [
    "best_params = grid_search.best_params_\n",
    "best_accuracy = grid_search.best_score_\n",
    "best_weighted_precision = grid_search.cv_results_['mean_test_weighted_precision'][grid_search.best_index_]\n",
    "best_weighted_recall = grid_search.cv_results_['mean_test_weighted_recall'][grid_search.best_index_]\n",
    "best_weighted_f1 = grid_search.cv_results_['mean_test_weighted_f1'][grid_search.best_index_]\n",
    "\n",
    "print(\"Best parameter for Polynomial Kernel SVM =\", best_params)\n",
    "print(\"Best Accuracy Score for Polynomial Kernel SVM =\", best_accuracy)\n",
    "print(\"Best Weighted Precision Score for Polynomial Kernel SVM =\", best_weighted_precision)\n",
    "print(\"Best Weighted Recall Score for Polynomial Kernel SVM =\", best_weighted_recall)\n",
    "print(\"Best Weighted F1 Score for Polynomial Kernel SVM =\", best_weighted_f1)"
   ]
  },
  {
   "cell_type": "code",
   "execution_count": 4,
   "id": "e45639b1-7d74-448b-bf85-a928f743d59f",
   "metadata": {},
   "outputs": [],
   "source": [
    "from sklearn.model_selection import GridSearchCV\n",
    "from sklearn.svm import SVC\n",
    "from sklearn.metrics import make_scorer, accuracy_score, precision_score, recall_score, f1_score\n",
    "\n",
    "poly = SVC(kernel = 'poly', degree = 3, C = 1000, coef0 = 1)\n",
    "\n",
    "poly_param = {\n",
    "    'degree': [1, 2, 3, 4]\n",
    "}\n",
    "\n",
    "scoring = {\n",
    "    'accuracy': 'accuracy',\n",
    "    'weighted_precision': make_scorer(precision_score, average='weighted', zero_division=0),\n",
    "    'weighted_recall': make_scorer(recall_score, average='weighted', zero_division=0),\n",
    "    'weighted_f1': make_scorer(f1_score, average='weighted', zero_division=0)\n",
    "}\n",
    "\n",
    "grid_search = GridSearchCV(poly, poly_param, cv=10, scoring=scoring, refit='accuracy')"
   ]
  },
  {
   "cell_type": "code",
   "execution_count": 5,
   "id": "f795fd9c-dec4-4349-8fa3-77696097014d",
   "metadata": {},
   "outputs": [
    {
     "data": {
      "text/html": [
       "<style>#sk-container-id-1 {color: black;background-color: white;}#sk-container-id-1 pre{padding: 0;}#sk-container-id-1 div.sk-toggleable {background-color: white;}#sk-container-id-1 label.sk-toggleable__label {cursor: pointer;display: block;width: 100%;margin-bottom: 0;padding: 0.3em;box-sizing: border-box;text-align: center;}#sk-container-id-1 label.sk-toggleable__label-arrow:before {content: \"▸\";float: left;margin-right: 0.25em;color: #696969;}#sk-container-id-1 label.sk-toggleable__label-arrow:hover:before {color: black;}#sk-container-id-1 div.sk-estimator:hover label.sk-toggleable__label-arrow:before {color: black;}#sk-container-id-1 div.sk-toggleable__content {max-height: 0;max-width: 0;overflow: hidden;text-align: left;background-color: #f0f8ff;}#sk-container-id-1 div.sk-toggleable__content pre {margin: 0.2em;color: black;border-radius: 0.25em;background-color: #f0f8ff;}#sk-container-id-1 input.sk-toggleable__control:checked~div.sk-toggleable__content {max-height: 200px;max-width: 100%;overflow: auto;}#sk-container-id-1 input.sk-toggleable__control:checked~label.sk-toggleable__label-arrow:before {content: \"▾\";}#sk-container-id-1 div.sk-estimator input.sk-toggleable__control:checked~label.sk-toggleable__label {background-color: #d4ebff;}#sk-container-id-1 div.sk-label input.sk-toggleable__control:checked~label.sk-toggleable__label {background-color: #d4ebff;}#sk-container-id-1 input.sk-hidden--visually {border: 0;clip: rect(1px 1px 1px 1px);clip: rect(1px, 1px, 1px, 1px);height: 1px;margin: -1px;overflow: hidden;padding: 0;position: absolute;width: 1px;}#sk-container-id-1 div.sk-estimator {font-family: monospace;background-color: #f0f8ff;border: 1px dotted black;border-radius: 0.25em;box-sizing: border-box;margin-bottom: 0.5em;}#sk-container-id-1 div.sk-estimator:hover {background-color: #d4ebff;}#sk-container-id-1 div.sk-parallel-item::after {content: \"\";width: 100%;border-bottom: 1px solid gray;flex-grow: 1;}#sk-container-id-1 div.sk-label:hover label.sk-toggleable__label {background-color: #d4ebff;}#sk-container-id-1 div.sk-serial::before {content: \"\";position: absolute;border-left: 1px solid gray;box-sizing: border-box;top: 0;bottom: 0;left: 50%;z-index: 0;}#sk-container-id-1 div.sk-serial {display: flex;flex-direction: column;align-items: center;background-color: white;padding-right: 0.2em;padding-left: 0.2em;position: relative;}#sk-container-id-1 div.sk-item {position: relative;z-index: 1;}#sk-container-id-1 div.sk-parallel {display: flex;align-items: stretch;justify-content: center;background-color: white;position: relative;}#sk-container-id-1 div.sk-item::before, #sk-container-id-1 div.sk-parallel-item::before {content: \"\";position: absolute;border-left: 1px solid gray;box-sizing: border-box;top: 0;bottom: 0;left: 50%;z-index: -1;}#sk-container-id-1 div.sk-parallel-item {display: flex;flex-direction: column;z-index: 1;position: relative;background-color: white;}#sk-container-id-1 div.sk-parallel-item:first-child::after {align-self: flex-end;width: 50%;}#sk-container-id-1 div.sk-parallel-item:last-child::after {align-self: flex-start;width: 50%;}#sk-container-id-1 div.sk-parallel-item:only-child::after {width: 0;}#sk-container-id-1 div.sk-dashed-wrapped {border: 1px dashed gray;margin: 0 0.4em 0.5em 0.4em;box-sizing: border-box;padding-bottom: 0.4em;background-color: white;}#sk-container-id-1 div.sk-label label {font-family: monospace;font-weight: bold;display: inline-block;line-height: 1.2em;}#sk-container-id-1 div.sk-label-container {text-align: center;}#sk-container-id-1 div.sk-container {/* jupyter's `normalize.less` sets `[hidden] { display: none; }` but bootstrap.min.css set `[hidden] { display: none !important; }` so we also need the `!important` here to be able to override the default hidden behavior on the sphinx rendered scikit-learn.org. See: https://github.com/scikit-learn/scikit-learn/issues/21755 */display: inline-block !important;position: relative;}#sk-container-id-1 div.sk-text-repr-fallback {display: none;}</style><div id=\"sk-container-id-1\" class=\"sk-top-container\"><div class=\"sk-text-repr-fallback\"><pre>GridSearchCV(cv=10, estimator=SVC(C=1000, coef0=1, kernel=&#x27;poly&#x27;),\n",
       "             param_grid={&#x27;degree&#x27;: [1, 2, 3, 4]}, refit=&#x27;accuracy&#x27;,\n",
       "             scoring={&#x27;accuracy&#x27;: &#x27;accuracy&#x27;,\n",
       "                      &#x27;weighted_f1&#x27;: make_scorer(f1_score, average=weighted, zero_division=0),\n",
       "                      &#x27;weighted_precision&#x27;: make_scorer(precision_score, average=weighted, zero_division=0),\n",
       "                      &#x27;weighted_recall&#x27;: make_scorer(recall_score, average=weighted, zero_division=0)})</pre><b>In a Jupyter environment, please rerun this cell to show the HTML representation or trust the notebook. <br />On GitHub, the HTML representation is unable to render, please try loading this page with nbviewer.org.</b></div><div class=\"sk-container\" hidden><div class=\"sk-item sk-dashed-wrapped\"><div class=\"sk-label-container\"><div class=\"sk-label sk-toggleable\"><input class=\"sk-toggleable__control sk-hidden--visually\" id=\"sk-estimator-id-1\" type=\"checkbox\" ><label for=\"sk-estimator-id-1\" class=\"sk-toggleable__label sk-toggleable__label-arrow\">GridSearchCV</label><div class=\"sk-toggleable__content\"><pre>GridSearchCV(cv=10, estimator=SVC(C=1000, coef0=1, kernel=&#x27;poly&#x27;),\n",
       "             param_grid={&#x27;degree&#x27;: [1, 2, 3, 4]}, refit=&#x27;accuracy&#x27;,\n",
       "             scoring={&#x27;accuracy&#x27;: &#x27;accuracy&#x27;,\n",
       "                      &#x27;weighted_f1&#x27;: make_scorer(f1_score, average=weighted, zero_division=0),\n",
       "                      &#x27;weighted_precision&#x27;: make_scorer(precision_score, average=weighted, zero_division=0),\n",
       "                      &#x27;weighted_recall&#x27;: make_scorer(recall_score, average=weighted, zero_division=0)})</pre></div></div></div><div class=\"sk-parallel\"><div class=\"sk-parallel-item\"><div class=\"sk-item\"><div class=\"sk-label-container\"><div class=\"sk-label sk-toggleable\"><input class=\"sk-toggleable__control sk-hidden--visually\" id=\"sk-estimator-id-2\" type=\"checkbox\" ><label for=\"sk-estimator-id-2\" class=\"sk-toggleable__label sk-toggleable__label-arrow\">estimator: SVC</label><div class=\"sk-toggleable__content\"><pre>SVC(C=1000, coef0=1, kernel=&#x27;poly&#x27;)</pre></div></div></div><div class=\"sk-serial\"><div class=\"sk-item\"><div class=\"sk-estimator sk-toggleable\"><input class=\"sk-toggleable__control sk-hidden--visually\" id=\"sk-estimator-id-3\" type=\"checkbox\" ><label for=\"sk-estimator-id-3\" class=\"sk-toggleable__label sk-toggleable__label-arrow\">SVC</label><div class=\"sk-toggleable__content\"><pre>SVC(C=1000, coef0=1, kernel=&#x27;poly&#x27;)</pre></div></div></div></div></div></div></div></div></div></div>"
      ],
      "text/plain": [
       "GridSearchCV(cv=10, estimator=SVC(C=1000, coef0=1, kernel='poly'),\n",
       "             param_grid={'degree': [1, 2, 3, 4]}, refit='accuracy',\n",
       "             scoring={'accuracy': 'accuracy',\n",
       "                      'weighted_f1': make_scorer(f1_score, average=weighted, zero_division=0),\n",
       "                      'weighted_precision': make_scorer(precision_score, average=weighted, zero_division=0),\n",
       "                      'weighted_recall': make_scorer(recall_score, average=weighted, zero_division=0)})"
      ]
     },
     "execution_count": 5,
     "metadata": {},
     "output_type": "execute_result"
    }
   ],
   "source": [
    "grid_search.fit(features, target)"
   ]
  },
  {
   "cell_type": "code",
   "execution_count": 6,
   "id": "2d737508-4232-4ad8-8bf6-81316f388359",
   "metadata": {},
   "outputs": [
    {
     "name": "stdout",
     "output_type": "stream",
     "text": [
      "Best parameter for Polynomial Kernel SVM = {'degree': 1}\n",
      "Best Accuracy Score for Polynomial Kernel SVM = 0.629102564102564\n",
      "Best Weighted Precision Score for Polynomial Kernel SVM = 0.6603815301728332\n",
      "Best Weighted Recall Score for Polynomial Kernel SVM = 0.629102564102564\n",
      "Best Weighted F1 Score for Polynomial Kernel SVM = 0.584706984213165\n"
     ]
    }
   ],
   "source": [
    "best_params = grid_search.best_params_\n",
    "best_accuracy = grid_search.best_score_\n",
    "best_weighted_precision = grid_search.cv_results_['mean_test_weighted_precision'][grid_search.best_index_]\n",
    "best_weighted_recall = grid_search.cv_results_['mean_test_weighted_recall'][grid_search.best_index_]\n",
    "best_weighted_f1 = grid_search.cv_results_['mean_test_weighted_f1'][grid_search.best_index_]\n",
    "\n",
    "print(\"Best parameter for Polynomial Kernel SVM =\", best_params)\n",
    "print(\"Best Accuracy Score for Polynomial Kernel SVM =\", best_accuracy)\n",
    "print(\"Best Weighted Precision Score for Polynomial Kernel SVM =\", best_weighted_precision)\n",
    "print(\"Best Weighted Recall Score for Polynomial Kernel SVM =\", best_weighted_recall)\n",
    "print(\"Best Weighted F1 Score for Polynomial Kernel SVM =\", best_weighted_f1)"
   ]
  },
  {
   "cell_type": "code",
   "execution_count": 4,
   "id": "f5b0c7f6-f4df-42ae-bee5-eeb231f7de27",
   "metadata": {},
   "outputs": [],
   "source": [
    "from sklearn.model_selection import GridSearchCV\n",
    "from sklearn.svm import SVC\n",
    "from sklearn.metrics import make_scorer, accuracy_score, precision_score, recall_score, f1_score\n",
    "\n",
    "poly = SVC(kernel = 'poly', C = 1000, coef0 = 1, degree = 1)\n",
    "\n",
    "poly_param = {\n",
    "    'gamma': [0.1, 1, 'scale', 'auto'],\n",
    "}\n",
    "\n",
    "scoring = {\n",
    "    'accuracy': 'accuracy',\n",
    "    'weighted_precision': make_scorer(precision_score, average='weighted', zero_division=0),\n",
    "    'weighted_recall': make_scorer(recall_score, average='weighted', zero_division=0),\n",
    "    'weighted_f1': make_scorer(f1_score, average='weighted', zero_division=0)\n",
    "}\n",
    "\n",
    "grid_search = GridSearchCV(poly, poly_param, cv=10, scoring=scoring, refit='accuracy')"
   ]
  },
  {
   "cell_type": "code",
   "execution_count": 5,
   "id": "5c4d724d-1288-4d51-bbb4-dddb1c4e31a7",
   "metadata": {},
   "outputs": [
    {
     "data": {
      "text/html": [
       "<style>#sk-container-id-1 {color: black;background-color: white;}#sk-container-id-1 pre{padding: 0;}#sk-container-id-1 div.sk-toggleable {background-color: white;}#sk-container-id-1 label.sk-toggleable__label {cursor: pointer;display: block;width: 100%;margin-bottom: 0;padding: 0.3em;box-sizing: border-box;text-align: center;}#sk-container-id-1 label.sk-toggleable__label-arrow:before {content: \"▸\";float: left;margin-right: 0.25em;color: #696969;}#sk-container-id-1 label.sk-toggleable__label-arrow:hover:before {color: black;}#sk-container-id-1 div.sk-estimator:hover label.sk-toggleable__label-arrow:before {color: black;}#sk-container-id-1 div.sk-toggleable__content {max-height: 0;max-width: 0;overflow: hidden;text-align: left;background-color: #f0f8ff;}#sk-container-id-1 div.sk-toggleable__content pre {margin: 0.2em;color: black;border-radius: 0.25em;background-color: #f0f8ff;}#sk-container-id-1 input.sk-toggleable__control:checked~div.sk-toggleable__content {max-height: 200px;max-width: 100%;overflow: auto;}#sk-container-id-1 input.sk-toggleable__control:checked~label.sk-toggleable__label-arrow:before {content: \"▾\";}#sk-container-id-1 div.sk-estimator input.sk-toggleable__control:checked~label.sk-toggleable__label {background-color: #d4ebff;}#sk-container-id-1 div.sk-label input.sk-toggleable__control:checked~label.sk-toggleable__label {background-color: #d4ebff;}#sk-container-id-1 input.sk-hidden--visually {border: 0;clip: rect(1px 1px 1px 1px);clip: rect(1px, 1px, 1px, 1px);height: 1px;margin: -1px;overflow: hidden;padding: 0;position: absolute;width: 1px;}#sk-container-id-1 div.sk-estimator {font-family: monospace;background-color: #f0f8ff;border: 1px dotted black;border-radius: 0.25em;box-sizing: border-box;margin-bottom: 0.5em;}#sk-container-id-1 div.sk-estimator:hover {background-color: #d4ebff;}#sk-container-id-1 div.sk-parallel-item::after {content: \"\";width: 100%;border-bottom: 1px solid gray;flex-grow: 1;}#sk-container-id-1 div.sk-label:hover label.sk-toggleable__label {background-color: #d4ebff;}#sk-container-id-1 div.sk-serial::before {content: \"\";position: absolute;border-left: 1px solid gray;box-sizing: border-box;top: 0;bottom: 0;left: 50%;z-index: 0;}#sk-container-id-1 div.sk-serial {display: flex;flex-direction: column;align-items: center;background-color: white;padding-right: 0.2em;padding-left: 0.2em;position: relative;}#sk-container-id-1 div.sk-item {position: relative;z-index: 1;}#sk-container-id-1 div.sk-parallel {display: flex;align-items: stretch;justify-content: center;background-color: white;position: relative;}#sk-container-id-1 div.sk-item::before, #sk-container-id-1 div.sk-parallel-item::before {content: \"\";position: absolute;border-left: 1px solid gray;box-sizing: border-box;top: 0;bottom: 0;left: 50%;z-index: -1;}#sk-container-id-1 div.sk-parallel-item {display: flex;flex-direction: column;z-index: 1;position: relative;background-color: white;}#sk-container-id-1 div.sk-parallel-item:first-child::after {align-self: flex-end;width: 50%;}#sk-container-id-1 div.sk-parallel-item:last-child::after {align-self: flex-start;width: 50%;}#sk-container-id-1 div.sk-parallel-item:only-child::after {width: 0;}#sk-container-id-1 div.sk-dashed-wrapped {border: 1px dashed gray;margin: 0 0.4em 0.5em 0.4em;box-sizing: border-box;padding-bottom: 0.4em;background-color: white;}#sk-container-id-1 div.sk-label label {font-family: monospace;font-weight: bold;display: inline-block;line-height: 1.2em;}#sk-container-id-1 div.sk-label-container {text-align: center;}#sk-container-id-1 div.sk-container {/* jupyter's `normalize.less` sets `[hidden] { display: none; }` but bootstrap.min.css set `[hidden] { display: none !important; }` so we also need the `!important` here to be able to override the default hidden behavior on the sphinx rendered scikit-learn.org. See: https://github.com/scikit-learn/scikit-learn/issues/21755 */display: inline-block !important;position: relative;}#sk-container-id-1 div.sk-text-repr-fallback {display: none;}</style><div id=\"sk-container-id-1\" class=\"sk-top-container\"><div class=\"sk-text-repr-fallback\"><pre>GridSearchCV(cv=10, estimator=SVC(C=1000, coef0=1, degree=1, kernel=&#x27;poly&#x27;),\n",
       "             param_grid={&#x27;gamma&#x27;: [0.1, 1, &#x27;scale&#x27;, &#x27;auto&#x27;]}, refit=&#x27;accuracy&#x27;,\n",
       "             scoring={&#x27;accuracy&#x27;: &#x27;accuracy&#x27;,\n",
       "                      &#x27;weighted_f1&#x27;: make_scorer(f1_score, average=weighted, zero_division=0),\n",
       "                      &#x27;weighted_precision&#x27;: make_scorer(precision_score, average=weighted, zero_division=0),\n",
       "                      &#x27;weighted_recall&#x27;: make_scorer(recall_score, average=weighted, zero_division=0)})</pre><b>In a Jupyter environment, please rerun this cell to show the HTML representation or trust the notebook. <br />On GitHub, the HTML representation is unable to render, please try loading this page with nbviewer.org.</b></div><div class=\"sk-container\" hidden><div class=\"sk-item sk-dashed-wrapped\"><div class=\"sk-label-container\"><div class=\"sk-label sk-toggleable\"><input class=\"sk-toggleable__control sk-hidden--visually\" id=\"sk-estimator-id-1\" type=\"checkbox\" ><label for=\"sk-estimator-id-1\" class=\"sk-toggleable__label sk-toggleable__label-arrow\">GridSearchCV</label><div class=\"sk-toggleable__content\"><pre>GridSearchCV(cv=10, estimator=SVC(C=1000, coef0=1, degree=1, kernel=&#x27;poly&#x27;),\n",
       "             param_grid={&#x27;gamma&#x27;: [0.1, 1, &#x27;scale&#x27;, &#x27;auto&#x27;]}, refit=&#x27;accuracy&#x27;,\n",
       "             scoring={&#x27;accuracy&#x27;: &#x27;accuracy&#x27;,\n",
       "                      &#x27;weighted_f1&#x27;: make_scorer(f1_score, average=weighted, zero_division=0),\n",
       "                      &#x27;weighted_precision&#x27;: make_scorer(precision_score, average=weighted, zero_division=0),\n",
       "                      &#x27;weighted_recall&#x27;: make_scorer(recall_score, average=weighted, zero_division=0)})</pre></div></div></div><div class=\"sk-parallel\"><div class=\"sk-parallel-item\"><div class=\"sk-item\"><div class=\"sk-label-container\"><div class=\"sk-label sk-toggleable\"><input class=\"sk-toggleable__control sk-hidden--visually\" id=\"sk-estimator-id-2\" type=\"checkbox\" ><label for=\"sk-estimator-id-2\" class=\"sk-toggleable__label sk-toggleable__label-arrow\">estimator: SVC</label><div class=\"sk-toggleable__content\"><pre>SVC(C=1000, coef0=1, degree=1, kernel=&#x27;poly&#x27;)</pre></div></div></div><div class=\"sk-serial\"><div class=\"sk-item\"><div class=\"sk-estimator sk-toggleable\"><input class=\"sk-toggleable__control sk-hidden--visually\" id=\"sk-estimator-id-3\" type=\"checkbox\" ><label for=\"sk-estimator-id-3\" class=\"sk-toggleable__label sk-toggleable__label-arrow\">SVC</label><div class=\"sk-toggleable__content\"><pre>SVC(C=1000, coef0=1, degree=1, kernel=&#x27;poly&#x27;)</pre></div></div></div></div></div></div></div></div></div></div>"
      ],
      "text/plain": [
       "GridSearchCV(cv=10, estimator=SVC(C=1000, coef0=1, degree=1, kernel='poly'),\n",
       "             param_grid={'gamma': [0.1, 1, 'scale', 'auto']}, refit='accuracy',\n",
       "             scoring={'accuracy': 'accuracy',\n",
       "                      'weighted_f1': make_scorer(f1_score, average=weighted, zero_division=0),\n",
       "                      'weighted_precision': make_scorer(precision_score, average=weighted, zero_division=0),\n",
       "                      'weighted_recall': make_scorer(recall_score, average=weighted, zero_division=0)})"
      ]
     },
     "execution_count": 5,
     "metadata": {},
     "output_type": "execute_result"
    }
   ],
   "source": [
    "grid_search.fit(features, target)"
   ]
  },
  {
   "cell_type": "code",
   "execution_count": 6,
   "id": "b7fe48fd-75ef-484e-99d0-23e39500f751",
   "metadata": {},
   "outputs": [
    {
     "name": "stdout",
     "output_type": "stream",
     "text": [
      "Best parameter for Polynomial Kernel SVM = {'gamma': 0.1}\n",
      "Best Accuracy Score for Polynomial Kernel SVM = 0.6317307692307692\n",
      "Best Weighted Precision Score for Polynomial Kernel SVM = 0.6600658654454038\n",
      "Best Weighted Recall Score for Polynomial Kernel SVM = 0.6317307692307692\n",
      "Best Weighted F1 Score for Polynomial Kernel SVM = 0.5908947095838779\n"
     ]
    }
   ],
   "source": [
    "best_params = grid_search.best_params_\n",
    "best_accuracy = grid_search.best_score_\n",
    "best_weighted_precision = grid_search.cv_results_['mean_test_weighted_precision'][grid_search.best_index_]\n",
    "best_weighted_recall = grid_search.cv_results_['mean_test_weighted_recall'][grid_search.best_index_]\n",
    "best_weighted_f1 = grid_search.cv_results_['mean_test_weighted_f1'][grid_search.best_index_]\n",
    "\n",
    "print(\"Best parameter for Polynomial Kernel SVM =\", best_params)\n",
    "print(\"Best Accuracy Score for Polynomial Kernel SVM =\", best_accuracy)\n",
    "print(\"Best Weighted Precision Score for Polynomial Kernel SVM =\", best_weighted_precision)\n",
    "print(\"Best Weighted Recall Score for Polynomial Kernel SVM =\", best_weighted_recall)\n",
    "print(\"Best Weighted F1 Score for Polynomial Kernel SVM =\", best_weighted_f1)"
   ]
  },
  {
   "cell_type": "markdown",
   "id": "ad4b0134-8074-4247-b227-8e920f68acb4",
   "metadata": {},
   "source": [
    "# <span style='background:cyan'>For Norm-PHO-Binary Dataset</span>\n",
    "\n",
    "\n",
    "Emotion counts are normalized so that multiple emotions experienced in a day sums up to 1. Each individual recorded a different number of emotions a day. If the individual expressed two emotions (i.e., joy and sadness) on the same day but at different times of the day, the attribute Emotion_Joy is  assigned a value of 0.5 and the attribute Emotion_Sadness is assigned the value of 0.5. Regardless of the number of emotions recorded in a day, the sum of all emotions is standardized to 15 (from 8 April 2024 – 22 April 2024)."
   ]
  },
  {
   "cell_type": "markdown",
   "id": "10c04e9e-ee33-45bc-861d-e09d0a04a5d1",
   "metadata": {},
   "source": [
    "## Prepare and Explore Data"
   ]
  },
  {
   "cell_type": "code",
   "execution_count": 16,
   "id": "6dc0bffa-a669-413c-a037-025f21f9f76c",
   "metadata": {},
   "outputs": [],
   "source": [
    "# Import pandas library\n",
    "import pandas as pd\n",
    "\n",
    "# Read csv data file\n",
    "norm = pd.read_csv('Norm-PHO-Binary.csv')"
   ]
  },
  {
   "cell_type": "code",
   "execution_count": 11,
   "id": "dddf4cad-292d-4768-ac24-ad5d2f2e5bd9",
   "metadata": {},
   "outputs": [
    {
     "data": {
      "text/plain": [
       "(391, 10)"
      ]
     },
     "execution_count": 11,
     "metadata": {},
     "output_type": "execute_result"
    }
   ],
   "source": [
    "# Find out the number of instances and number of attributes\n",
    "norm.shape"
   ]
  },
  {
   "cell_type": "code",
   "execution_count": 12,
   "id": "aba48098-f5a5-4356-bb2e-3881a6c13c91",
   "metadata": {},
   "outputs": [
    {
     "data": {
      "text/plain": [
       "0"
      ]
     },
     "execution_count": 12,
     "metadata": {},
     "output_type": "execute_result"
    }
   ],
   "source": [
    "norm.isnull().sum().sum()"
   ]
  },
  {
   "cell_type": "code",
   "execution_count": 13,
   "id": "434e6dc6-fe72-48a2-9a6f-1316b7d7090d",
   "metadata": {
    "scrolled": true
   },
   "outputs": [
    {
     "data": {
      "text/html": [
       "<div>\n",
       "<style scoped>\n",
       "    .dataframe tbody tr th:only-of-type {\n",
       "        vertical-align: middle;\n",
       "    }\n",
       "\n",
       "    .dataframe tbody tr th {\n",
       "        vertical-align: top;\n",
       "    }\n",
       "\n",
       "    .dataframe thead th {\n",
       "        text-align: right;\n",
       "    }\n",
       "</style>\n",
       "<table border=\"1\" class=\"dataframe\">\n",
       "  <thead>\n",
       "    <tr style=\"text-align: right;\">\n",
       "      <th></th>\n",
       "      <th>Gender</th>\n",
       "      <th>Emotion_Joy</th>\n",
       "      <th>Emotion_Sadness</th>\n",
       "      <th>Emotion_Anger</th>\n",
       "      <th>Emotion_Disgust</th>\n",
       "      <th>Emotion_Fear</th>\n",
       "      <th>Emotion_Surprise</th>\n",
       "      <th>Emotion_Contempt</th>\n",
       "      <th>Emotion_Neutral</th>\n",
       "      <th>Depression</th>\n",
       "    </tr>\n",
       "  </thead>\n",
       "  <tbody>\n",
       "    <tr>\n",
       "      <th>0</th>\n",
       "      <td>Female</td>\n",
       "      <td>4.00</td>\n",
       "      <td>3.0</td>\n",
       "      <td>2.0</td>\n",
       "      <td>1.0</td>\n",
       "      <td>0.00</td>\n",
       "      <td>2.00</td>\n",
       "      <td>2.0</td>\n",
       "      <td>1.0</td>\n",
       "      <td>NO</td>\n",
       "    </tr>\n",
       "    <tr>\n",
       "      <th>1</th>\n",
       "      <td>Female</td>\n",
       "      <td>8.00</td>\n",
       "      <td>0.0</td>\n",
       "      <td>2.0</td>\n",
       "      <td>0.0</td>\n",
       "      <td>1.00</td>\n",
       "      <td>0.00</td>\n",
       "      <td>0.0</td>\n",
       "      <td>4.0</td>\n",
       "      <td>NO</td>\n",
       "    </tr>\n",
       "    <tr>\n",
       "      <th>2</th>\n",
       "      <td>Male</td>\n",
       "      <td>1.67</td>\n",
       "      <td>0.0</td>\n",
       "      <td>0.0</td>\n",
       "      <td>0.0</td>\n",
       "      <td>6.17</td>\n",
       "      <td>0.67</td>\n",
       "      <td>0.0</td>\n",
       "      <td>6.5</td>\n",
       "      <td>NO</td>\n",
       "    </tr>\n",
       "    <tr>\n",
       "      <th>3</th>\n",
       "      <td>Male</td>\n",
       "      <td>7.00</td>\n",
       "      <td>0.0</td>\n",
       "      <td>3.0</td>\n",
       "      <td>0.0</td>\n",
       "      <td>0.00</td>\n",
       "      <td>5.00</td>\n",
       "      <td>0.0</td>\n",
       "      <td>0.0</td>\n",
       "      <td>NO</td>\n",
       "    </tr>\n",
       "    <tr>\n",
       "      <th>4</th>\n",
       "      <td>Male</td>\n",
       "      <td>3.00</td>\n",
       "      <td>2.0</td>\n",
       "      <td>1.0</td>\n",
       "      <td>0.0</td>\n",
       "      <td>2.00</td>\n",
       "      <td>1.00</td>\n",
       "      <td>0.0</td>\n",
       "      <td>6.0</td>\n",
       "      <td>YES</td>\n",
       "    </tr>\n",
       "  </tbody>\n",
       "</table>\n",
       "</div>"
      ],
      "text/plain": [
       "   Gender  Emotion_Joy  Emotion_Sadness  Emotion_Anger  Emotion_Disgust  \\\n",
       "0  Female         4.00              3.0            2.0              1.0   \n",
       "1  Female         8.00              0.0            2.0              0.0   \n",
       "2    Male         1.67              0.0            0.0              0.0   \n",
       "3    Male         7.00              0.0            3.0              0.0   \n",
       "4    Male         3.00              2.0            1.0              0.0   \n",
       "\n",
       "   Emotion_Fear  Emotion_Surprise  Emotion_Contempt  Emotion_Neutral  \\\n",
       "0          0.00              2.00               2.0              1.0   \n",
       "1          1.00              0.00               0.0              4.0   \n",
       "2          6.17              0.67               0.0              6.5   \n",
       "3          0.00              5.00               0.0              0.0   \n",
       "4          2.00              1.00               0.0              6.0   \n",
       "\n",
       "  Depression  \n",
       "0         NO  \n",
       "1         NO  \n",
       "2         NO  \n",
       "3         NO  \n",
       "4        YES  "
      ]
     },
     "execution_count": 13,
     "metadata": {},
     "output_type": "execute_result"
    }
   ],
   "source": [
    "# View the first 5 rows\n",
    "norm.head()"
   ]
  },
  {
   "cell_type": "code",
   "execution_count": 18,
   "id": "5b24e4af-b923-4226-b3e1-eda9fa260212",
   "metadata": {},
   "outputs": [
    {
     "data": {
      "text/plain": [
       "Gender               object\n",
       "Emotion_Joy         float64\n",
       "Emotion_Sadness     float64\n",
       "Emotion_Anger       float64\n",
       "Emotion_Disgust     float64\n",
       "Emotion_Fear        float64\n",
       "Emotion_Surprise    float64\n",
       "Emotion_Contempt    float64\n",
       "Emotion_Neutral     float64\n",
       "Depression           object\n",
       "dtype: object"
      ]
     },
     "execution_count": 18,
     "metadata": {},
     "output_type": "execute_result"
    }
   ],
   "source": [
    "norm.dtypes"
   ]
  },
  {
   "cell_type": "code",
   "execution_count": 19,
   "id": "a32c6bf1-61ea-4ad4-b09f-d103cf6aed43",
   "metadata": {},
   "outputs": [
    {
     "data": {
      "text/html": [
       "<div>\n",
       "<style scoped>\n",
       "    .dataframe tbody tr th:only-of-type {\n",
       "        vertical-align: middle;\n",
       "    }\n",
       "\n",
       "    .dataframe tbody tr th {\n",
       "        vertical-align: top;\n",
       "    }\n",
       "\n",
       "    .dataframe thead th {\n",
       "        text-align: right;\n",
       "    }\n",
       "</style>\n",
       "<table border=\"1\" class=\"dataframe\">\n",
       "  <thead>\n",
       "    <tr style=\"text-align: right;\">\n",
       "      <th></th>\n",
       "      <th>Gender</th>\n",
       "      <th>Emotion_Joy</th>\n",
       "      <th>Emotion_Sadness</th>\n",
       "      <th>Emotion_Anger</th>\n",
       "      <th>Emotion_Disgust</th>\n",
       "      <th>Emotion_Fear</th>\n",
       "      <th>Emotion_Surprise</th>\n",
       "      <th>Emotion_Contempt</th>\n",
       "      <th>Emotion_Neutral</th>\n",
       "      <th>Depression</th>\n",
       "    </tr>\n",
       "  </thead>\n",
       "  <tbody>\n",
       "    <tr>\n",
       "      <th>0</th>\n",
       "      <td>0</td>\n",
       "      <td>4.00</td>\n",
       "      <td>3.0</td>\n",
       "      <td>2.0</td>\n",
       "      <td>1.0</td>\n",
       "      <td>0.00</td>\n",
       "      <td>2.00</td>\n",
       "      <td>2.0</td>\n",
       "      <td>1.0</td>\n",
       "      <td>NO</td>\n",
       "    </tr>\n",
       "    <tr>\n",
       "      <th>1</th>\n",
       "      <td>0</td>\n",
       "      <td>8.00</td>\n",
       "      <td>0.0</td>\n",
       "      <td>2.0</td>\n",
       "      <td>0.0</td>\n",
       "      <td>1.00</td>\n",
       "      <td>0.00</td>\n",
       "      <td>0.0</td>\n",
       "      <td>4.0</td>\n",
       "      <td>NO</td>\n",
       "    </tr>\n",
       "    <tr>\n",
       "      <th>2</th>\n",
       "      <td>1</td>\n",
       "      <td>1.67</td>\n",
       "      <td>0.0</td>\n",
       "      <td>0.0</td>\n",
       "      <td>0.0</td>\n",
       "      <td>6.17</td>\n",
       "      <td>0.67</td>\n",
       "      <td>0.0</td>\n",
       "      <td>6.5</td>\n",
       "      <td>NO</td>\n",
       "    </tr>\n",
       "    <tr>\n",
       "      <th>3</th>\n",
       "      <td>1</td>\n",
       "      <td>7.00</td>\n",
       "      <td>0.0</td>\n",
       "      <td>3.0</td>\n",
       "      <td>0.0</td>\n",
       "      <td>0.00</td>\n",
       "      <td>5.00</td>\n",
       "      <td>0.0</td>\n",
       "      <td>0.0</td>\n",
       "      <td>NO</td>\n",
       "    </tr>\n",
       "    <tr>\n",
       "      <th>4</th>\n",
       "      <td>1</td>\n",
       "      <td>3.00</td>\n",
       "      <td>2.0</td>\n",
       "      <td>1.0</td>\n",
       "      <td>0.0</td>\n",
       "      <td>2.00</td>\n",
       "      <td>1.00</td>\n",
       "      <td>0.0</td>\n",
       "      <td>6.0</td>\n",
       "      <td>YES</td>\n",
       "    </tr>\n",
       "  </tbody>\n",
       "</table>\n",
       "</div>"
      ],
      "text/plain": [
       "   Gender  Emotion_Joy  Emotion_Sadness  Emotion_Anger  Emotion_Disgust  \\\n",
       "0       0         4.00              3.0            2.0              1.0   \n",
       "1       0         8.00              0.0            2.0              0.0   \n",
       "2       1         1.67              0.0            0.0              0.0   \n",
       "3       1         7.00              0.0            3.0              0.0   \n",
       "4       1         3.00              2.0            1.0              0.0   \n",
       "\n",
       "   Emotion_Fear  Emotion_Surprise  Emotion_Contempt  Emotion_Neutral  \\\n",
       "0          0.00              2.00               2.0              1.0   \n",
       "1          1.00              0.00               0.0              4.0   \n",
       "2          6.17              0.67               0.0              6.5   \n",
       "3          0.00              5.00               0.0              0.0   \n",
       "4          2.00              1.00               0.0              6.0   \n",
       "\n",
       "  Depression  \n",
       "0         NO  \n",
       "1         NO  \n",
       "2         NO  \n",
       "3         NO  \n",
       "4        YES  "
      ]
     },
     "execution_count": 19,
     "metadata": {},
     "output_type": "execute_result"
    }
   ],
   "source": [
    "# Import LabelEncoder\n",
    "from sklearn import preprocessing\n",
    "\n",
    "# Create LabelEncoder\n",
    "le = preprocessing.LabelEncoder()\n",
    "\n",
    "norm['Gender'] = le.fit_transform(norm['Gender'])\n",
    "\n",
    "norm.head()"
   ]
  },
  {
   "cell_type": "code",
   "execution_count": 20,
   "id": "b0ed98e1-11dc-4145-8083-252c5e4499f0",
   "metadata": {},
   "outputs": [],
   "source": [
    "# Indicate the target column\n",
    "target = norm['Depression']\n",
    "\n",
    "# Indicate the columns that will serve as features\n",
    "features = norm.drop('Depression', axis = 1)"
   ]
  },
  {
   "cell_type": "markdown",
   "id": "a30b86e3-227b-4626-b56c-a4997a0bf661",
   "metadata": {},
   "source": [
    "## Dummy Classifier"
   ]
  },
  {
   "cell_type": "code",
   "execution_count": 6,
   "id": "a42948d7-eec7-4515-b981-fd911e99d084",
   "metadata": {},
   "outputs": [],
   "source": [
    "from sklearn.dummy import DummyClassifier\n",
    "from sklearn.model_selection import cross_val_predict\n",
    "\n",
    "# Initialize the Dummy Classifier\n",
    "dummy_clf = DummyClassifier(strategy=\"uniform\")\n",
    "\n",
    "# Perform cross-validation and get predictions for each fold\n",
    "dummy_val_predictions = cross_val_predict(dummy_clf, features, target, cv=10)"
   ]
  },
  {
   "cell_type": "code",
   "execution_count": 7,
   "id": "1af611f8-9b82-4204-bfeb-2892db44de8a",
   "metadata": {},
   "outputs": [
    {
     "name": "stdout",
     "output_type": "stream",
     "text": [
      "Validation Accuracy for Dummy Classifier = 0.5038363171355499\n",
      "Validation Precision (Weighted Avg) for Dummy Classifier = 0.5097191921065872\n",
      "Validation Recall (Weighted Avg) for Dummy Classifier = 0.5038363171355499\n",
      "Validation F1 (Weighted Avg) for Dummy Classifier = 0.5054656903059485\n"
     ]
    }
   ],
   "source": [
    "from sklearn.metrics import accuracy_score, precision_score, recall_score, f1_score\n",
    "accuracy = accuracy_score(target, dummy_val_predictions)\n",
    "precision_weighted = precision_score(target, dummy_val_predictions, average='weighted')\n",
    "recall_weighted = recall_score(target, dummy_val_predictions, average='weighted')\n",
    "f1_weighted = f1_score(target, dummy_val_predictions, average='weighted')\n",
    "\n",
    "# Print the weighted average evaluation metrics\n",
    "print('Validation Accuracy for Dummy Classifier =', accuracy)\n",
    "print('Validation Precision (Weighted Avg) for Dummy Classifier =', precision_weighted)\n",
    "print('Validation Recall (Weighted Avg) for Dummy Classifier =', recall_weighted)\n",
    "print('Validation F1 (Weighted Avg) for Dummy Classifier =', f1_weighted)"
   ]
  },
  {
   "cell_type": "markdown",
   "id": "e3e8f027-3854-4d26-8ab3-68d3a3bce79e",
   "metadata": {},
   "source": [
    "## KNN Classifier"
   ]
  },
  {
   "cell_type": "code",
   "execution_count": 21,
   "id": "198c93a4-0d26-4337-ab0c-ba910a664de0",
   "metadata": {},
   "outputs": [],
   "source": [
    "from sklearn.model_selection import GridSearchCV\n",
    "from sklearn.neighbors import KNeighborsClassifier\n",
    "from sklearn.metrics import make_scorer, accuracy_score, precision_score, recall_score, f1_score\n",
    "\n",
    "knn = KNeighborsClassifier()\n",
    "\n",
    "knn_param = {\n",
    "    'weights': ['uniform', 'distance'], \n",
    "    'algorithm': ['auto', 'ball_tree', 'kd_tree', 'brute'],\n",
    "    'p': [1,2,3],\n",
    "    'leaf_size':list(range(1,50))\n",
    "}\n",
    "\n",
    "scoring = {\n",
    "    'accuracy': 'accuracy',\n",
    "    'weighted_precision': make_scorer(precision_score, average='weighted'),\n",
    "    'weighted_recall': make_scorer(recall_score, average='weighted'),\n",
    "    'weighted_f1': make_scorer(f1_score, average='weighted')\n",
    "}\n",
    "\n",
    "grid_search = GridSearchCV(knn, knn_param, cv=10, scoring=scoring, refit='accuracy')"
   ]
  },
  {
   "cell_type": "code",
   "execution_count": 22,
   "id": "ca27d933-3bfd-4c38-8304-4a8d97311348",
   "metadata": {},
   "outputs": [
    {
     "data": {
      "text/html": [
       "<style>#sk-container-id-3 {color: black;background-color: white;}#sk-container-id-3 pre{padding: 0;}#sk-container-id-3 div.sk-toggleable {background-color: white;}#sk-container-id-3 label.sk-toggleable__label {cursor: pointer;display: block;width: 100%;margin-bottom: 0;padding: 0.3em;box-sizing: border-box;text-align: center;}#sk-container-id-3 label.sk-toggleable__label-arrow:before {content: \"▸\";float: left;margin-right: 0.25em;color: #696969;}#sk-container-id-3 label.sk-toggleable__label-arrow:hover:before {color: black;}#sk-container-id-3 div.sk-estimator:hover label.sk-toggleable__label-arrow:before {color: black;}#sk-container-id-3 div.sk-toggleable__content {max-height: 0;max-width: 0;overflow: hidden;text-align: left;background-color: #f0f8ff;}#sk-container-id-3 div.sk-toggleable__content pre {margin: 0.2em;color: black;border-radius: 0.25em;background-color: #f0f8ff;}#sk-container-id-3 input.sk-toggleable__control:checked~div.sk-toggleable__content {max-height: 200px;max-width: 100%;overflow: auto;}#sk-container-id-3 input.sk-toggleable__control:checked~label.sk-toggleable__label-arrow:before {content: \"▾\";}#sk-container-id-3 div.sk-estimator input.sk-toggleable__control:checked~label.sk-toggleable__label {background-color: #d4ebff;}#sk-container-id-3 div.sk-label input.sk-toggleable__control:checked~label.sk-toggleable__label {background-color: #d4ebff;}#sk-container-id-3 input.sk-hidden--visually {border: 0;clip: rect(1px 1px 1px 1px);clip: rect(1px, 1px, 1px, 1px);height: 1px;margin: -1px;overflow: hidden;padding: 0;position: absolute;width: 1px;}#sk-container-id-3 div.sk-estimator {font-family: monospace;background-color: #f0f8ff;border: 1px dotted black;border-radius: 0.25em;box-sizing: border-box;margin-bottom: 0.5em;}#sk-container-id-3 div.sk-estimator:hover {background-color: #d4ebff;}#sk-container-id-3 div.sk-parallel-item::after {content: \"\";width: 100%;border-bottom: 1px solid gray;flex-grow: 1;}#sk-container-id-3 div.sk-label:hover label.sk-toggleable__label {background-color: #d4ebff;}#sk-container-id-3 div.sk-serial::before {content: \"\";position: absolute;border-left: 1px solid gray;box-sizing: border-box;top: 0;bottom: 0;left: 50%;z-index: 0;}#sk-container-id-3 div.sk-serial {display: flex;flex-direction: column;align-items: center;background-color: white;padding-right: 0.2em;padding-left: 0.2em;position: relative;}#sk-container-id-3 div.sk-item {position: relative;z-index: 1;}#sk-container-id-3 div.sk-parallel {display: flex;align-items: stretch;justify-content: center;background-color: white;position: relative;}#sk-container-id-3 div.sk-item::before, #sk-container-id-3 div.sk-parallel-item::before {content: \"\";position: absolute;border-left: 1px solid gray;box-sizing: border-box;top: 0;bottom: 0;left: 50%;z-index: -1;}#sk-container-id-3 div.sk-parallel-item {display: flex;flex-direction: column;z-index: 1;position: relative;background-color: white;}#sk-container-id-3 div.sk-parallel-item:first-child::after {align-self: flex-end;width: 50%;}#sk-container-id-3 div.sk-parallel-item:last-child::after {align-self: flex-start;width: 50%;}#sk-container-id-3 div.sk-parallel-item:only-child::after {width: 0;}#sk-container-id-3 div.sk-dashed-wrapped {border: 1px dashed gray;margin: 0 0.4em 0.5em 0.4em;box-sizing: border-box;padding-bottom: 0.4em;background-color: white;}#sk-container-id-3 div.sk-label label {font-family: monospace;font-weight: bold;display: inline-block;line-height: 1.2em;}#sk-container-id-3 div.sk-label-container {text-align: center;}#sk-container-id-3 div.sk-container {/* jupyter's `normalize.less` sets `[hidden] { display: none; }` but bootstrap.min.css set `[hidden] { display: none !important; }` so we also need the `!important` here to be able to override the default hidden behavior on the sphinx rendered scikit-learn.org. See: https://github.com/scikit-learn/scikit-learn/issues/21755 */display: inline-block !important;position: relative;}#sk-container-id-3 div.sk-text-repr-fallback {display: none;}</style><div id=\"sk-container-id-3\" class=\"sk-top-container\"><div class=\"sk-text-repr-fallback\"><pre>GridSearchCV(cv=10, estimator=KNeighborsClassifier(),\n",
       "             param_grid={&#x27;algorithm&#x27;: [&#x27;auto&#x27;, &#x27;ball_tree&#x27;, &#x27;kd_tree&#x27;, &#x27;brute&#x27;],\n",
       "                         &#x27;leaf_size&#x27;: [1, 2, 3, 4, 5, 6, 7, 8, 9, 10, 11, 12,\n",
       "                                       13, 14, 15, 16, 17, 18, 19, 20, 21, 22,\n",
       "                                       23, 24, 25, 26, 27, 28, 29, 30, ...],\n",
       "                         &#x27;p&#x27;: [1, 2, 3], &#x27;weights&#x27;: [&#x27;uniform&#x27;, &#x27;distance&#x27;]},\n",
       "             refit=&#x27;accuracy&#x27;,\n",
       "             scoring={&#x27;accuracy&#x27;: &#x27;accuracy&#x27;,\n",
       "                      &#x27;weighted_f1&#x27;: make_scorer(f1_score, average=weighted),\n",
       "                      &#x27;weighted_precision&#x27;: make_scorer(precision_score, average=weighted),\n",
       "                      &#x27;weighted_recall&#x27;: make_scorer(recall_score, average=weighted)})</pre><b>In a Jupyter environment, please rerun this cell to show the HTML representation or trust the notebook. <br />On GitHub, the HTML representation is unable to render, please try loading this page with nbviewer.org.</b></div><div class=\"sk-container\" hidden><div class=\"sk-item sk-dashed-wrapped\"><div class=\"sk-label-container\"><div class=\"sk-label sk-toggleable\"><input class=\"sk-toggleable__control sk-hidden--visually\" id=\"sk-estimator-id-8\" type=\"checkbox\" ><label for=\"sk-estimator-id-8\" class=\"sk-toggleable__label sk-toggleable__label-arrow\">GridSearchCV</label><div class=\"sk-toggleable__content\"><pre>GridSearchCV(cv=10, estimator=KNeighborsClassifier(),\n",
       "             param_grid={&#x27;algorithm&#x27;: [&#x27;auto&#x27;, &#x27;ball_tree&#x27;, &#x27;kd_tree&#x27;, &#x27;brute&#x27;],\n",
       "                         &#x27;leaf_size&#x27;: [1, 2, 3, 4, 5, 6, 7, 8, 9, 10, 11, 12,\n",
       "                                       13, 14, 15, 16, 17, 18, 19, 20, 21, 22,\n",
       "                                       23, 24, 25, 26, 27, 28, 29, 30, ...],\n",
       "                         &#x27;p&#x27;: [1, 2, 3], &#x27;weights&#x27;: [&#x27;uniform&#x27;, &#x27;distance&#x27;]},\n",
       "             refit=&#x27;accuracy&#x27;,\n",
       "             scoring={&#x27;accuracy&#x27;: &#x27;accuracy&#x27;,\n",
       "                      &#x27;weighted_f1&#x27;: make_scorer(f1_score, average=weighted),\n",
       "                      &#x27;weighted_precision&#x27;: make_scorer(precision_score, average=weighted),\n",
       "                      &#x27;weighted_recall&#x27;: make_scorer(recall_score, average=weighted)})</pre></div></div></div><div class=\"sk-parallel\"><div class=\"sk-parallel-item\"><div class=\"sk-item\"><div class=\"sk-label-container\"><div class=\"sk-label sk-toggleable\"><input class=\"sk-toggleable__control sk-hidden--visually\" id=\"sk-estimator-id-9\" type=\"checkbox\" ><label for=\"sk-estimator-id-9\" class=\"sk-toggleable__label sk-toggleable__label-arrow\">estimator: KNeighborsClassifier</label><div class=\"sk-toggleable__content\"><pre>KNeighborsClassifier()</pre></div></div></div><div class=\"sk-serial\"><div class=\"sk-item\"><div class=\"sk-estimator sk-toggleable\"><input class=\"sk-toggleable__control sk-hidden--visually\" id=\"sk-estimator-id-10\" type=\"checkbox\" ><label for=\"sk-estimator-id-10\" class=\"sk-toggleable__label sk-toggleable__label-arrow\">KNeighborsClassifier</label><div class=\"sk-toggleable__content\"><pre>KNeighborsClassifier()</pre></div></div></div></div></div></div></div></div></div></div>"
      ],
      "text/plain": [
       "GridSearchCV(cv=10, estimator=KNeighborsClassifier(),\n",
       "             param_grid={'algorithm': ['auto', 'ball_tree', 'kd_tree', 'brute'],\n",
       "                         'leaf_size': [1, 2, 3, 4, 5, 6, 7, 8, 9, 10, 11, 12,\n",
       "                                       13, 14, 15, 16, 17, 18, 19, 20, 21, 22,\n",
       "                                       23, 24, 25, 26, 27, 28, 29, 30, ...],\n",
       "                         'p': [1, 2, 3], 'weights': ['uniform', 'distance']},\n",
       "             refit='accuracy',\n",
       "             scoring={'accuracy': 'accuracy',\n",
       "                      'weighted_f1': make_scorer(f1_score, average=weighted),\n",
       "                      'weighted_precision': make_scorer(precision_score, average=weighted),\n",
       "                      'weighted_recall': make_scorer(recall_score, average=weighted)})"
      ]
     },
     "execution_count": 22,
     "metadata": {},
     "output_type": "execute_result"
    }
   ],
   "source": [
    "grid_search.fit(features, target)"
   ]
  },
  {
   "cell_type": "code",
   "execution_count": 23,
   "id": "87f30b02-e513-4de6-b51b-4b69f9eafdab",
   "metadata": {},
   "outputs": [
    {
     "name": "stdout",
     "output_type": "stream",
     "text": [
      "Best parameter for KNN Classifier = {'algorithm': 'auto', 'leaf_size': 11, 'p': 2, 'weights': 'uniform'}\n",
      "Best Accuracy Score for KNN Classifier = 0.5830769230769229\n",
      "Best Weighted Precision Score for KNN Classifier = 0.5806933166234637\n",
      "Best Weighted Recall Score for KNN Classifier = 0.5830769230769229\n",
      "Best Weighted F1 Score for KNN Classifier = 0.5790542433967885\n"
     ]
    }
   ],
   "source": [
    "best_params = grid_search.best_params_\n",
    "best_accuracy = grid_search.best_score_\n",
    "best_weighted_precision = grid_search.cv_results_['mean_test_weighted_precision'][grid_search.best_index_]\n",
    "best_weighted_recall = grid_search.cv_results_['mean_test_weighted_recall'][grid_search.best_index_]\n",
    "best_weighted_f1 = grid_search.cv_results_['mean_test_weighted_f1'][grid_search.best_index_]\n",
    "\n",
    "print(\"Best parameter for KNN Classifier =\", best_params)\n",
    "print(\"Best Accuracy Score for KNN Classifier =\", best_accuracy)\n",
    "print(\"Best Weighted Precision Score for KNN Classifier =\", best_weighted_precision)\n",
    "print(\"Best Weighted Recall Score for KNN Classifier =\", best_weighted_recall)\n",
    "print(\"Best Weighted F1 Score for KNN Classifier =\", best_weighted_f1)"
   ]
  },
  {
   "cell_type": "code",
   "execution_count": 24,
   "id": "12020bf7-9cef-4ec3-9a23-cfff94c2f84a",
   "metadata": {},
   "outputs": [],
   "source": [
    "knn = KNeighborsClassifier(grid_search.best_estimator_)\n",
    "\n",
    "knn_param = {\n",
    "    'n_neighbors': list(range(1,40))\n",
    "}\n",
    "\n",
    "scoring = {\n",
    "    'accuracy': 'accuracy',\n",
    "    'weighted_precision': make_scorer(precision_score, average='weighted', zero_division=0),    \n",
    "    'weighted_recall': make_scorer(recall_score, average='weighted', zero_division=0),\n",
    "    'weighted_f1': make_scorer(f1_score, average='weighted', zero_division=0)\n",
    "}\n",
    "\n",
    "grid_search = GridSearchCV(knn, knn_param, cv=10, scoring=scoring, refit='accuracy')"
   ]
  },
  {
   "cell_type": "code",
   "execution_count": 25,
   "id": "867281ff-0ae4-440c-b057-4af3d6c68560",
   "metadata": {},
   "outputs": [
    {
     "data": {
      "text/html": [
       "<style>#sk-container-id-4 {color: black;background-color: white;}#sk-container-id-4 pre{padding: 0;}#sk-container-id-4 div.sk-toggleable {background-color: white;}#sk-container-id-4 label.sk-toggleable__label {cursor: pointer;display: block;width: 100%;margin-bottom: 0;padding: 0.3em;box-sizing: border-box;text-align: center;}#sk-container-id-4 label.sk-toggleable__label-arrow:before {content: \"▸\";float: left;margin-right: 0.25em;color: #696969;}#sk-container-id-4 label.sk-toggleable__label-arrow:hover:before {color: black;}#sk-container-id-4 div.sk-estimator:hover label.sk-toggleable__label-arrow:before {color: black;}#sk-container-id-4 div.sk-toggleable__content {max-height: 0;max-width: 0;overflow: hidden;text-align: left;background-color: #f0f8ff;}#sk-container-id-4 div.sk-toggleable__content pre {margin: 0.2em;color: black;border-radius: 0.25em;background-color: #f0f8ff;}#sk-container-id-4 input.sk-toggleable__control:checked~div.sk-toggleable__content {max-height: 200px;max-width: 100%;overflow: auto;}#sk-container-id-4 input.sk-toggleable__control:checked~label.sk-toggleable__label-arrow:before {content: \"▾\";}#sk-container-id-4 div.sk-estimator input.sk-toggleable__control:checked~label.sk-toggleable__label {background-color: #d4ebff;}#sk-container-id-4 div.sk-label input.sk-toggleable__control:checked~label.sk-toggleable__label {background-color: #d4ebff;}#sk-container-id-4 input.sk-hidden--visually {border: 0;clip: rect(1px 1px 1px 1px);clip: rect(1px, 1px, 1px, 1px);height: 1px;margin: -1px;overflow: hidden;padding: 0;position: absolute;width: 1px;}#sk-container-id-4 div.sk-estimator {font-family: monospace;background-color: #f0f8ff;border: 1px dotted black;border-radius: 0.25em;box-sizing: border-box;margin-bottom: 0.5em;}#sk-container-id-4 div.sk-estimator:hover {background-color: #d4ebff;}#sk-container-id-4 div.sk-parallel-item::after {content: \"\";width: 100%;border-bottom: 1px solid gray;flex-grow: 1;}#sk-container-id-4 div.sk-label:hover label.sk-toggleable__label {background-color: #d4ebff;}#sk-container-id-4 div.sk-serial::before {content: \"\";position: absolute;border-left: 1px solid gray;box-sizing: border-box;top: 0;bottom: 0;left: 50%;z-index: 0;}#sk-container-id-4 div.sk-serial {display: flex;flex-direction: column;align-items: center;background-color: white;padding-right: 0.2em;padding-left: 0.2em;position: relative;}#sk-container-id-4 div.sk-item {position: relative;z-index: 1;}#sk-container-id-4 div.sk-parallel {display: flex;align-items: stretch;justify-content: center;background-color: white;position: relative;}#sk-container-id-4 div.sk-item::before, #sk-container-id-4 div.sk-parallel-item::before {content: \"\";position: absolute;border-left: 1px solid gray;box-sizing: border-box;top: 0;bottom: 0;left: 50%;z-index: -1;}#sk-container-id-4 div.sk-parallel-item {display: flex;flex-direction: column;z-index: 1;position: relative;background-color: white;}#sk-container-id-4 div.sk-parallel-item:first-child::after {align-self: flex-end;width: 50%;}#sk-container-id-4 div.sk-parallel-item:last-child::after {align-self: flex-start;width: 50%;}#sk-container-id-4 div.sk-parallel-item:only-child::after {width: 0;}#sk-container-id-4 div.sk-dashed-wrapped {border: 1px dashed gray;margin: 0 0.4em 0.5em 0.4em;box-sizing: border-box;padding-bottom: 0.4em;background-color: white;}#sk-container-id-4 div.sk-label label {font-family: monospace;font-weight: bold;display: inline-block;line-height: 1.2em;}#sk-container-id-4 div.sk-label-container {text-align: center;}#sk-container-id-4 div.sk-container {/* jupyter's `normalize.less` sets `[hidden] { display: none; }` but bootstrap.min.css set `[hidden] { display: none !important; }` so we also need the `!important` here to be able to override the default hidden behavior on the sphinx rendered scikit-learn.org. See: https://github.com/scikit-learn/scikit-learn/issues/21755 */display: inline-block !important;position: relative;}#sk-container-id-4 div.sk-text-repr-fallback {display: none;}</style><div id=\"sk-container-id-4\" class=\"sk-top-container\"><div class=\"sk-text-repr-fallback\"><pre>GridSearchCV(cv=10,\n",
       "             estimator=KNeighborsClassifier(n_neighbors=KNeighborsClassifier(leaf_size=11)),\n",
       "             param_grid={&#x27;n_neighbors&#x27;: [1, 2, 3, 4, 5, 6, 7, 8, 9, 10, 11, 12,\n",
       "                                         13, 14, 15, 16, 17, 18, 19, 20, 21, 22,\n",
       "                                         23, 24, 25, 26, 27, 28, 29, 30, ...]},\n",
       "             refit=&#x27;accuracy&#x27;,\n",
       "             scoring={&#x27;accuracy&#x27;: &#x27;accuracy&#x27;,\n",
       "                      &#x27;weighted_f1&#x27;: make_scorer(f1_score, average=weighted, zero_division=0),\n",
       "                      &#x27;weighted_precision&#x27;: make_scorer(precision_score, average=weighted, zero_division=0),\n",
       "                      &#x27;weighted_recall&#x27;: make_scorer(recall_score, average=weighted, zero_division=0)})</pre><b>In a Jupyter environment, please rerun this cell to show the HTML representation or trust the notebook. <br />On GitHub, the HTML representation is unable to render, please try loading this page with nbviewer.org.</b></div><div class=\"sk-container\" hidden><div class=\"sk-item sk-dashed-wrapped\"><div class=\"sk-label-container\"><div class=\"sk-label sk-toggleable\"><input class=\"sk-toggleable__control sk-hidden--visually\" id=\"sk-estimator-id-11\" type=\"checkbox\" ><label for=\"sk-estimator-id-11\" class=\"sk-toggleable__label sk-toggleable__label-arrow\">GridSearchCV</label><div class=\"sk-toggleable__content\"><pre>GridSearchCV(cv=10,\n",
       "             estimator=KNeighborsClassifier(n_neighbors=KNeighborsClassifier(leaf_size=11)),\n",
       "             param_grid={&#x27;n_neighbors&#x27;: [1, 2, 3, 4, 5, 6, 7, 8, 9, 10, 11, 12,\n",
       "                                         13, 14, 15, 16, 17, 18, 19, 20, 21, 22,\n",
       "                                         23, 24, 25, 26, 27, 28, 29, 30, ...]},\n",
       "             refit=&#x27;accuracy&#x27;,\n",
       "             scoring={&#x27;accuracy&#x27;: &#x27;accuracy&#x27;,\n",
       "                      &#x27;weighted_f1&#x27;: make_scorer(f1_score, average=weighted, zero_division=0),\n",
       "                      &#x27;weighted_precision&#x27;: make_scorer(precision_score, average=weighted, zero_division=0),\n",
       "                      &#x27;weighted_recall&#x27;: make_scorer(recall_score, average=weighted, zero_division=0)})</pre></div></div></div><div class=\"sk-parallel\"><div class=\"sk-parallel-item\"><div class=\"sk-item\"><div class=\"sk-label-container\"><div class=\"sk-label sk-toggleable\"><input class=\"sk-toggleable__control sk-hidden--visually\" id=\"sk-estimator-id-12\" type=\"checkbox\" ><label for=\"sk-estimator-id-12\" class=\"sk-toggleable__label sk-toggleable__label-arrow\">estimator: KNeighborsClassifier</label><div class=\"sk-toggleable__content\"><pre>KNeighborsClassifier(n_neighbors=KNeighborsClassifier(leaf_size=11))</pre></div></div></div><div class=\"sk-serial\"><div class=\"sk-item sk-dashed-wrapped\"><div class=\"sk-parallel\"><div class=\"sk-parallel-item\"><div class=\"sk-item\"><div class=\"sk-label-container\"><div class=\"sk-label sk-toggleable\"><input class=\"sk-toggleable__control sk-hidden--visually\" id=\"sk-estimator-id-13\" type=\"checkbox\" ><label for=\"sk-estimator-id-13\" class=\"sk-toggleable__label sk-toggleable__label-arrow\">n_neighbors: KNeighborsClassifier</label><div class=\"sk-toggleable__content\"><pre>KNeighborsClassifier(leaf_size=11)</pre></div></div></div><div class=\"sk-serial\"><div class=\"sk-item\"><div class=\"sk-estimator sk-toggleable\"><input class=\"sk-toggleable__control sk-hidden--visually\" id=\"sk-estimator-id-14\" type=\"checkbox\" ><label for=\"sk-estimator-id-14\" class=\"sk-toggleable__label sk-toggleable__label-arrow\">KNeighborsClassifier</label><div class=\"sk-toggleable__content\"><pre>KNeighborsClassifier(leaf_size=11)</pre></div></div></div></div></div></div></div></div></div></div></div></div></div></div></div>"
      ],
      "text/plain": [
       "GridSearchCV(cv=10,\n",
       "             estimator=KNeighborsClassifier(n_neighbors=KNeighborsClassifier(leaf_size=11)),\n",
       "             param_grid={'n_neighbors': [1, 2, 3, 4, 5, 6, 7, 8, 9, 10, 11, 12,\n",
       "                                         13, 14, 15, 16, 17, 18, 19, 20, 21, 22,\n",
       "                                         23, 24, 25, 26, 27, 28, 29, 30, ...]},\n",
       "             refit='accuracy',\n",
       "             scoring={'accuracy': 'accuracy',\n",
       "                      'weighted_f1': make_scorer(f1_score, average=weighted, zero_division=0),\n",
       "                      'weighted_precision': make_scorer(precision_score, average=weighted, zero_division=0),\n",
       "                      'weighted_recall': make_scorer(recall_score, average=weighted, zero_division=0)})"
      ]
     },
     "execution_count": 25,
     "metadata": {},
     "output_type": "execute_result"
    }
   ],
   "source": [
    "grid_search.fit(features, target)"
   ]
  },
  {
   "cell_type": "code",
   "execution_count": 26,
   "id": "43495c44-5671-432b-9990-f37830864208",
   "metadata": {},
   "outputs": [
    {
     "name": "stdout",
     "output_type": "stream",
     "text": [
      "Best parameter for KNN Classifier = {'n_neighbors': 37}\n",
      "Best Accuracy Score for KNN Classifier = 0.6139102564102565\n",
      "Best Weighted Precision Score for KNN Classifier = 0.6218449784811341\n",
      "Best Weighted Recall Score for KNN Classifier = 0.6139102564102565\n",
      "Best Weighted F1 Score for KNN Classifier = 0.6075398584254749\n"
     ]
    }
   ],
   "source": [
    "best_params = grid_search.best_params_\n",
    "best_accuracy = grid_search.best_score_\n",
    "best_weighted_precision = grid_search.cv_results_['mean_test_weighted_precision'][grid_search.best_index_]\n",
    "best_weighted_recall = grid_search.cv_results_['mean_test_weighted_recall'][grid_search.best_index_]\n",
    "best_weighted_f1 = grid_search.cv_results_['mean_test_weighted_f1'][grid_search.best_index_]\n",
    "\n",
    "print(\"Best parameter for KNN Classifier =\", best_params)\n",
    "print(\"Best Accuracy Score for KNN Classifier =\", best_accuracy)\n",
    "print(\"Best Weighted Precision Score for KNN Classifier =\", best_weighted_precision)\n",
    "print(\"Best Weighted Recall Score for KNN Classifier =\", best_weighted_recall)\n",
    "print(\"Best Weighted F1 Score for KNN Classifier =\", best_weighted_f1)"
   ]
  },
  {
   "cell_type": "markdown",
   "id": "a82efcfc-59e5-412b-8090-a9f414cc3e19",
   "metadata": {},
   "source": [
    "## Decision Tree Classifier"
   ]
  },
  {
   "cell_type": "code",
   "execution_count": 13,
   "id": "c0d52a44-9743-4d5b-954e-51b637266eae",
   "metadata": {},
   "outputs": [],
   "source": [
    "from sklearn.model_selection import GridSearchCV\n",
    "from sklearn.tree import DecisionTreeClassifier\n",
    "from sklearn.metrics import make_scorer, accuracy_score, precision_score, recall_score, f1_score\n",
    "\n",
    "dt = DecisionTreeClassifier(random_state=0)\n",
    "\n",
    "dt_param = {\n",
    "     'max_depth': [3, 5, 7, 10, 15, None],\n",
    "     'min_samples_leaf': [1, 3, 5, 10, 15, 20],\n",
    "     'min_samples_split': [2, 4, 6, 8, 10, 12, 14, 16, 18, 20],\n",
    "     'criterion': ['gini', 'entropy', 'log_loss'],\n",
    "}\n",
    "\n",
    "scoring = {\n",
    "    'accuracy': 'accuracy',\n",
    "    'weighted_precision': make_scorer(precision_score, average='weighted'),\n",
    "    'weighted_recall': make_scorer(recall_score, average='weighted'),\n",
    "    'weighted_f1': make_scorer(f1_score, average='weighted')\n",
    "    \n",
    "}\n",
    "\n",
    "grid_search = GridSearchCV(dt, dt_param, cv=10, scoring=scoring, refit='accuracy')"
   ]
  },
  {
   "cell_type": "code",
   "execution_count": 14,
   "id": "3ad61f4f-b9c0-4ca7-baa0-46be87b59fb8",
   "metadata": {},
   "outputs": [
    {
     "data": {
      "text/html": [
       "<style>#sk-container-id-3 {color: black;background-color: white;}#sk-container-id-3 pre{padding: 0;}#sk-container-id-3 div.sk-toggleable {background-color: white;}#sk-container-id-3 label.sk-toggleable__label {cursor: pointer;display: block;width: 100%;margin-bottom: 0;padding: 0.3em;box-sizing: border-box;text-align: center;}#sk-container-id-3 label.sk-toggleable__label-arrow:before {content: \"▸\";float: left;margin-right: 0.25em;color: #696969;}#sk-container-id-3 label.sk-toggleable__label-arrow:hover:before {color: black;}#sk-container-id-3 div.sk-estimator:hover label.sk-toggleable__label-arrow:before {color: black;}#sk-container-id-3 div.sk-toggleable__content {max-height: 0;max-width: 0;overflow: hidden;text-align: left;background-color: #f0f8ff;}#sk-container-id-3 div.sk-toggleable__content pre {margin: 0.2em;color: black;border-radius: 0.25em;background-color: #f0f8ff;}#sk-container-id-3 input.sk-toggleable__control:checked~div.sk-toggleable__content {max-height: 200px;max-width: 100%;overflow: auto;}#sk-container-id-3 input.sk-toggleable__control:checked~label.sk-toggleable__label-arrow:before {content: \"▾\";}#sk-container-id-3 div.sk-estimator input.sk-toggleable__control:checked~label.sk-toggleable__label {background-color: #d4ebff;}#sk-container-id-3 div.sk-label input.sk-toggleable__control:checked~label.sk-toggleable__label {background-color: #d4ebff;}#sk-container-id-3 input.sk-hidden--visually {border: 0;clip: rect(1px 1px 1px 1px);clip: rect(1px, 1px, 1px, 1px);height: 1px;margin: -1px;overflow: hidden;padding: 0;position: absolute;width: 1px;}#sk-container-id-3 div.sk-estimator {font-family: monospace;background-color: #f0f8ff;border: 1px dotted black;border-radius: 0.25em;box-sizing: border-box;margin-bottom: 0.5em;}#sk-container-id-3 div.sk-estimator:hover {background-color: #d4ebff;}#sk-container-id-3 div.sk-parallel-item::after {content: \"\";width: 100%;border-bottom: 1px solid gray;flex-grow: 1;}#sk-container-id-3 div.sk-label:hover label.sk-toggleable__label {background-color: #d4ebff;}#sk-container-id-3 div.sk-serial::before {content: \"\";position: absolute;border-left: 1px solid gray;box-sizing: border-box;top: 0;bottom: 0;left: 50%;z-index: 0;}#sk-container-id-3 div.sk-serial {display: flex;flex-direction: column;align-items: center;background-color: white;padding-right: 0.2em;padding-left: 0.2em;position: relative;}#sk-container-id-3 div.sk-item {position: relative;z-index: 1;}#sk-container-id-3 div.sk-parallel {display: flex;align-items: stretch;justify-content: center;background-color: white;position: relative;}#sk-container-id-3 div.sk-item::before, #sk-container-id-3 div.sk-parallel-item::before {content: \"\";position: absolute;border-left: 1px solid gray;box-sizing: border-box;top: 0;bottom: 0;left: 50%;z-index: -1;}#sk-container-id-3 div.sk-parallel-item {display: flex;flex-direction: column;z-index: 1;position: relative;background-color: white;}#sk-container-id-3 div.sk-parallel-item:first-child::after {align-self: flex-end;width: 50%;}#sk-container-id-3 div.sk-parallel-item:last-child::after {align-self: flex-start;width: 50%;}#sk-container-id-3 div.sk-parallel-item:only-child::after {width: 0;}#sk-container-id-3 div.sk-dashed-wrapped {border: 1px dashed gray;margin: 0 0.4em 0.5em 0.4em;box-sizing: border-box;padding-bottom: 0.4em;background-color: white;}#sk-container-id-3 div.sk-label label {font-family: monospace;font-weight: bold;display: inline-block;line-height: 1.2em;}#sk-container-id-3 div.sk-label-container {text-align: center;}#sk-container-id-3 div.sk-container {/* jupyter's `normalize.less` sets `[hidden] { display: none; }` but bootstrap.min.css set `[hidden] { display: none !important; }` so we also need the `!important` here to be able to override the default hidden behavior on the sphinx rendered scikit-learn.org. See: https://github.com/scikit-learn/scikit-learn/issues/21755 */display: inline-block !important;position: relative;}#sk-container-id-3 div.sk-text-repr-fallback {display: none;}</style><div id=\"sk-container-id-3\" class=\"sk-top-container\"><div class=\"sk-text-repr-fallback\"><pre>GridSearchCV(cv=10, estimator=DecisionTreeClassifier(random_state=0),\n",
       "             param_grid={&#x27;criterion&#x27;: [&#x27;gini&#x27;, &#x27;entropy&#x27;, &#x27;log_loss&#x27;],\n",
       "                         &#x27;max_depth&#x27;: [3, 5, 7, 10, 15, None],\n",
       "                         &#x27;min_samples_leaf&#x27;: [1, 3, 5, 10, 15, 20],\n",
       "                         &#x27;min_samples_split&#x27;: [2, 4, 6, 8, 10, 12, 14, 16, 18,\n",
       "                                               20]},\n",
       "             refit=&#x27;accuracy&#x27;,\n",
       "             scoring={&#x27;accuracy&#x27;: &#x27;accuracy&#x27;,\n",
       "                      &#x27;weighted_f1&#x27;: make_scorer(f1_score, average=weighted),\n",
       "                      &#x27;weighted_precision&#x27;: make_scorer(precision_score, average=weighted),\n",
       "                      &#x27;weighted_recall&#x27;: make_scorer(recall_score, average=weighted)})</pre><b>In a Jupyter environment, please rerun this cell to show the HTML representation or trust the notebook. <br />On GitHub, the HTML representation is unable to render, please try loading this page with nbviewer.org.</b></div><div class=\"sk-container\" hidden><div class=\"sk-item sk-dashed-wrapped\"><div class=\"sk-label-container\"><div class=\"sk-label sk-toggleable\"><input class=\"sk-toggleable__control sk-hidden--visually\" id=\"sk-estimator-id-7\" type=\"checkbox\" ><label for=\"sk-estimator-id-7\" class=\"sk-toggleable__label sk-toggleable__label-arrow\">GridSearchCV</label><div class=\"sk-toggleable__content\"><pre>GridSearchCV(cv=10, estimator=DecisionTreeClassifier(random_state=0),\n",
       "             param_grid={&#x27;criterion&#x27;: [&#x27;gini&#x27;, &#x27;entropy&#x27;, &#x27;log_loss&#x27;],\n",
       "                         &#x27;max_depth&#x27;: [3, 5, 7, 10, 15, None],\n",
       "                         &#x27;min_samples_leaf&#x27;: [1, 3, 5, 10, 15, 20],\n",
       "                         &#x27;min_samples_split&#x27;: [2, 4, 6, 8, 10, 12, 14, 16, 18,\n",
       "                                               20]},\n",
       "             refit=&#x27;accuracy&#x27;,\n",
       "             scoring={&#x27;accuracy&#x27;: &#x27;accuracy&#x27;,\n",
       "                      &#x27;weighted_f1&#x27;: make_scorer(f1_score, average=weighted),\n",
       "                      &#x27;weighted_precision&#x27;: make_scorer(precision_score, average=weighted),\n",
       "                      &#x27;weighted_recall&#x27;: make_scorer(recall_score, average=weighted)})</pre></div></div></div><div class=\"sk-parallel\"><div class=\"sk-parallel-item\"><div class=\"sk-item\"><div class=\"sk-label-container\"><div class=\"sk-label sk-toggleable\"><input class=\"sk-toggleable__control sk-hidden--visually\" id=\"sk-estimator-id-8\" type=\"checkbox\" ><label for=\"sk-estimator-id-8\" class=\"sk-toggleable__label sk-toggleable__label-arrow\">estimator: DecisionTreeClassifier</label><div class=\"sk-toggleable__content\"><pre>DecisionTreeClassifier(random_state=0)</pre></div></div></div><div class=\"sk-serial\"><div class=\"sk-item\"><div class=\"sk-estimator sk-toggleable\"><input class=\"sk-toggleable__control sk-hidden--visually\" id=\"sk-estimator-id-9\" type=\"checkbox\" ><label for=\"sk-estimator-id-9\" class=\"sk-toggleable__label sk-toggleable__label-arrow\">DecisionTreeClassifier</label><div class=\"sk-toggleable__content\"><pre>DecisionTreeClassifier(random_state=0)</pre></div></div></div></div></div></div></div></div></div></div>"
      ],
      "text/plain": [
       "GridSearchCV(cv=10, estimator=DecisionTreeClassifier(random_state=0),\n",
       "             param_grid={'criterion': ['gini', 'entropy', 'log_loss'],\n",
       "                         'max_depth': [3, 5, 7, 10, 15, None],\n",
       "                         'min_samples_leaf': [1, 3, 5, 10, 15, 20],\n",
       "                         'min_samples_split': [2, 4, 6, 8, 10, 12, 14, 16, 18,\n",
       "                                               20]},\n",
       "             refit='accuracy',\n",
       "             scoring={'accuracy': 'accuracy',\n",
       "                      'weighted_f1': make_scorer(f1_score, average=weighted),\n",
       "                      'weighted_precision': make_scorer(precision_score, average=weighted),\n",
       "                      'weighted_recall': make_scorer(recall_score, average=weighted)})"
      ]
     },
     "execution_count": 14,
     "metadata": {},
     "output_type": "execute_result"
    }
   ],
   "source": [
    "grid_search.fit(features, target)"
   ]
  },
  {
   "cell_type": "code",
   "execution_count": 15,
   "id": "efb636e2-1e5a-4e06-bd60-555e52e6bc3f",
   "metadata": {},
   "outputs": [
    {
     "name": "stdout",
     "output_type": "stream",
     "text": [
      "Best parameter for Decision Tree Classifier = {'criterion': 'gini', 'max_depth': 15, 'min_samples_leaf': 5, 'min_samples_split': 2}\n",
      "Best Accuracy Score for Decision Tree Classifier = 0.6344871794871795\n",
      "Best Weighted Precision Score for Decision Tree Classifier = 0.6331943989261435\n",
      "Best Weighted Recall Score for Decision Tree Classifier = 0.6344871794871795\n",
      "Best Weighted F1 Score for Decision Tree Classifier = 0.6248197360704765\n"
     ]
    }
   ],
   "source": [
    "best_params = grid_search.best_params_\n",
    "best_accuracy = grid_search.best_score_\n",
    "best_weighted_precision = grid_search.cv_results_['mean_test_weighted_precision'][grid_search.best_index_]\n",
    "best_weighted_recall = grid_search.cv_results_['mean_test_weighted_recall'][grid_search.best_index_]\n",
    "best_weighted_f1 = grid_search.cv_results_['mean_test_weighted_f1'][grid_search.best_index_]\n",
    "\n",
    "print(\"Best parameter for Decision Tree Classifier =\", best_params)\n",
    "print(\"Best Accuracy Score for Decision Tree Classifier =\", best_accuracy)\n",
    "print(\"Best Weighted Precision Score for Decision Tree Classifier =\", best_weighted_precision)\n",
    "print(\"Best Weighted Recall Score for Decision Tree Classifier =\", best_weighted_recall)\n",
    "print(\"Best Weighted F1 Score for Decision Tree Classifier =\", best_weighted_f1)"
   ]
  },
  {
   "cell_type": "markdown",
   "id": "ce1ede97-15d1-4d00-9695-9227a6b89e1e",
   "metadata": {},
   "source": [
    "## Naive Bayes Classifier"
   ]
  },
  {
   "cell_type": "markdown",
   "id": "1e6232d2-31d7-4e7c-9fb6-a3d36a1c1729",
   "metadata": {},
   "source": [
    "### Gaussian Naive Bayes"
   ]
  },
  {
   "cell_type": "code",
   "execution_count": 17,
   "id": "4feb3819-8ee4-4f01-89c6-025f17e31f94",
   "metadata": {},
   "outputs": [],
   "source": [
    "from sklearn.model_selection import GridSearchCV\n",
    "from sklearn.naive_bayes import GaussianNB\n",
    "from sklearn.metrics import make_scorer, accuracy_score, precision_score, recall_score, f1_score\n",
    "\n",
    "gnb = GaussianNB()\n",
    "\n",
    "gnb_param = {\n",
    "    'var_smoothing': [1e-9, 1e-8, 1e-7, 1e-6, 1e-5, 1e-4]  \n",
    "}\n",
    "\n",
    "scoring = {\n",
    "    'accuracy': 'accuracy',\n",
    "    'weighted_precision': make_scorer(precision_score, average='weighted'),\n",
    "    'weighted_recall': make_scorer(recall_score, average='weighted'),\n",
    "    'weighted_f1': make_scorer(f1_score, average='weighted')\n",
    "}\n",
    "\n",
    "grid_search = GridSearchCV(gnb, gnb_param, cv=10, scoring=scoring, refit='accuracy')"
   ]
  },
  {
   "cell_type": "code",
   "execution_count": 18,
   "id": "f46083aa-f143-4986-a32f-99a261bea4f5",
   "metadata": {},
   "outputs": [
    {
     "data": {
      "text/html": [
       "<style>#sk-container-id-4 {color: black;background-color: white;}#sk-container-id-4 pre{padding: 0;}#sk-container-id-4 div.sk-toggleable {background-color: white;}#sk-container-id-4 label.sk-toggleable__label {cursor: pointer;display: block;width: 100%;margin-bottom: 0;padding: 0.3em;box-sizing: border-box;text-align: center;}#sk-container-id-4 label.sk-toggleable__label-arrow:before {content: \"▸\";float: left;margin-right: 0.25em;color: #696969;}#sk-container-id-4 label.sk-toggleable__label-arrow:hover:before {color: black;}#sk-container-id-4 div.sk-estimator:hover label.sk-toggleable__label-arrow:before {color: black;}#sk-container-id-4 div.sk-toggleable__content {max-height: 0;max-width: 0;overflow: hidden;text-align: left;background-color: #f0f8ff;}#sk-container-id-4 div.sk-toggleable__content pre {margin: 0.2em;color: black;border-radius: 0.25em;background-color: #f0f8ff;}#sk-container-id-4 input.sk-toggleable__control:checked~div.sk-toggleable__content {max-height: 200px;max-width: 100%;overflow: auto;}#sk-container-id-4 input.sk-toggleable__control:checked~label.sk-toggleable__label-arrow:before {content: \"▾\";}#sk-container-id-4 div.sk-estimator input.sk-toggleable__control:checked~label.sk-toggleable__label {background-color: #d4ebff;}#sk-container-id-4 div.sk-label input.sk-toggleable__control:checked~label.sk-toggleable__label {background-color: #d4ebff;}#sk-container-id-4 input.sk-hidden--visually {border: 0;clip: rect(1px 1px 1px 1px);clip: rect(1px, 1px, 1px, 1px);height: 1px;margin: -1px;overflow: hidden;padding: 0;position: absolute;width: 1px;}#sk-container-id-4 div.sk-estimator {font-family: monospace;background-color: #f0f8ff;border: 1px dotted black;border-radius: 0.25em;box-sizing: border-box;margin-bottom: 0.5em;}#sk-container-id-4 div.sk-estimator:hover {background-color: #d4ebff;}#sk-container-id-4 div.sk-parallel-item::after {content: \"\";width: 100%;border-bottom: 1px solid gray;flex-grow: 1;}#sk-container-id-4 div.sk-label:hover label.sk-toggleable__label {background-color: #d4ebff;}#sk-container-id-4 div.sk-serial::before {content: \"\";position: absolute;border-left: 1px solid gray;box-sizing: border-box;top: 0;bottom: 0;left: 50%;z-index: 0;}#sk-container-id-4 div.sk-serial {display: flex;flex-direction: column;align-items: center;background-color: white;padding-right: 0.2em;padding-left: 0.2em;position: relative;}#sk-container-id-4 div.sk-item {position: relative;z-index: 1;}#sk-container-id-4 div.sk-parallel {display: flex;align-items: stretch;justify-content: center;background-color: white;position: relative;}#sk-container-id-4 div.sk-item::before, #sk-container-id-4 div.sk-parallel-item::before {content: \"\";position: absolute;border-left: 1px solid gray;box-sizing: border-box;top: 0;bottom: 0;left: 50%;z-index: -1;}#sk-container-id-4 div.sk-parallel-item {display: flex;flex-direction: column;z-index: 1;position: relative;background-color: white;}#sk-container-id-4 div.sk-parallel-item:first-child::after {align-self: flex-end;width: 50%;}#sk-container-id-4 div.sk-parallel-item:last-child::after {align-self: flex-start;width: 50%;}#sk-container-id-4 div.sk-parallel-item:only-child::after {width: 0;}#sk-container-id-4 div.sk-dashed-wrapped {border: 1px dashed gray;margin: 0 0.4em 0.5em 0.4em;box-sizing: border-box;padding-bottom: 0.4em;background-color: white;}#sk-container-id-4 div.sk-label label {font-family: monospace;font-weight: bold;display: inline-block;line-height: 1.2em;}#sk-container-id-4 div.sk-label-container {text-align: center;}#sk-container-id-4 div.sk-container {/* jupyter's `normalize.less` sets `[hidden] { display: none; }` but bootstrap.min.css set `[hidden] { display: none !important; }` so we also need the `!important` here to be able to override the default hidden behavior on the sphinx rendered scikit-learn.org. See: https://github.com/scikit-learn/scikit-learn/issues/21755 */display: inline-block !important;position: relative;}#sk-container-id-4 div.sk-text-repr-fallback {display: none;}</style><div id=\"sk-container-id-4\" class=\"sk-top-container\"><div class=\"sk-text-repr-fallback\"><pre>GridSearchCV(cv=10, estimator=GaussianNB(),\n",
       "             param_grid={&#x27;var_smoothing&#x27;: [1e-09, 1e-08, 1e-07, 1e-06, 1e-05,\n",
       "                                           0.0001]},\n",
       "             refit=&#x27;accuracy&#x27;,\n",
       "             scoring={&#x27;accuracy&#x27;: &#x27;accuracy&#x27;,\n",
       "                      &#x27;weighted_f1&#x27;: make_scorer(f1_score, average=weighted),\n",
       "                      &#x27;weighted_precision&#x27;: make_scorer(precision_score, average=weighted),\n",
       "                      &#x27;weighted_recall&#x27;: make_scorer(recall_score, average=weighted)})</pre><b>In a Jupyter environment, please rerun this cell to show the HTML representation or trust the notebook. <br />On GitHub, the HTML representation is unable to render, please try loading this page with nbviewer.org.</b></div><div class=\"sk-container\" hidden><div class=\"sk-item sk-dashed-wrapped\"><div class=\"sk-label-container\"><div class=\"sk-label sk-toggleable\"><input class=\"sk-toggleable__control sk-hidden--visually\" id=\"sk-estimator-id-11\" type=\"checkbox\" ><label for=\"sk-estimator-id-11\" class=\"sk-toggleable__label sk-toggleable__label-arrow\">GridSearchCV</label><div class=\"sk-toggleable__content\"><pre>GridSearchCV(cv=10, estimator=GaussianNB(),\n",
       "             param_grid={&#x27;var_smoothing&#x27;: [1e-09, 1e-08, 1e-07, 1e-06, 1e-05,\n",
       "                                           0.0001]},\n",
       "             refit=&#x27;accuracy&#x27;,\n",
       "             scoring={&#x27;accuracy&#x27;: &#x27;accuracy&#x27;,\n",
       "                      &#x27;weighted_f1&#x27;: make_scorer(f1_score, average=weighted),\n",
       "                      &#x27;weighted_precision&#x27;: make_scorer(precision_score, average=weighted),\n",
       "                      &#x27;weighted_recall&#x27;: make_scorer(recall_score, average=weighted)})</pre></div></div></div><div class=\"sk-parallel\"><div class=\"sk-parallel-item\"><div class=\"sk-item\"><div class=\"sk-label-container\"><div class=\"sk-label sk-toggleable\"><input class=\"sk-toggleable__control sk-hidden--visually\" id=\"sk-estimator-id-12\" type=\"checkbox\" ><label for=\"sk-estimator-id-12\" class=\"sk-toggleable__label sk-toggleable__label-arrow\">estimator: GaussianNB</label><div class=\"sk-toggleable__content\"><pre>GaussianNB()</pre></div></div></div><div class=\"sk-serial\"><div class=\"sk-item\"><div class=\"sk-estimator sk-toggleable\"><input class=\"sk-toggleable__control sk-hidden--visually\" id=\"sk-estimator-id-13\" type=\"checkbox\" ><label for=\"sk-estimator-id-13\" class=\"sk-toggleable__label sk-toggleable__label-arrow\">GaussianNB</label><div class=\"sk-toggleable__content\"><pre>GaussianNB()</pre></div></div></div></div></div></div></div></div></div></div>"
      ],
      "text/plain": [
       "GridSearchCV(cv=10, estimator=GaussianNB(),\n",
       "             param_grid={'var_smoothing': [1e-09, 1e-08, 1e-07, 1e-06, 1e-05,\n",
       "                                           0.0001]},\n",
       "             refit='accuracy',\n",
       "             scoring={'accuracy': 'accuracy',\n",
       "                      'weighted_f1': make_scorer(f1_score, average=weighted),\n",
       "                      'weighted_precision': make_scorer(precision_score, average=weighted),\n",
       "                      'weighted_recall': make_scorer(recall_score, average=weighted)})"
      ]
     },
     "execution_count": 18,
     "metadata": {},
     "output_type": "execute_result"
    }
   ],
   "source": [
    "grid_search.fit(features, target)"
   ]
  },
  {
   "cell_type": "code",
   "execution_count": 19,
   "id": "ec3bc317-dc0f-438b-94d9-f71a215fb370",
   "metadata": {},
   "outputs": [
    {
     "name": "stdout",
     "output_type": "stream",
     "text": [
      "Best parameter for Gaussian Naive Bayes = {'var_smoothing': 1e-09}\n",
      "Best Accuracy Score for Gaussian Naive Bayes = 0.6037179487179487\n",
      "Best Weighted Precision Score for Gaussian Naive Bayes = 0.6072272327236828\n",
      "Best Weighted Recall Score for Gaussian Naive Bayes = 0.6037179487179487\n",
      "Best Weighted F1 Score for Gaussian Naive Bayes = 0.5939537704584154\n"
     ]
    }
   ],
   "source": [
    "best_params = grid_search.best_params_\n",
    "best_accuracy = grid_search.best_score_\n",
    "best_weighted_precision = grid_search.cv_results_['mean_test_weighted_precision'][grid_search.best_index_]\n",
    "best_weighted_recall = grid_search.cv_results_['mean_test_weighted_recall'][grid_search.best_index_]\n",
    "best_weighted_f1 = grid_search.cv_results_['mean_test_weighted_f1'][grid_search.best_index_]\n",
    "\n",
    "print(\"Best parameter for Gaussian Naive Bayes =\", best_params)\n",
    "print(\"Best Accuracy Score for Gaussian Naive Bayes =\", best_accuracy)\n",
    "print(\"Best Weighted Precision Score for Gaussian Naive Bayes =\", best_weighted_precision)\n",
    "print(\"Best Weighted Recall Score for Gaussian Naive Bayes =\", best_weighted_recall)\n",
    "print(\"Best Weighted F1 Score for Gaussian Naive Bayes =\", best_weighted_f1)"
   ]
  },
  {
   "cell_type": "markdown",
   "id": "f7b405e9-c36f-40bf-ab89-0b7c7a3194cf",
   "metadata": {},
   "source": [
    "### Bernoulli Naive Bayes"
   ]
  },
  {
   "cell_type": "code",
   "execution_count": 20,
   "id": "918d5a62-bb12-47d4-9d5b-d5a6a5357396",
   "metadata": {},
   "outputs": [],
   "source": [
    "from sklearn.model_selection import GridSearchCV\n",
    "from sklearn.naive_bayes import BernoulliNB\n",
    "from sklearn.metrics import make_scorer, accuracy_score, precision_score, recall_score, f1_score\n",
    "\n",
    "bnb = BernoulliNB()\n",
    "\n",
    "bnb_param = {\n",
    "    'binarize': [0.0, 0.5, 1.0],  \n",
    "    'alpha': [0.5, 1.0, 2.0], \n",
    "    'force_alpha': [True,False],\n",
    "    'fit_prior': [True,False]\n",
    "}\n",
    "\n",
    "scoring = {\n",
    "    'accuracy': 'accuracy',\n",
    "    'weighted_precision': make_scorer(precision_score, average='weighted', zero_division=0),\n",
    "    'weighted_recall': make_scorer(recall_score, average='weighted', zero_division=0),\n",
    "    'weighted_f1': make_scorer(f1_score, average='weighted', zero_division=0),\n",
    "}\n",
    "\n",
    "grid_search = GridSearchCV(bnb, bnb_param, cv=10, scoring=scoring, refit='accuracy')"
   ]
  },
  {
   "cell_type": "code",
   "execution_count": 21,
   "id": "8adf5a1a-1f14-41b2-b7dd-709c7919f15e",
   "metadata": {},
   "outputs": [
    {
     "data": {
      "text/html": [
       "<style>#sk-container-id-5 {color: black;background-color: white;}#sk-container-id-5 pre{padding: 0;}#sk-container-id-5 div.sk-toggleable {background-color: white;}#sk-container-id-5 label.sk-toggleable__label {cursor: pointer;display: block;width: 100%;margin-bottom: 0;padding: 0.3em;box-sizing: border-box;text-align: center;}#sk-container-id-5 label.sk-toggleable__label-arrow:before {content: \"▸\";float: left;margin-right: 0.25em;color: #696969;}#sk-container-id-5 label.sk-toggleable__label-arrow:hover:before {color: black;}#sk-container-id-5 div.sk-estimator:hover label.sk-toggleable__label-arrow:before {color: black;}#sk-container-id-5 div.sk-toggleable__content {max-height: 0;max-width: 0;overflow: hidden;text-align: left;background-color: #f0f8ff;}#sk-container-id-5 div.sk-toggleable__content pre {margin: 0.2em;color: black;border-radius: 0.25em;background-color: #f0f8ff;}#sk-container-id-5 input.sk-toggleable__control:checked~div.sk-toggleable__content {max-height: 200px;max-width: 100%;overflow: auto;}#sk-container-id-5 input.sk-toggleable__control:checked~label.sk-toggleable__label-arrow:before {content: \"▾\";}#sk-container-id-5 div.sk-estimator input.sk-toggleable__control:checked~label.sk-toggleable__label {background-color: #d4ebff;}#sk-container-id-5 div.sk-label input.sk-toggleable__control:checked~label.sk-toggleable__label {background-color: #d4ebff;}#sk-container-id-5 input.sk-hidden--visually {border: 0;clip: rect(1px 1px 1px 1px);clip: rect(1px, 1px, 1px, 1px);height: 1px;margin: -1px;overflow: hidden;padding: 0;position: absolute;width: 1px;}#sk-container-id-5 div.sk-estimator {font-family: monospace;background-color: #f0f8ff;border: 1px dotted black;border-radius: 0.25em;box-sizing: border-box;margin-bottom: 0.5em;}#sk-container-id-5 div.sk-estimator:hover {background-color: #d4ebff;}#sk-container-id-5 div.sk-parallel-item::after {content: \"\";width: 100%;border-bottom: 1px solid gray;flex-grow: 1;}#sk-container-id-5 div.sk-label:hover label.sk-toggleable__label {background-color: #d4ebff;}#sk-container-id-5 div.sk-serial::before {content: \"\";position: absolute;border-left: 1px solid gray;box-sizing: border-box;top: 0;bottom: 0;left: 50%;z-index: 0;}#sk-container-id-5 div.sk-serial {display: flex;flex-direction: column;align-items: center;background-color: white;padding-right: 0.2em;padding-left: 0.2em;position: relative;}#sk-container-id-5 div.sk-item {position: relative;z-index: 1;}#sk-container-id-5 div.sk-parallel {display: flex;align-items: stretch;justify-content: center;background-color: white;position: relative;}#sk-container-id-5 div.sk-item::before, #sk-container-id-5 div.sk-parallel-item::before {content: \"\";position: absolute;border-left: 1px solid gray;box-sizing: border-box;top: 0;bottom: 0;left: 50%;z-index: -1;}#sk-container-id-5 div.sk-parallel-item {display: flex;flex-direction: column;z-index: 1;position: relative;background-color: white;}#sk-container-id-5 div.sk-parallel-item:first-child::after {align-self: flex-end;width: 50%;}#sk-container-id-5 div.sk-parallel-item:last-child::after {align-self: flex-start;width: 50%;}#sk-container-id-5 div.sk-parallel-item:only-child::after {width: 0;}#sk-container-id-5 div.sk-dashed-wrapped {border: 1px dashed gray;margin: 0 0.4em 0.5em 0.4em;box-sizing: border-box;padding-bottom: 0.4em;background-color: white;}#sk-container-id-5 div.sk-label label {font-family: monospace;font-weight: bold;display: inline-block;line-height: 1.2em;}#sk-container-id-5 div.sk-label-container {text-align: center;}#sk-container-id-5 div.sk-container {/* jupyter's `normalize.less` sets `[hidden] { display: none; }` but bootstrap.min.css set `[hidden] { display: none !important; }` so we also need the `!important` here to be able to override the default hidden behavior on the sphinx rendered scikit-learn.org. See: https://github.com/scikit-learn/scikit-learn/issues/21755 */display: inline-block !important;position: relative;}#sk-container-id-5 div.sk-text-repr-fallback {display: none;}</style><div id=\"sk-container-id-5\" class=\"sk-top-container\"><div class=\"sk-text-repr-fallback\"><pre>GridSearchCV(cv=10, estimator=BernoulliNB(),\n",
       "             param_grid={&#x27;alpha&#x27;: [0.5, 1.0, 2.0], &#x27;binarize&#x27;: [0.0, 0.5, 1.0],\n",
       "                         &#x27;fit_prior&#x27;: [True, False],\n",
       "                         &#x27;force_alpha&#x27;: [True, False]},\n",
       "             refit=&#x27;accuracy&#x27;,\n",
       "             scoring={&#x27;accuracy&#x27;: &#x27;accuracy&#x27;,\n",
       "                      &#x27;weighted_f1&#x27;: make_scorer(f1_score, average=weighted, zero_division=0),\n",
       "                      &#x27;weighted_precision&#x27;: make_scorer(precision_score, average=weighted, zero_division=0),\n",
       "                      &#x27;weighted_recall&#x27;: make_scorer(recall_score, average=weighted, zero_division=0)})</pre><b>In a Jupyter environment, please rerun this cell to show the HTML representation or trust the notebook. <br />On GitHub, the HTML representation is unable to render, please try loading this page with nbviewer.org.</b></div><div class=\"sk-container\" hidden><div class=\"sk-item sk-dashed-wrapped\"><div class=\"sk-label-container\"><div class=\"sk-label sk-toggleable\"><input class=\"sk-toggleable__control sk-hidden--visually\" id=\"sk-estimator-id-14\" type=\"checkbox\" ><label for=\"sk-estimator-id-14\" class=\"sk-toggleable__label sk-toggleable__label-arrow\">GridSearchCV</label><div class=\"sk-toggleable__content\"><pre>GridSearchCV(cv=10, estimator=BernoulliNB(),\n",
       "             param_grid={&#x27;alpha&#x27;: [0.5, 1.0, 2.0], &#x27;binarize&#x27;: [0.0, 0.5, 1.0],\n",
       "                         &#x27;fit_prior&#x27;: [True, False],\n",
       "                         &#x27;force_alpha&#x27;: [True, False]},\n",
       "             refit=&#x27;accuracy&#x27;,\n",
       "             scoring={&#x27;accuracy&#x27;: &#x27;accuracy&#x27;,\n",
       "                      &#x27;weighted_f1&#x27;: make_scorer(f1_score, average=weighted, zero_division=0),\n",
       "                      &#x27;weighted_precision&#x27;: make_scorer(precision_score, average=weighted, zero_division=0),\n",
       "                      &#x27;weighted_recall&#x27;: make_scorer(recall_score, average=weighted, zero_division=0)})</pre></div></div></div><div class=\"sk-parallel\"><div class=\"sk-parallel-item\"><div class=\"sk-item\"><div class=\"sk-label-container\"><div class=\"sk-label sk-toggleable\"><input class=\"sk-toggleable__control sk-hidden--visually\" id=\"sk-estimator-id-15\" type=\"checkbox\" ><label for=\"sk-estimator-id-15\" class=\"sk-toggleable__label sk-toggleable__label-arrow\">estimator: BernoulliNB</label><div class=\"sk-toggleable__content\"><pre>BernoulliNB()</pre></div></div></div><div class=\"sk-serial\"><div class=\"sk-item\"><div class=\"sk-estimator sk-toggleable\"><input class=\"sk-toggleable__control sk-hidden--visually\" id=\"sk-estimator-id-16\" type=\"checkbox\" ><label for=\"sk-estimator-id-16\" class=\"sk-toggleable__label sk-toggleable__label-arrow\">BernoulliNB</label><div class=\"sk-toggleable__content\"><pre>BernoulliNB()</pre></div></div></div></div></div></div></div></div></div></div>"
      ],
      "text/plain": [
       "GridSearchCV(cv=10, estimator=BernoulliNB(),\n",
       "             param_grid={'alpha': [0.5, 1.0, 2.0], 'binarize': [0.0, 0.5, 1.0],\n",
       "                         'fit_prior': [True, False],\n",
       "                         'force_alpha': [True, False]},\n",
       "             refit='accuracy',\n",
       "             scoring={'accuracy': 'accuracy',\n",
       "                      'weighted_f1': make_scorer(f1_score, average=weighted, zero_division=0),\n",
       "                      'weighted_precision': make_scorer(precision_score, average=weighted, zero_division=0),\n",
       "                      'weighted_recall': make_scorer(recall_score, average=weighted, zero_division=0)})"
      ]
     },
     "execution_count": 21,
     "metadata": {},
     "output_type": "execute_result"
    }
   ],
   "source": [
    "grid_search.fit(features, target)"
   ]
  },
  {
   "cell_type": "code",
   "execution_count": 22,
   "id": "60d9de10-f3a4-4eba-a738-8bf687280b6c",
   "metadata": {},
   "outputs": [
    {
     "name": "stdout",
     "output_type": "stream",
     "text": [
      "Best parameter for Bernoulli Naive Bayes = {'alpha': 2.0, 'binarize': 0.0, 'fit_prior': False, 'force_alpha': True}\n",
      "Best Accuracy Score for Bernoulli Naive Bayes = 0.5982692307692308\n",
      "Best Weighted Precision Score for Bernoulli Naive Bayes = 0.6111874343979606\n",
      "Best Weighted Recall Score for Bernoulli Naive Bayes = 0.5982692307692308\n",
      "Best Weighted F1 Score for Bernoulli Naive Bayes = 0.5969725232269818\n"
     ]
    }
   ],
   "source": [
    "best_params = grid_search.best_params_\n",
    "best_accuracy = grid_search.best_score_\n",
    "best_weighted_precision = grid_search.cv_results_['mean_test_weighted_precision'][grid_search.best_index_]\n",
    "best_weighted_recall = grid_search.cv_results_['mean_test_weighted_recall'][grid_search.best_index_]\n",
    "best_weighted_f1 = grid_search.cv_results_['mean_test_weighted_f1'][grid_search.best_index_]\n",
    "\n",
    "print(\"Best parameter for Bernoulli Naive Bayes =\", best_params)\n",
    "print(\"Best Accuracy Score for Bernoulli Naive Bayes =\", best_accuracy)\n",
    "print(\"Best Weighted Precision Score for Bernoulli Naive Bayes =\", best_weighted_precision)\n",
    "print(\"Best Weighted Recall Score for Bernoulli Naive Bayes =\", best_weighted_recall)\n",
    "print(\"Best Weighted F1 Score for Bernoulli Naive Bayes =\", best_weighted_f1)"
   ]
  },
  {
   "cell_type": "markdown",
   "id": "8a739a96-3240-4715-bc08-f01093e35d06",
   "metadata": {},
   "source": [
    "### Multinomial Naive Bayes"
   ]
  },
  {
   "cell_type": "code",
   "execution_count": 23,
   "id": "524e098a-b0af-49f7-8ad1-9d671651b8a0",
   "metadata": {},
   "outputs": [],
   "source": [
    "from sklearn.model_selection import GridSearchCV\n",
    "from sklearn.naive_bayes import MultinomialNB\n",
    "from sklearn.metrics import make_scorer, accuracy_score, precision_score, recall_score, f1_score\n",
    "\n",
    "mnb = MultinomialNB()\n",
    "\n",
    "mnb_param = {\n",
    "    'alpha': [0.5, 1.0, 2.0, 3.0], \n",
    "    'force_alpha': [True,False],\n",
    "    'fit_prior': [True,False]\n",
    "}\n",
    "\n",
    "scoring = {\n",
    "    'accuracy': 'accuracy',\n",
    "    'weighted_precision': make_scorer(precision_score, average='weighted', zero_division=0),\n",
    "    'weighted_recall': make_scorer(recall_score, average='weighted', zero_division=0),\n",
    "    'weighted_f1': make_scorer(f1_score, average='weighted', zero_division=0)\n",
    "}\n",
    "\n",
    "grid_search = GridSearchCV(mnb, mnb_param, cv=10, scoring=scoring, refit='accuracy')"
   ]
  },
  {
   "cell_type": "code",
   "execution_count": 24,
   "id": "95391d57-a200-424b-ac61-6f7866dc75f3",
   "metadata": {},
   "outputs": [
    {
     "data": {
      "text/html": [
       "<style>#sk-container-id-6 {color: black;background-color: white;}#sk-container-id-6 pre{padding: 0;}#sk-container-id-6 div.sk-toggleable {background-color: white;}#sk-container-id-6 label.sk-toggleable__label {cursor: pointer;display: block;width: 100%;margin-bottom: 0;padding: 0.3em;box-sizing: border-box;text-align: center;}#sk-container-id-6 label.sk-toggleable__label-arrow:before {content: \"▸\";float: left;margin-right: 0.25em;color: #696969;}#sk-container-id-6 label.sk-toggleable__label-arrow:hover:before {color: black;}#sk-container-id-6 div.sk-estimator:hover label.sk-toggleable__label-arrow:before {color: black;}#sk-container-id-6 div.sk-toggleable__content {max-height: 0;max-width: 0;overflow: hidden;text-align: left;background-color: #f0f8ff;}#sk-container-id-6 div.sk-toggleable__content pre {margin: 0.2em;color: black;border-radius: 0.25em;background-color: #f0f8ff;}#sk-container-id-6 input.sk-toggleable__control:checked~div.sk-toggleable__content {max-height: 200px;max-width: 100%;overflow: auto;}#sk-container-id-6 input.sk-toggleable__control:checked~label.sk-toggleable__label-arrow:before {content: \"▾\";}#sk-container-id-6 div.sk-estimator input.sk-toggleable__control:checked~label.sk-toggleable__label {background-color: #d4ebff;}#sk-container-id-6 div.sk-label input.sk-toggleable__control:checked~label.sk-toggleable__label {background-color: #d4ebff;}#sk-container-id-6 input.sk-hidden--visually {border: 0;clip: rect(1px 1px 1px 1px);clip: rect(1px, 1px, 1px, 1px);height: 1px;margin: -1px;overflow: hidden;padding: 0;position: absolute;width: 1px;}#sk-container-id-6 div.sk-estimator {font-family: monospace;background-color: #f0f8ff;border: 1px dotted black;border-radius: 0.25em;box-sizing: border-box;margin-bottom: 0.5em;}#sk-container-id-6 div.sk-estimator:hover {background-color: #d4ebff;}#sk-container-id-6 div.sk-parallel-item::after {content: \"\";width: 100%;border-bottom: 1px solid gray;flex-grow: 1;}#sk-container-id-6 div.sk-label:hover label.sk-toggleable__label {background-color: #d4ebff;}#sk-container-id-6 div.sk-serial::before {content: \"\";position: absolute;border-left: 1px solid gray;box-sizing: border-box;top: 0;bottom: 0;left: 50%;z-index: 0;}#sk-container-id-6 div.sk-serial {display: flex;flex-direction: column;align-items: center;background-color: white;padding-right: 0.2em;padding-left: 0.2em;position: relative;}#sk-container-id-6 div.sk-item {position: relative;z-index: 1;}#sk-container-id-6 div.sk-parallel {display: flex;align-items: stretch;justify-content: center;background-color: white;position: relative;}#sk-container-id-6 div.sk-item::before, #sk-container-id-6 div.sk-parallel-item::before {content: \"\";position: absolute;border-left: 1px solid gray;box-sizing: border-box;top: 0;bottom: 0;left: 50%;z-index: -1;}#sk-container-id-6 div.sk-parallel-item {display: flex;flex-direction: column;z-index: 1;position: relative;background-color: white;}#sk-container-id-6 div.sk-parallel-item:first-child::after {align-self: flex-end;width: 50%;}#sk-container-id-6 div.sk-parallel-item:last-child::after {align-self: flex-start;width: 50%;}#sk-container-id-6 div.sk-parallel-item:only-child::after {width: 0;}#sk-container-id-6 div.sk-dashed-wrapped {border: 1px dashed gray;margin: 0 0.4em 0.5em 0.4em;box-sizing: border-box;padding-bottom: 0.4em;background-color: white;}#sk-container-id-6 div.sk-label label {font-family: monospace;font-weight: bold;display: inline-block;line-height: 1.2em;}#sk-container-id-6 div.sk-label-container {text-align: center;}#sk-container-id-6 div.sk-container {/* jupyter's `normalize.less` sets `[hidden] { display: none; }` but bootstrap.min.css set `[hidden] { display: none !important; }` so we also need the `!important` here to be able to override the default hidden behavior on the sphinx rendered scikit-learn.org. See: https://github.com/scikit-learn/scikit-learn/issues/21755 */display: inline-block !important;position: relative;}#sk-container-id-6 div.sk-text-repr-fallback {display: none;}</style><div id=\"sk-container-id-6\" class=\"sk-top-container\"><div class=\"sk-text-repr-fallback\"><pre>GridSearchCV(cv=10, estimator=MultinomialNB(),\n",
       "             param_grid={&#x27;alpha&#x27;: [0.5, 1.0, 2.0, 3.0],\n",
       "                         &#x27;fit_prior&#x27;: [True, False],\n",
       "                         &#x27;force_alpha&#x27;: [True, False]},\n",
       "             refit=&#x27;accuracy&#x27;,\n",
       "             scoring={&#x27;accuracy&#x27;: &#x27;accuracy&#x27;,\n",
       "                      &#x27;weighted_f1&#x27;: make_scorer(f1_score, average=weighted, zero_division=0),\n",
       "                      &#x27;weighted_precision&#x27;: make_scorer(precision_score, average=weighted, zero_division=0),\n",
       "                      &#x27;weighted_recall&#x27;: make_scorer(recall_score, average=weighted, zero_division=0)})</pre><b>In a Jupyter environment, please rerun this cell to show the HTML representation or trust the notebook. <br />On GitHub, the HTML representation is unable to render, please try loading this page with nbviewer.org.</b></div><div class=\"sk-container\" hidden><div class=\"sk-item sk-dashed-wrapped\"><div class=\"sk-label-container\"><div class=\"sk-label sk-toggleable\"><input class=\"sk-toggleable__control sk-hidden--visually\" id=\"sk-estimator-id-17\" type=\"checkbox\" ><label for=\"sk-estimator-id-17\" class=\"sk-toggleable__label sk-toggleable__label-arrow\">GridSearchCV</label><div class=\"sk-toggleable__content\"><pre>GridSearchCV(cv=10, estimator=MultinomialNB(),\n",
       "             param_grid={&#x27;alpha&#x27;: [0.5, 1.0, 2.0, 3.0],\n",
       "                         &#x27;fit_prior&#x27;: [True, False],\n",
       "                         &#x27;force_alpha&#x27;: [True, False]},\n",
       "             refit=&#x27;accuracy&#x27;,\n",
       "             scoring={&#x27;accuracy&#x27;: &#x27;accuracy&#x27;,\n",
       "                      &#x27;weighted_f1&#x27;: make_scorer(f1_score, average=weighted, zero_division=0),\n",
       "                      &#x27;weighted_precision&#x27;: make_scorer(precision_score, average=weighted, zero_division=0),\n",
       "                      &#x27;weighted_recall&#x27;: make_scorer(recall_score, average=weighted, zero_division=0)})</pre></div></div></div><div class=\"sk-parallel\"><div class=\"sk-parallel-item\"><div class=\"sk-item\"><div class=\"sk-label-container\"><div class=\"sk-label sk-toggleable\"><input class=\"sk-toggleable__control sk-hidden--visually\" id=\"sk-estimator-id-18\" type=\"checkbox\" ><label for=\"sk-estimator-id-18\" class=\"sk-toggleable__label sk-toggleable__label-arrow\">estimator: MultinomialNB</label><div class=\"sk-toggleable__content\"><pre>MultinomialNB()</pre></div></div></div><div class=\"sk-serial\"><div class=\"sk-item\"><div class=\"sk-estimator sk-toggleable\"><input class=\"sk-toggleable__control sk-hidden--visually\" id=\"sk-estimator-id-19\" type=\"checkbox\" ><label for=\"sk-estimator-id-19\" class=\"sk-toggleable__label sk-toggleable__label-arrow\">MultinomialNB</label><div class=\"sk-toggleable__content\"><pre>MultinomialNB()</pre></div></div></div></div></div></div></div></div></div></div>"
      ],
      "text/plain": [
       "GridSearchCV(cv=10, estimator=MultinomialNB(),\n",
       "             param_grid={'alpha': [0.5, 1.0, 2.0, 3.0],\n",
       "                         'fit_prior': [True, False],\n",
       "                         'force_alpha': [True, False]},\n",
       "             refit='accuracy',\n",
       "             scoring={'accuracy': 'accuracy',\n",
       "                      'weighted_f1': make_scorer(f1_score, average=weighted, zero_division=0),\n",
       "                      'weighted_precision': make_scorer(precision_score, average=weighted, zero_division=0),\n",
       "                      'weighted_recall': make_scorer(recall_score, average=weighted, zero_division=0)})"
      ]
     },
     "execution_count": 24,
     "metadata": {},
     "output_type": "execute_result"
    }
   ],
   "source": [
    "grid_search.fit(features, target)"
   ]
  },
  {
   "cell_type": "code",
   "execution_count": 25,
   "id": "5f61b6b4-dea6-47cd-a217-36e35a08a144",
   "metadata": {},
   "outputs": [
    {
     "name": "stdout",
     "output_type": "stream",
     "text": [
      "Best parameter for Multinomial Naive Bayes = {'alpha': 0.5, 'fit_prior': True, 'force_alpha': True}\n",
      "Best Accuracy Score for Multinomial Naive Bayes = 0.6217948717948719\n",
      "Best Weighted Precision Score for Multinomial Naive Bayes = 0.6111874343979606\n",
      "Best Weighted Recall Score for Multinomial Naive Bayes = 0.6217948717948719\n",
      "Best Weighted F1 Score for Multinomial Naive Bayes = 0.6128609003632841\n"
     ]
    }
   ],
   "source": [
    "best_params = grid_search.best_params_\n",
    "best_accuracy = grid_search.best_score_\n",
    "best_weighted_f1 = grid_search.cv_results_['mean_test_weighted_f1'][grid_search.best_index_]\n",
    "best_weighted_recall = grid_search.cv_results_['mean_test_weighted_recall'][grid_search.best_index_]\n",
    "best_weighted_f1 = grid_search.cv_results_['mean_test_weighted_f1'][grid_search.best_index_]\n",
    "\n",
    "print(\"Best parameter for Multinomial Naive Bayes =\", best_params)\n",
    "print(\"Best Accuracy Score for Multinomial Naive Bayes =\", best_accuracy)\n",
    "print(\"Best Weighted Precision Score for Multinomial Naive Bayes =\", best_weighted_precision)\n",
    "print(\"Best Weighted Recall Score for Multinomial Naive Bayes =\", best_weighted_recall)\n",
    "print(\"Best Weighted F1 Score for Multinomial Naive Bayes =\", best_weighted_f1)"
   ]
  },
  {
   "cell_type": "markdown",
   "id": "73bfa7d6-961d-4cde-ae77-5e437149611e",
   "metadata": {},
   "source": [
    "## SVM Classifier"
   ]
  },
  {
   "cell_type": "markdown",
   "id": "396e6dd6-2fb4-45c5-8889-7b7e0a7820d0",
   "metadata": {},
   "source": [
    "### Linear Kernel SVM"
   ]
  },
  {
   "cell_type": "code",
   "execution_count": 26,
   "id": "b1363a7a-6aef-45f7-ae0e-ab00e574eeae",
   "metadata": {},
   "outputs": [],
   "source": [
    "from sklearn.model_selection import GridSearchCV\n",
    "from sklearn.svm import SVC\n",
    "from sklearn.metrics import make_scorer, accuracy_score, precision_score, recall_score, f1_score\n",
    "\n",
    "linear = SVC(kernel = 'linear')\n",
    "\n",
    "linear_param = {\n",
    "     'C': [1, 10, 100, 1000]\n",
    "}\n",
    "\n",
    "scoring = {\n",
    "    'accuracy': 'accuracy',\n",
    "    'weighted_precision': make_scorer(precision_score, average='weighted'),\n",
    "    'weighted_recall': make_scorer(recall_score, average='weighted'),\n",
    "    'weighted_f1': make_scorer(f1_score, average='weighted')\n",
    "}\n",
    "\n",
    "grid_search = GridSearchCV(linear, linear_param, cv=10, scoring=scoring, refit='accuracy')"
   ]
  },
  {
   "cell_type": "code",
   "execution_count": 27,
   "id": "61c0f8e0-5ed1-4412-ad7a-4aae50ab029e",
   "metadata": {},
   "outputs": [
    {
     "data": {
      "text/html": [
       "<style>#sk-container-id-7 {color: black;background-color: white;}#sk-container-id-7 pre{padding: 0;}#sk-container-id-7 div.sk-toggleable {background-color: white;}#sk-container-id-7 label.sk-toggleable__label {cursor: pointer;display: block;width: 100%;margin-bottom: 0;padding: 0.3em;box-sizing: border-box;text-align: center;}#sk-container-id-7 label.sk-toggleable__label-arrow:before {content: \"▸\";float: left;margin-right: 0.25em;color: #696969;}#sk-container-id-7 label.sk-toggleable__label-arrow:hover:before {color: black;}#sk-container-id-7 div.sk-estimator:hover label.sk-toggleable__label-arrow:before {color: black;}#sk-container-id-7 div.sk-toggleable__content {max-height: 0;max-width: 0;overflow: hidden;text-align: left;background-color: #f0f8ff;}#sk-container-id-7 div.sk-toggleable__content pre {margin: 0.2em;color: black;border-radius: 0.25em;background-color: #f0f8ff;}#sk-container-id-7 input.sk-toggleable__control:checked~div.sk-toggleable__content {max-height: 200px;max-width: 100%;overflow: auto;}#sk-container-id-7 input.sk-toggleable__control:checked~label.sk-toggleable__label-arrow:before {content: \"▾\";}#sk-container-id-7 div.sk-estimator input.sk-toggleable__control:checked~label.sk-toggleable__label {background-color: #d4ebff;}#sk-container-id-7 div.sk-label input.sk-toggleable__control:checked~label.sk-toggleable__label {background-color: #d4ebff;}#sk-container-id-7 input.sk-hidden--visually {border: 0;clip: rect(1px 1px 1px 1px);clip: rect(1px, 1px, 1px, 1px);height: 1px;margin: -1px;overflow: hidden;padding: 0;position: absolute;width: 1px;}#sk-container-id-7 div.sk-estimator {font-family: monospace;background-color: #f0f8ff;border: 1px dotted black;border-radius: 0.25em;box-sizing: border-box;margin-bottom: 0.5em;}#sk-container-id-7 div.sk-estimator:hover {background-color: #d4ebff;}#sk-container-id-7 div.sk-parallel-item::after {content: \"\";width: 100%;border-bottom: 1px solid gray;flex-grow: 1;}#sk-container-id-7 div.sk-label:hover label.sk-toggleable__label {background-color: #d4ebff;}#sk-container-id-7 div.sk-serial::before {content: \"\";position: absolute;border-left: 1px solid gray;box-sizing: border-box;top: 0;bottom: 0;left: 50%;z-index: 0;}#sk-container-id-7 div.sk-serial {display: flex;flex-direction: column;align-items: center;background-color: white;padding-right: 0.2em;padding-left: 0.2em;position: relative;}#sk-container-id-7 div.sk-item {position: relative;z-index: 1;}#sk-container-id-7 div.sk-parallel {display: flex;align-items: stretch;justify-content: center;background-color: white;position: relative;}#sk-container-id-7 div.sk-item::before, #sk-container-id-7 div.sk-parallel-item::before {content: \"\";position: absolute;border-left: 1px solid gray;box-sizing: border-box;top: 0;bottom: 0;left: 50%;z-index: -1;}#sk-container-id-7 div.sk-parallel-item {display: flex;flex-direction: column;z-index: 1;position: relative;background-color: white;}#sk-container-id-7 div.sk-parallel-item:first-child::after {align-self: flex-end;width: 50%;}#sk-container-id-7 div.sk-parallel-item:last-child::after {align-self: flex-start;width: 50%;}#sk-container-id-7 div.sk-parallel-item:only-child::after {width: 0;}#sk-container-id-7 div.sk-dashed-wrapped {border: 1px dashed gray;margin: 0 0.4em 0.5em 0.4em;box-sizing: border-box;padding-bottom: 0.4em;background-color: white;}#sk-container-id-7 div.sk-label label {font-family: monospace;font-weight: bold;display: inline-block;line-height: 1.2em;}#sk-container-id-7 div.sk-label-container {text-align: center;}#sk-container-id-7 div.sk-container {/* jupyter's `normalize.less` sets `[hidden] { display: none; }` but bootstrap.min.css set `[hidden] { display: none !important; }` so we also need the `!important` here to be able to override the default hidden behavior on the sphinx rendered scikit-learn.org. See: https://github.com/scikit-learn/scikit-learn/issues/21755 */display: inline-block !important;position: relative;}#sk-container-id-7 div.sk-text-repr-fallback {display: none;}</style><div id=\"sk-container-id-7\" class=\"sk-top-container\"><div class=\"sk-text-repr-fallback\"><pre>GridSearchCV(cv=10, estimator=SVC(kernel=&#x27;linear&#x27;),\n",
       "             param_grid={&#x27;C&#x27;: [1, 10, 100, 1000]}, refit=&#x27;accuracy&#x27;,\n",
       "             scoring={&#x27;accuracy&#x27;: &#x27;accuracy&#x27;,\n",
       "                      &#x27;weighted_f1&#x27;: make_scorer(f1_score, average=weighted),\n",
       "                      &#x27;weighted_precision&#x27;: make_scorer(precision_score, average=weighted),\n",
       "                      &#x27;weighted_recall&#x27;: make_scorer(recall_score, average=weighted)})</pre><b>In a Jupyter environment, please rerun this cell to show the HTML representation or trust the notebook. <br />On GitHub, the HTML representation is unable to render, please try loading this page with nbviewer.org.</b></div><div class=\"sk-container\" hidden><div class=\"sk-item sk-dashed-wrapped\"><div class=\"sk-label-container\"><div class=\"sk-label sk-toggleable\"><input class=\"sk-toggleable__control sk-hidden--visually\" id=\"sk-estimator-id-20\" type=\"checkbox\" ><label for=\"sk-estimator-id-20\" class=\"sk-toggleable__label sk-toggleable__label-arrow\">GridSearchCV</label><div class=\"sk-toggleable__content\"><pre>GridSearchCV(cv=10, estimator=SVC(kernel=&#x27;linear&#x27;),\n",
       "             param_grid={&#x27;C&#x27;: [1, 10, 100, 1000]}, refit=&#x27;accuracy&#x27;,\n",
       "             scoring={&#x27;accuracy&#x27;: &#x27;accuracy&#x27;,\n",
       "                      &#x27;weighted_f1&#x27;: make_scorer(f1_score, average=weighted),\n",
       "                      &#x27;weighted_precision&#x27;: make_scorer(precision_score, average=weighted),\n",
       "                      &#x27;weighted_recall&#x27;: make_scorer(recall_score, average=weighted)})</pre></div></div></div><div class=\"sk-parallel\"><div class=\"sk-parallel-item\"><div class=\"sk-item\"><div class=\"sk-label-container\"><div class=\"sk-label sk-toggleable\"><input class=\"sk-toggleable__control sk-hidden--visually\" id=\"sk-estimator-id-21\" type=\"checkbox\" ><label for=\"sk-estimator-id-21\" class=\"sk-toggleable__label sk-toggleable__label-arrow\">estimator: SVC</label><div class=\"sk-toggleable__content\"><pre>SVC(kernel=&#x27;linear&#x27;)</pre></div></div></div><div class=\"sk-serial\"><div class=\"sk-item\"><div class=\"sk-estimator sk-toggleable\"><input class=\"sk-toggleable__control sk-hidden--visually\" id=\"sk-estimator-id-22\" type=\"checkbox\" ><label for=\"sk-estimator-id-22\" class=\"sk-toggleable__label sk-toggleable__label-arrow\">SVC</label><div class=\"sk-toggleable__content\"><pre>SVC(kernel=&#x27;linear&#x27;)</pre></div></div></div></div></div></div></div></div></div></div>"
      ],
      "text/plain": [
       "GridSearchCV(cv=10, estimator=SVC(kernel='linear'),\n",
       "             param_grid={'C': [1, 10, 100, 1000]}, refit='accuracy',\n",
       "             scoring={'accuracy': 'accuracy',\n",
       "                      'weighted_f1': make_scorer(f1_score, average=weighted),\n",
       "                      'weighted_precision': make_scorer(precision_score, average=weighted),\n",
       "                      'weighted_recall': make_scorer(recall_score, average=weighted)})"
      ]
     },
     "execution_count": 27,
     "metadata": {},
     "output_type": "execute_result"
    }
   ],
   "source": [
    "grid_search.fit(features, target)"
   ]
  },
  {
   "cell_type": "code",
   "execution_count": 28,
   "id": "52e74460-8a08-43b6-909d-0fdcfad1d0ff",
   "metadata": {},
   "outputs": [
    {
     "name": "stdout",
     "output_type": "stream",
     "text": [
      "Best parameter for Linear Kernel SVM = {'C': 10}\n",
      "Best Accuracy Score for Linear Kernel SVM = 0.6140384615384615\n",
      "Best Weighted Precision Score for Linear Kernel SVM = 0.6199661083267209\n",
      "Best Weighted Recall Score for Linear Kernel SVM = 0.6140384615384615\n",
      "Best Weighted F1 Score for Linear Kernel SVM = 0.6036694515349776\n"
     ]
    }
   ],
   "source": [
    "best_params = grid_search.best_params_\n",
    "best_accuracy = grid_search.best_score_\n",
    "best_weighted_precision = grid_search.cv_results_['mean_test_weighted_precision'][grid_search.best_index_]\n",
    "best_weighted_recall = grid_search.cv_results_['mean_test_weighted_recall'][grid_search.best_index_]\n",
    "best_weighted_f1 = grid_search.cv_results_['mean_test_weighted_f1'][grid_search.best_index_]\n",
    "\n",
    "print(\"Best parameter for Linear Kernel SVM =\", best_params)\n",
    "print(\"Best Accuracy Score for Linear Kernel SVM =\", best_accuracy)\n",
    "print(\"Best Weighted Precision Score for Linear Kernel SVM =\", best_weighted_precision)\n",
    "print(\"Best Weighted Recall Score for Linear Kernel SVM =\", best_weighted_recall)\n",
    "print(\"Best Weighted F1 Score for Linear Kernel SVM =\", best_weighted_f1)"
   ]
  },
  {
   "cell_type": "markdown",
   "id": "c491003a-67f6-4b36-8865-3051686cb29d",
   "metadata": {},
   "source": [
    "### RBF Kernel SVM"
   ]
  },
  {
   "cell_type": "code",
   "execution_count": 29,
   "id": "4ccba068-8f14-4336-b68c-246a6f4eeeea",
   "metadata": {},
   "outputs": [],
   "source": [
    "from sklearn.model_selection import GridSearchCV\n",
    "from sklearn.svm import SVC\n",
    "from sklearn.metrics import make_scorer, accuracy_score, precision_score, recall_score, f1_score\n",
    "\n",
    "rbf = SVC(kernel = 'rbf')\n",
    "\n",
    "rbf_param = {\n",
    "     'C': [1,10,100,1000], \n",
    "     'gamma': [0.1,1,'scale', 'auto']\n",
    "}\n",
    "\n",
    "scoring = {\n",
    "    'accuracy': 'accuracy',\n",
    "    'weighted_precision': make_scorer(precision_score, average='weighted', zero_division=0),\n",
    "    'weighted_recall': make_scorer(recall_score, average='weighted', zero_division=0),\n",
    "    'weighted_f1': make_scorer(f1_score, average='weighted', zero_division=0)\n",
    "}\n",
    "\n",
    "grid_search = GridSearchCV(rbf, rbf_param, cv=10, scoring=scoring, refit='accuracy')"
   ]
  },
  {
   "cell_type": "code",
   "execution_count": 30,
   "id": "21e32550-c54b-414d-8acd-6861bf157357",
   "metadata": {},
   "outputs": [
    {
     "data": {
      "text/html": [
       "<style>#sk-container-id-8 {color: black;background-color: white;}#sk-container-id-8 pre{padding: 0;}#sk-container-id-8 div.sk-toggleable {background-color: white;}#sk-container-id-8 label.sk-toggleable__label {cursor: pointer;display: block;width: 100%;margin-bottom: 0;padding: 0.3em;box-sizing: border-box;text-align: center;}#sk-container-id-8 label.sk-toggleable__label-arrow:before {content: \"▸\";float: left;margin-right: 0.25em;color: #696969;}#sk-container-id-8 label.sk-toggleable__label-arrow:hover:before {color: black;}#sk-container-id-8 div.sk-estimator:hover label.sk-toggleable__label-arrow:before {color: black;}#sk-container-id-8 div.sk-toggleable__content {max-height: 0;max-width: 0;overflow: hidden;text-align: left;background-color: #f0f8ff;}#sk-container-id-8 div.sk-toggleable__content pre {margin: 0.2em;color: black;border-radius: 0.25em;background-color: #f0f8ff;}#sk-container-id-8 input.sk-toggleable__control:checked~div.sk-toggleable__content {max-height: 200px;max-width: 100%;overflow: auto;}#sk-container-id-8 input.sk-toggleable__control:checked~label.sk-toggleable__label-arrow:before {content: \"▾\";}#sk-container-id-8 div.sk-estimator input.sk-toggleable__control:checked~label.sk-toggleable__label {background-color: #d4ebff;}#sk-container-id-8 div.sk-label input.sk-toggleable__control:checked~label.sk-toggleable__label {background-color: #d4ebff;}#sk-container-id-8 input.sk-hidden--visually {border: 0;clip: rect(1px 1px 1px 1px);clip: rect(1px, 1px, 1px, 1px);height: 1px;margin: -1px;overflow: hidden;padding: 0;position: absolute;width: 1px;}#sk-container-id-8 div.sk-estimator {font-family: monospace;background-color: #f0f8ff;border: 1px dotted black;border-radius: 0.25em;box-sizing: border-box;margin-bottom: 0.5em;}#sk-container-id-8 div.sk-estimator:hover {background-color: #d4ebff;}#sk-container-id-8 div.sk-parallel-item::after {content: \"\";width: 100%;border-bottom: 1px solid gray;flex-grow: 1;}#sk-container-id-8 div.sk-label:hover label.sk-toggleable__label {background-color: #d4ebff;}#sk-container-id-8 div.sk-serial::before {content: \"\";position: absolute;border-left: 1px solid gray;box-sizing: border-box;top: 0;bottom: 0;left: 50%;z-index: 0;}#sk-container-id-8 div.sk-serial {display: flex;flex-direction: column;align-items: center;background-color: white;padding-right: 0.2em;padding-left: 0.2em;position: relative;}#sk-container-id-8 div.sk-item {position: relative;z-index: 1;}#sk-container-id-8 div.sk-parallel {display: flex;align-items: stretch;justify-content: center;background-color: white;position: relative;}#sk-container-id-8 div.sk-item::before, #sk-container-id-8 div.sk-parallel-item::before {content: \"\";position: absolute;border-left: 1px solid gray;box-sizing: border-box;top: 0;bottom: 0;left: 50%;z-index: -1;}#sk-container-id-8 div.sk-parallel-item {display: flex;flex-direction: column;z-index: 1;position: relative;background-color: white;}#sk-container-id-8 div.sk-parallel-item:first-child::after {align-self: flex-end;width: 50%;}#sk-container-id-8 div.sk-parallel-item:last-child::after {align-self: flex-start;width: 50%;}#sk-container-id-8 div.sk-parallel-item:only-child::after {width: 0;}#sk-container-id-8 div.sk-dashed-wrapped {border: 1px dashed gray;margin: 0 0.4em 0.5em 0.4em;box-sizing: border-box;padding-bottom: 0.4em;background-color: white;}#sk-container-id-8 div.sk-label label {font-family: monospace;font-weight: bold;display: inline-block;line-height: 1.2em;}#sk-container-id-8 div.sk-label-container {text-align: center;}#sk-container-id-8 div.sk-container {/* jupyter's `normalize.less` sets `[hidden] { display: none; }` but bootstrap.min.css set `[hidden] { display: none !important; }` so we also need the `!important` here to be able to override the default hidden behavior on the sphinx rendered scikit-learn.org. See: https://github.com/scikit-learn/scikit-learn/issues/21755 */display: inline-block !important;position: relative;}#sk-container-id-8 div.sk-text-repr-fallback {display: none;}</style><div id=\"sk-container-id-8\" class=\"sk-top-container\"><div class=\"sk-text-repr-fallback\"><pre>GridSearchCV(cv=10, estimator=SVC(),\n",
       "             param_grid={&#x27;C&#x27;: [1, 10, 100, 1000],\n",
       "                         &#x27;gamma&#x27;: [0.1, 1, &#x27;scale&#x27;, &#x27;auto&#x27;]},\n",
       "             refit=&#x27;accuracy&#x27;,\n",
       "             scoring={&#x27;accuracy&#x27;: &#x27;accuracy&#x27;,\n",
       "                      &#x27;weighted_f1&#x27;: make_scorer(f1_score, average=weighted, zero_division=0),\n",
       "                      &#x27;weighted_precision&#x27;: make_scorer(precision_score, average=weighted, zero_division=0),\n",
       "                      &#x27;weighted_recall&#x27;: make_scorer(recall_score, average=weighted, zero_division=0)})</pre><b>In a Jupyter environment, please rerun this cell to show the HTML representation or trust the notebook. <br />On GitHub, the HTML representation is unable to render, please try loading this page with nbviewer.org.</b></div><div class=\"sk-container\" hidden><div class=\"sk-item sk-dashed-wrapped\"><div class=\"sk-label-container\"><div class=\"sk-label sk-toggleable\"><input class=\"sk-toggleable__control sk-hidden--visually\" id=\"sk-estimator-id-23\" type=\"checkbox\" ><label for=\"sk-estimator-id-23\" class=\"sk-toggleable__label sk-toggleable__label-arrow\">GridSearchCV</label><div class=\"sk-toggleable__content\"><pre>GridSearchCV(cv=10, estimator=SVC(),\n",
       "             param_grid={&#x27;C&#x27;: [1, 10, 100, 1000],\n",
       "                         &#x27;gamma&#x27;: [0.1, 1, &#x27;scale&#x27;, &#x27;auto&#x27;]},\n",
       "             refit=&#x27;accuracy&#x27;,\n",
       "             scoring={&#x27;accuracy&#x27;: &#x27;accuracy&#x27;,\n",
       "                      &#x27;weighted_f1&#x27;: make_scorer(f1_score, average=weighted, zero_division=0),\n",
       "                      &#x27;weighted_precision&#x27;: make_scorer(precision_score, average=weighted, zero_division=0),\n",
       "                      &#x27;weighted_recall&#x27;: make_scorer(recall_score, average=weighted, zero_division=0)})</pre></div></div></div><div class=\"sk-parallel\"><div class=\"sk-parallel-item\"><div class=\"sk-item\"><div class=\"sk-label-container\"><div class=\"sk-label sk-toggleable\"><input class=\"sk-toggleable__control sk-hidden--visually\" id=\"sk-estimator-id-24\" type=\"checkbox\" ><label for=\"sk-estimator-id-24\" class=\"sk-toggleable__label sk-toggleable__label-arrow\">estimator: SVC</label><div class=\"sk-toggleable__content\"><pre>SVC()</pre></div></div></div><div class=\"sk-serial\"><div class=\"sk-item\"><div class=\"sk-estimator sk-toggleable\"><input class=\"sk-toggleable__control sk-hidden--visually\" id=\"sk-estimator-id-25\" type=\"checkbox\" ><label for=\"sk-estimator-id-25\" class=\"sk-toggleable__label sk-toggleable__label-arrow\">SVC</label><div class=\"sk-toggleable__content\"><pre>SVC()</pre></div></div></div></div></div></div></div></div></div></div>"
      ],
      "text/plain": [
       "GridSearchCV(cv=10, estimator=SVC(),\n",
       "             param_grid={'C': [1, 10, 100, 1000],\n",
       "                         'gamma': [0.1, 1, 'scale', 'auto']},\n",
       "             refit='accuracy',\n",
       "             scoring={'accuracy': 'accuracy',\n",
       "                      'weighted_f1': make_scorer(f1_score, average=weighted, zero_division=0),\n",
       "                      'weighted_precision': make_scorer(precision_score, average=weighted, zero_division=0),\n",
       "                      'weighted_recall': make_scorer(recall_score, average=weighted, zero_division=0)})"
      ]
     },
     "execution_count": 30,
     "metadata": {},
     "output_type": "execute_result"
    }
   ],
   "source": [
    "grid_search.fit(features, target)"
   ]
  },
  {
   "cell_type": "code",
   "execution_count": 31,
   "id": "65f40f32-628f-4e4c-976d-bc1ede674f57",
   "metadata": {},
   "outputs": [
    {
     "name": "stdout",
     "output_type": "stream",
     "text": [
      "Best parameter for RBF Kernel SVM = {'C': 10, 'gamma': 'scale'}\n",
      "Best Accuracy Score for RBF Kernel SVM = 0.634423076923077\n",
      "Best Weighted Precision Score for RBF Kernel SVM = 0.6398840818089655\n",
      "Best Weighted Recall Score for RBF Kernel SVM = 0.634423076923077\n",
      "Best Weighted F1 Score for RBF Kernel SVM = 0.6308991786566579\n"
     ]
    }
   ],
   "source": [
    "best_params = grid_search.best_params_\n",
    "best_accuracy = grid_search.best_score_\n",
    "best_weighted_precision = grid_search.cv_results_['mean_test_weighted_precision'][grid_search.best_index_]\n",
    "best_weighted_recall = grid_search.cv_results_['mean_test_weighted_recall'][grid_search.best_index_]\n",
    "best_weighted_f1 = grid_search.cv_results_['mean_test_weighted_f1'][grid_search.best_index_]\n",
    "\n",
    "print(\"Best parameter for RBF Kernel SVM =\", best_params)\n",
    "print(\"Best Accuracy Score for RBF Kernel SVM =\", best_accuracy)\n",
    "print(\"Best Weighted Precision Score for RBF Kernel SVM =\", best_weighted_precision)\n",
    "print(\"Best Weighted Recall Score for RBF Kernel SVM =\", best_weighted_recall)\n",
    "print(\"Best Weighted F1 Score for RBF Kernel SVM =\", best_weighted_f1)"
   ]
  },
  {
   "cell_type": "markdown",
   "id": "90b02e88-5702-484f-8806-17357a25057f",
   "metadata": {},
   "source": [
    "### Sigmoid Kernel SVM"
   ]
  },
  {
   "cell_type": "code",
   "execution_count": 32,
   "id": "6b26f117-e4af-42f6-9016-2556daca2f6c",
   "metadata": {},
   "outputs": [],
   "source": [
    "from sklearn.model_selection import GridSearchCV\n",
    "from sklearn.svm import SVC\n",
    "from sklearn.metrics import make_scorer, accuracy_score, precision_score, recall_score, f1_score\n",
    "\n",
    "sigmoid = SVC(kernel = 'sigmoid')\n",
    "\n",
    "sigmoid_param = {\n",
    "     'C': [1,10,100,1000], \n",
    "     'gamma': [0.1,1,'scale', 'auto'], \n",
    "     'coef0': [0, 1, 2]\n",
    "}\n",
    "\n",
    "scoring = {\n",
    "    'accuracy': 'accuracy',\n",
    "    'weighted_precision': make_scorer(precision_score, average='weighted', zero_division=0),\n",
    "    'weighted_recall': make_scorer(recall_score, average='weighted', zero_division=0),\n",
    "    'weighted_f1': make_scorer(f1_score, average='weighted', zero_division=0)\n",
    "}\n",
    "\n",
    "grid_search = GridSearchCV(sigmoid, sigmoid_param, cv=10, scoring=scoring, refit='accuracy')"
   ]
  },
  {
   "cell_type": "code",
   "execution_count": 33,
   "id": "26eb7e27-ce37-4a4f-9443-91297e6a1dce",
   "metadata": {},
   "outputs": [
    {
     "data": {
      "text/html": [
       "<style>#sk-container-id-9 {color: black;background-color: white;}#sk-container-id-9 pre{padding: 0;}#sk-container-id-9 div.sk-toggleable {background-color: white;}#sk-container-id-9 label.sk-toggleable__label {cursor: pointer;display: block;width: 100%;margin-bottom: 0;padding: 0.3em;box-sizing: border-box;text-align: center;}#sk-container-id-9 label.sk-toggleable__label-arrow:before {content: \"▸\";float: left;margin-right: 0.25em;color: #696969;}#sk-container-id-9 label.sk-toggleable__label-arrow:hover:before {color: black;}#sk-container-id-9 div.sk-estimator:hover label.sk-toggleable__label-arrow:before {color: black;}#sk-container-id-9 div.sk-toggleable__content {max-height: 0;max-width: 0;overflow: hidden;text-align: left;background-color: #f0f8ff;}#sk-container-id-9 div.sk-toggleable__content pre {margin: 0.2em;color: black;border-radius: 0.25em;background-color: #f0f8ff;}#sk-container-id-9 input.sk-toggleable__control:checked~div.sk-toggleable__content {max-height: 200px;max-width: 100%;overflow: auto;}#sk-container-id-9 input.sk-toggleable__control:checked~label.sk-toggleable__label-arrow:before {content: \"▾\";}#sk-container-id-9 div.sk-estimator input.sk-toggleable__control:checked~label.sk-toggleable__label {background-color: #d4ebff;}#sk-container-id-9 div.sk-label input.sk-toggleable__control:checked~label.sk-toggleable__label {background-color: #d4ebff;}#sk-container-id-9 input.sk-hidden--visually {border: 0;clip: rect(1px 1px 1px 1px);clip: rect(1px, 1px, 1px, 1px);height: 1px;margin: -1px;overflow: hidden;padding: 0;position: absolute;width: 1px;}#sk-container-id-9 div.sk-estimator {font-family: monospace;background-color: #f0f8ff;border: 1px dotted black;border-radius: 0.25em;box-sizing: border-box;margin-bottom: 0.5em;}#sk-container-id-9 div.sk-estimator:hover {background-color: #d4ebff;}#sk-container-id-9 div.sk-parallel-item::after {content: \"\";width: 100%;border-bottom: 1px solid gray;flex-grow: 1;}#sk-container-id-9 div.sk-label:hover label.sk-toggleable__label {background-color: #d4ebff;}#sk-container-id-9 div.sk-serial::before {content: \"\";position: absolute;border-left: 1px solid gray;box-sizing: border-box;top: 0;bottom: 0;left: 50%;z-index: 0;}#sk-container-id-9 div.sk-serial {display: flex;flex-direction: column;align-items: center;background-color: white;padding-right: 0.2em;padding-left: 0.2em;position: relative;}#sk-container-id-9 div.sk-item {position: relative;z-index: 1;}#sk-container-id-9 div.sk-parallel {display: flex;align-items: stretch;justify-content: center;background-color: white;position: relative;}#sk-container-id-9 div.sk-item::before, #sk-container-id-9 div.sk-parallel-item::before {content: \"\";position: absolute;border-left: 1px solid gray;box-sizing: border-box;top: 0;bottom: 0;left: 50%;z-index: -1;}#sk-container-id-9 div.sk-parallel-item {display: flex;flex-direction: column;z-index: 1;position: relative;background-color: white;}#sk-container-id-9 div.sk-parallel-item:first-child::after {align-self: flex-end;width: 50%;}#sk-container-id-9 div.sk-parallel-item:last-child::after {align-self: flex-start;width: 50%;}#sk-container-id-9 div.sk-parallel-item:only-child::after {width: 0;}#sk-container-id-9 div.sk-dashed-wrapped {border: 1px dashed gray;margin: 0 0.4em 0.5em 0.4em;box-sizing: border-box;padding-bottom: 0.4em;background-color: white;}#sk-container-id-9 div.sk-label label {font-family: monospace;font-weight: bold;display: inline-block;line-height: 1.2em;}#sk-container-id-9 div.sk-label-container {text-align: center;}#sk-container-id-9 div.sk-container {/* jupyter's `normalize.less` sets `[hidden] { display: none; }` but bootstrap.min.css set `[hidden] { display: none !important; }` so we also need the `!important` here to be able to override the default hidden behavior on the sphinx rendered scikit-learn.org. See: https://github.com/scikit-learn/scikit-learn/issues/21755 */display: inline-block !important;position: relative;}#sk-container-id-9 div.sk-text-repr-fallback {display: none;}</style><div id=\"sk-container-id-9\" class=\"sk-top-container\"><div class=\"sk-text-repr-fallback\"><pre>GridSearchCV(cv=10, estimator=SVC(kernel=&#x27;sigmoid&#x27;),\n",
       "             param_grid={&#x27;C&#x27;: [1, 10, 100, 1000], &#x27;coef0&#x27;: [0, 1, 2],\n",
       "                         &#x27;gamma&#x27;: [0.1, 1, &#x27;scale&#x27;, &#x27;auto&#x27;]},\n",
       "             refit=&#x27;accuracy&#x27;,\n",
       "             scoring={&#x27;accuracy&#x27;: &#x27;accuracy&#x27;,\n",
       "                      &#x27;weighted_f1&#x27;: make_scorer(f1_score, average=weighted, zero_division=0),\n",
       "                      &#x27;weighted_precision&#x27;: make_scorer(precision_score, average=weighted, zero_division=0),\n",
       "                      &#x27;weighted_recall&#x27;: make_scorer(recall_score, average=weighted, zero_division=0)})</pre><b>In a Jupyter environment, please rerun this cell to show the HTML representation or trust the notebook. <br />On GitHub, the HTML representation is unable to render, please try loading this page with nbviewer.org.</b></div><div class=\"sk-container\" hidden><div class=\"sk-item sk-dashed-wrapped\"><div class=\"sk-label-container\"><div class=\"sk-label sk-toggleable\"><input class=\"sk-toggleable__control sk-hidden--visually\" id=\"sk-estimator-id-26\" type=\"checkbox\" ><label for=\"sk-estimator-id-26\" class=\"sk-toggleable__label sk-toggleable__label-arrow\">GridSearchCV</label><div class=\"sk-toggleable__content\"><pre>GridSearchCV(cv=10, estimator=SVC(kernel=&#x27;sigmoid&#x27;),\n",
       "             param_grid={&#x27;C&#x27;: [1, 10, 100, 1000], &#x27;coef0&#x27;: [0, 1, 2],\n",
       "                         &#x27;gamma&#x27;: [0.1, 1, &#x27;scale&#x27;, &#x27;auto&#x27;]},\n",
       "             refit=&#x27;accuracy&#x27;,\n",
       "             scoring={&#x27;accuracy&#x27;: &#x27;accuracy&#x27;,\n",
       "                      &#x27;weighted_f1&#x27;: make_scorer(f1_score, average=weighted, zero_division=0),\n",
       "                      &#x27;weighted_precision&#x27;: make_scorer(precision_score, average=weighted, zero_division=0),\n",
       "                      &#x27;weighted_recall&#x27;: make_scorer(recall_score, average=weighted, zero_division=0)})</pre></div></div></div><div class=\"sk-parallel\"><div class=\"sk-parallel-item\"><div class=\"sk-item\"><div class=\"sk-label-container\"><div class=\"sk-label sk-toggleable\"><input class=\"sk-toggleable__control sk-hidden--visually\" id=\"sk-estimator-id-27\" type=\"checkbox\" ><label for=\"sk-estimator-id-27\" class=\"sk-toggleable__label sk-toggleable__label-arrow\">estimator: SVC</label><div class=\"sk-toggleable__content\"><pre>SVC(kernel=&#x27;sigmoid&#x27;)</pre></div></div></div><div class=\"sk-serial\"><div class=\"sk-item\"><div class=\"sk-estimator sk-toggleable\"><input class=\"sk-toggleable__control sk-hidden--visually\" id=\"sk-estimator-id-28\" type=\"checkbox\" ><label for=\"sk-estimator-id-28\" class=\"sk-toggleable__label sk-toggleable__label-arrow\">SVC</label><div class=\"sk-toggleable__content\"><pre>SVC(kernel=&#x27;sigmoid&#x27;)</pre></div></div></div></div></div></div></div></div></div></div>"
      ],
      "text/plain": [
       "GridSearchCV(cv=10, estimator=SVC(kernel='sigmoid'),\n",
       "             param_grid={'C': [1, 10, 100, 1000], 'coef0': [0, 1, 2],\n",
       "                         'gamma': [0.1, 1, 'scale', 'auto']},\n",
       "             refit='accuracy',\n",
       "             scoring={'accuracy': 'accuracy',\n",
       "                      'weighted_f1': make_scorer(f1_score, average=weighted, zero_division=0),\n",
       "                      'weighted_precision': make_scorer(precision_score, average=weighted, zero_division=0),\n",
       "                      'weighted_recall': make_scorer(recall_score, average=weighted, zero_division=0)})"
      ]
     },
     "execution_count": 33,
     "metadata": {},
     "output_type": "execute_result"
    }
   ],
   "source": [
    "grid_search.fit(features, target)"
   ]
  },
  {
   "cell_type": "code",
   "execution_count": 34,
   "id": "47ea88e2-cd83-47da-93e8-ce1c1d024f30",
   "metadata": {},
   "outputs": [
    {
     "name": "stdout",
     "output_type": "stream",
     "text": [
      "Best parameter for Sigmoid Kernel SVM = {'C': 10, 'coef0': 2, 'gamma': 'scale'}\n",
      "Best Accuracy Score for Sigmoid Kernel SVM = 0.5908974358974359\n",
      "Best Weighted Precision Score for Sigmoid Kernel SVM = 0.6887552836237048\n",
      "Best Weighted Recall Score for Sigmoid Kernel SVM = 0.5908974358974359\n",
      "Best Weighted F1 Score for Sigmoid Kernel SVM = 0.4885388932139062\n"
     ]
    }
   ],
   "source": [
    "best_params = grid_search.best_params_\n",
    "best_accuracy = grid_search.best_score_\n",
    "best_weighted_precision = grid_search.cv_results_['mean_test_weighted_precision'][grid_search.best_index_]\n",
    "best_weighted_recall = grid_search.cv_results_['mean_test_weighted_recall'][grid_search.best_index_]\n",
    "best_weighted_f1 = grid_search.cv_results_['mean_test_weighted_f1'][grid_search.best_index_]\n",
    "\n",
    "print(\"Best parameter for Sigmoid Kernel SVM =\", best_params)\n",
    "print(\"Best Accuracy Score for Sigmoid Kernel SVM =\", best_accuracy)\n",
    "print(\"Best Weighted Precision Score for Sigmoid Kernel SVM =\", best_weighted_precision)\n",
    "print(\"Best Weighted Recall Score for Sigmoid Kernel SVM =\", best_weighted_recall)\n",
    "print(\"Best Weighted F1 Score for Sigmoid Kernel SVM =\", best_weighted_f1)"
   ]
  },
  {
   "cell_type": "markdown",
   "id": "3cc2b01b-44b6-4c55-8d0c-8903d920afd4",
   "metadata": {},
   "source": [
    "### Polynomial Kernel SVM"
   ]
  },
  {
   "cell_type": "code",
   "execution_count": 4,
   "id": "938e3f03-b085-4a40-a710-5d3dfafc63f0",
   "metadata": {},
   "outputs": [],
   "source": [
    "from sklearn.model_selection import GridSearchCV\n",
    "from sklearn.svm import SVC\n",
    "from sklearn.metrics import make_scorer, accuracy_score, precision_score, recall_score, f1_score\n",
    "\n",
    "poly = SVC(kernel = 'poly', degree = 3)\n",
    "\n",
    "poly_param = {\n",
    "     'C': [1,10,100,1000], \n",
    "}\n",
    "\n",
    "scoring = {\n",
    "    'accuracy': 'accuracy',\n",
    "    'weighted_precision': make_scorer(precision_score, average='weighted', zero_division=0),\n",
    "    'weighted_recall': make_scorer(recall_score, average='weighted', zero_division=0),\n",
    "    'weighted_f1': make_scorer(f1_score, average='weighted', zero_division=0)\n",
    "}\n",
    "\n",
    "grid_search = GridSearchCV(poly, poly_param, cv=10, scoring=scoring, refit='accuracy')"
   ]
  },
  {
   "cell_type": "code",
   "execution_count": 5,
   "id": "0fc24891-e75a-4d4b-a326-bacb58b5b1a7",
   "metadata": {},
   "outputs": [
    {
     "data": {
      "text/html": [
       "<style>#sk-container-id-1 {color: black;background-color: white;}#sk-container-id-1 pre{padding: 0;}#sk-container-id-1 div.sk-toggleable {background-color: white;}#sk-container-id-1 label.sk-toggleable__label {cursor: pointer;display: block;width: 100%;margin-bottom: 0;padding: 0.3em;box-sizing: border-box;text-align: center;}#sk-container-id-1 label.sk-toggleable__label-arrow:before {content: \"▸\";float: left;margin-right: 0.25em;color: #696969;}#sk-container-id-1 label.sk-toggleable__label-arrow:hover:before {color: black;}#sk-container-id-1 div.sk-estimator:hover label.sk-toggleable__label-arrow:before {color: black;}#sk-container-id-1 div.sk-toggleable__content {max-height: 0;max-width: 0;overflow: hidden;text-align: left;background-color: #f0f8ff;}#sk-container-id-1 div.sk-toggleable__content pre {margin: 0.2em;color: black;border-radius: 0.25em;background-color: #f0f8ff;}#sk-container-id-1 input.sk-toggleable__control:checked~div.sk-toggleable__content {max-height: 200px;max-width: 100%;overflow: auto;}#sk-container-id-1 input.sk-toggleable__control:checked~label.sk-toggleable__label-arrow:before {content: \"▾\";}#sk-container-id-1 div.sk-estimator input.sk-toggleable__control:checked~label.sk-toggleable__label {background-color: #d4ebff;}#sk-container-id-1 div.sk-label input.sk-toggleable__control:checked~label.sk-toggleable__label {background-color: #d4ebff;}#sk-container-id-1 input.sk-hidden--visually {border: 0;clip: rect(1px 1px 1px 1px);clip: rect(1px, 1px, 1px, 1px);height: 1px;margin: -1px;overflow: hidden;padding: 0;position: absolute;width: 1px;}#sk-container-id-1 div.sk-estimator {font-family: monospace;background-color: #f0f8ff;border: 1px dotted black;border-radius: 0.25em;box-sizing: border-box;margin-bottom: 0.5em;}#sk-container-id-1 div.sk-estimator:hover {background-color: #d4ebff;}#sk-container-id-1 div.sk-parallel-item::after {content: \"\";width: 100%;border-bottom: 1px solid gray;flex-grow: 1;}#sk-container-id-1 div.sk-label:hover label.sk-toggleable__label {background-color: #d4ebff;}#sk-container-id-1 div.sk-serial::before {content: \"\";position: absolute;border-left: 1px solid gray;box-sizing: border-box;top: 0;bottom: 0;left: 50%;z-index: 0;}#sk-container-id-1 div.sk-serial {display: flex;flex-direction: column;align-items: center;background-color: white;padding-right: 0.2em;padding-left: 0.2em;position: relative;}#sk-container-id-1 div.sk-item {position: relative;z-index: 1;}#sk-container-id-1 div.sk-parallel {display: flex;align-items: stretch;justify-content: center;background-color: white;position: relative;}#sk-container-id-1 div.sk-item::before, #sk-container-id-1 div.sk-parallel-item::before {content: \"\";position: absolute;border-left: 1px solid gray;box-sizing: border-box;top: 0;bottom: 0;left: 50%;z-index: -1;}#sk-container-id-1 div.sk-parallel-item {display: flex;flex-direction: column;z-index: 1;position: relative;background-color: white;}#sk-container-id-1 div.sk-parallel-item:first-child::after {align-self: flex-end;width: 50%;}#sk-container-id-1 div.sk-parallel-item:last-child::after {align-self: flex-start;width: 50%;}#sk-container-id-1 div.sk-parallel-item:only-child::after {width: 0;}#sk-container-id-1 div.sk-dashed-wrapped {border: 1px dashed gray;margin: 0 0.4em 0.5em 0.4em;box-sizing: border-box;padding-bottom: 0.4em;background-color: white;}#sk-container-id-1 div.sk-label label {font-family: monospace;font-weight: bold;display: inline-block;line-height: 1.2em;}#sk-container-id-1 div.sk-label-container {text-align: center;}#sk-container-id-1 div.sk-container {/* jupyter's `normalize.less` sets `[hidden] { display: none; }` but bootstrap.min.css set `[hidden] { display: none !important; }` so we also need the `!important` here to be able to override the default hidden behavior on the sphinx rendered scikit-learn.org. See: https://github.com/scikit-learn/scikit-learn/issues/21755 */display: inline-block !important;position: relative;}#sk-container-id-1 div.sk-text-repr-fallback {display: none;}</style><div id=\"sk-container-id-1\" class=\"sk-top-container\"><div class=\"sk-text-repr-fallback\"><pre>GridSearchCV(cv=10, estimator=SVC(kernel=&#x27;poly&#x27;),\n",
       "             param_grid={&#x27;C&#x27;: [1, 10, 100, 1000]}, refit=&#x27;accuracy&#x27;,\n",
       "             scoring={&#x27;accuracy&#x27;: &#x27;accuracy&#x27;,\n",
       "                      &#x27;weighted_f1&#x27;: make_scorer(f1_score, average=weighted, zero_division=0),\n",
       "                      &#x27;weighted_precision&#x27;: make_scorer(precision_score, average=weighted, zero_division=0),\n",
       "                      &#x27;weighted_recall&#x27;: make_scorer(recall_score, average=weighted, zero_division=0)})</pre><b>In a Jupyter environment, please rerun this cell to show the HTML representation or trust the notebook. <br />On GitHub, the HTML representation is unable to render, please try loading this page with nbviewer.org.</b></div><div class=\"sk-container\" hidden><div class=\"sk-item sk-dashed-wrapped\"><div class=\"sk-label-container\"><div class=\"sk-label sk-toggleable\"><input class=\"sk-toggleable__control sk-hidden--visually\" id=\"sk-estimator-id-1\" type=\"checkbox\" ><label for=\"sk-estimator-id-1\" class=\"sk-toggleable__label sk-toggleable__label-arrow\">GridSearchCV</label><div class=\"sk-toggleable__content\"><pre>GridSearchCV(cv=10, estimator=SVC(kernel=&#x27;poly&#x27;),\n",
       "             param_grid={&#x27;C&#x27;: [1, 10, 100, 1000]}, refit=&#x27;accuracy&#x27;,\n",
       "             scoring={&#x27;accuracy&#x27;: &#x27;accuracy&#x27;,\n",
       "                      &#x27;weighted_f1&#x27;: make_scorer(f1_score, average=weighted, zero_division=0),\n",
       "                      &#x27;weighted_precision&#x27;: make_scorer(precision_score, average=weighted, zero_division=0),\n",
       "                      &#x27;weighted_recall&#x27;: make_scorer(recall_score, average=weighted, zero_division=0)})</pre></div></div></div><div class=\"sk-parallel\"><div class=\"sk-parallel-item\"><div class=\"sk-item\"><div class=\"sk-label-container\"><div class=\"sk-label sk-toggleable\"><input class=\"sk-toggleable__control sk-hidden--visually\" id=\"sk-estimator-id-2\" type=\"checkbox\" ><label for=\"sk-estimator-id-2\" class=\"sk-toggleable__label sk-toggleable__label-arrow\">estimator: SVC</label><div class=\"sk-toggleable__content\"><pre>SVC(kernel=&#x27;poly&#x27;)</pre></div></div></div><div class=\"sk-serial\"><div class=\"sk-item\"><div class=\"sk-estimator sk-toggleable\"><input class=\"sk-toggleable__control sk-hidden--visually\" id=\"sk-estimator-id-3\" type=\"checkbox\" ><label for=\"sk-estimator-id-3\" class=\"sk-toggleable__label sk-toggleable__label-arrow\">SVC</label><div class=\"sk-toggleable__content\"><pre>SVC(kernel=&#x27;poly&#x27;)</pre></div></div></div></div></div></div></div></div></div></div>"
      ],
      "text/plain": [
       "GridSearchCV(cv=10, estimator=SVC(kernel='poly'),\n",
       "             param_grid={'C': [1, 10, 100, 1000]}, refit='accuracy',\n",
       "             scoring={'accuracy': 'accuracy',\n",
       "                      'weighted_f1': make_scorer(f1_score, average=weighted, zero_division=0),\n",
       "                      'weighted_precision': make_scorer(precision_score, average=weighted, zero_division=0),\n",
       "                      'weighted_recall': make_scorer(recall_score, average=weighted, zero_division=0)})"
      ]
     },
     "execution_count": 5,
     "metadata": {},
     "output_type": "execute_result"
    }
   ],
   "source": [
    "grid_search.fit(features, target)"
   ]
  },
  {
   "cell_type": "code",
   "execution_count": 6,
   "id": "e0605229-759f-48cc-af74-6622e08df30f",
   "metadata": {
    "scrolled": true
   },
   "outputs": [
    {
     "name": "stdout",
     "output_type": "stream",
     "text": [
      "Best parameter for Polynomial Kernel SVM = {'C': 10}\n",
      "Best Accuracy Score for Polynomial Kernel SVM = 0.6471794871794871\n",
      "Best Weighted Precision Score for Polynomial Kernel SVM = 0.6554194134912836\n",
      "Best Weighted Recall Score for Polynomial Kernel SVM = 0.6471794871794871\n",
      "Best Weighted F1 Score for Polynomial Kernel SVM = 0.6442918824777149\n"
     ]
    }
   ],
   "source": [
    "best_params = grid_search.best_params_\n",
    "best_accuracy = grid_search.best_score_\n",
    "best_weighted_precision = grid_search.cv_results_['mean_test_weighted_precision'][grid_search.best_index_]\n",
    "best_weighted_recall = grid_search.cv_results_['mean_test_weighted_recall'][grid_search.best_index_]\n",
    "best_weighted_f1 = grid_search.cv_results_['mean_test_weighted_f1'][grid_search.best_index_]\n",
    "\n",
    "print(\"Best parameter for Polynomial Kernel SVM =\", best_params)\n",
    "print(\"Best Accuracy Score for Polynomial Kernel SVM =\", best_accuracy)\n",
    "print(\"Best Weighted Precision Score for Polynomial Kernel SVM =\", best_weighted_precision)\n",
    "print(\"Best Weighted Recall Score for Polynomial Kernel SVM =\", best_weighted_recall)\n",
    "print(\"Best Weighted F1 Score for Polynomial Kernel SVM =\", best_weighted_f1)"
   ]
  },
  {
   "cell_type": "code",
   "execution_count": 7,
   "id": "122f9b03-6b6e-47e3-8b18-d0bd1fed7c7c",
   "metadata": {},
   "outputs": [],
   "source": [
    "from sklearn.model_selection import GridSearchCV\n",
    "from sklearn.svm import SVC\n",
    "from sklearn.metrics import make_scorer, accuracy_score, precision_score, recall_score, f1_score\n",
    "\n",
    "poly = SVC(kernel = 'poly', degree = 3, C = 10)\n",
    "\n",
    "poly_param = {\n",
    "     'coef0': [0, 1, 2]  \n",
    "}\n",
    "\n",
    "scoring = {\n",
    "    'accuracy': 'accuracy',\n",
    "    'weighted_precision': make_scorer(precision_score, average='weighted', zero_division=0),\n",
    "    'weighted_recall': make_scorer(recall_score, average='weighted', zero_division=0),\n",
    "    'weighted_f1': make_scorer(f1_score, average='weighted', zero_division=0)\n",
    "}\n",
    "\n",
    "grid_search = GridSearchCV(poly, poly_param, cv=10, scoring=scoring, refit='accuracy')"
   ]
  },
  {
   "cell_type": "code",
   "execution_count": 8,
   "id": "fa280931-2482-44d8-813e-9ff4a6a0f820",
   "metadata": {},
   "outputs": [
    {
     "data": {
      "text/html": [
       "<style>#sk-container-id-2 {color: black;background-color: white;}#sk-container-id-2 pre{padding: 0;}#sk-container-id-2 div.sk-toggleable {background-color: white;}#sk-container-id-2 label.sk-toggleable__label {cursor: pointer;display: block;width: 100%;margin-bottom: 0;padding: 0.3em;box-sizing: border-box;text-align: center;}#sk-container-id-2 label.sk-toggleable__label-arrow:before {content: \"▸\";float: left;margin-right: 0.25em;color: #696969;}#sk-container-id-2 label.sk-toggleable__label-arrow:hover:before {color: black;}#sk-container-id-2 div.sk-estimator:hover label.sk-toggleable__label-arrow:before {color: black;}#sk-container-id-2 div.sk-toggleable__content {max-height: 0;max-width: 0;overflow: hidden;text-align: left;background-color: #f0f8ff;}#sk-container-id-2 div.sk-toggleable__content pre {margin: 0.2em;color: black;border-radius: 0.25em;background-color: #f0f8ff;}#sk-container-id-2 input.sk-toggleable__control:checked~div.sk-toggleable__content {max-height: 200px;max-width: 100%;overflow: auto;}#sk-container-id-2 input.sk-toggleable__control:checked~label.sk-toggleable__label-arrow:before {content: \"▾\";}#sk-container-id-2 div.sk-estimator input.sk-toggleable__control:checked~label.sk-toggleable__label {background-color: #d4ebff;}#sk-container-id-2 div.sk-label input.sk-toggleable__control:checked~label.sk-toggleable__label {background-color: #d4ebff;}#sk-container-id-2 input.sk-hidden--visually {border: 0;clip: rect(1px 1px 1px 1px);clip: rect(1px, 1px, 1px, 1px);height: 1px;margin: -1px;overflow: hidden;padding: 0;position: absolute;width: 1px;}#sk-container-id-2 div.sk-estimator {font-family: monospace;background-color: #f0f8ff;border: 1px dotted black;border-radius: 0.25em;box-sizing: border-box;margin-bottom: 0.5em;}#sk-container-id-2 div.sk-estimator:hover {background-color: #d4ebff;}#sk-container-id-2 div.sk-parallel-item::after {content: \"\";width: 100%;border-bottom: 1px solid gray;flex-grow: 1;}#sk-container-id-2 div.sk-label:hover label.sk-toggleable__label {background-color: #d4ebff;}#sk-container-id-2 div.sk-serial::before {content: \"\";position: absolute;border-left: 1px solid gray;box-sizing: border-box;top: 0;bottom: 0;left: 50%;z-index: 0;}#sk-container-id-2 div.sk-serial {display: flex;flex-direction: column;align-items: center;background-color: white;padding-right: 0.2em;padding-left: 0.2em;position: relative;}#sk-container-id-2 div.sk-item {position: relative;z-index: 1;}#sk-container-id-2 div.sk-parallel {display: flex;align-items: stretch;justify-content: center;background-color: white;position: relative;}#sk-container-id-2 div.sk-item::before, #sk-container-id-2 div.sk-parallel-item::before {content: \"\";position: absolute;border-left: 1px solid gray;box-sizing: border-box;top: 0;bottom: 0;left: 50%;z-index: -1;}#sk-container-id-2 div.sk-parallel-item {display: flex;flex-direction: column;z-index: 1;position: relative;background-color: white;}#sk-container-id-2 div.sk-parallel-item:first-child::after {align-self: flex-end;width: 50%;}#sk-container-id-2 div.sk-parallel-item:last-child::after {align-self: flex-start;width: 50%;}#sk-container-id-2 div.sk-parallel-item:only-child::after {width: 0;}#sk-container-id-2 div.sk-dashed-wrapped {border: 1px dashed gray;margin: 0 0.4em 0.5em 0.4em;box-sizing: border-box;padding-bottom: 0.4em;background-color: white;}#sk-container-id-2 div.sk-label label {font-family: monospace;font-weight: bold;display: inline-block;line-height: 1.2em;}#sk-container-id-2 div.sk-label-container {text-align: center;}#sk-container-id-2 div.sk-container {/* jupyter's `normalize.less` sets `[hidden] { display: none; }` but bootstrap.min.css set `[hidden] { display: none !important; }` so we also need the `!important` here to be able to override the default hidden behavior on the sphinx rendered scikit-learn.org. See: https://github.com/scikit-learn/scikit-learn/issues/21755 */display: inline-block !important;position: relative;}#sk-container-id-2 div.sk-text-repr-fallback {display: none;}</style><div id=\"sk-container-id-2\" class=\"sk-top-container\"><div class=\"sk-text-repr-fallback\"><pre>GridSearchCV(cv=10, estimator=SVC(C=10, kernel=&#x27;poly&#x27;),\n",
       "             param_grid={&#x27;coef0&#x27;: [0, 1, 2]}, refit=&#x27;accuracy&#x27;,\n",
       "             scoring={&#x27;accuracy&#x27;: &#x27;accuracy&#x27;,\n",
       "                      &#x27;weighted_f1&#x27;: make_scorer(f1_score, average=weighted, zero_division=0),\n",
       "                      &#x27;weighted_precision&#x27;: make_scorer(precision_score, average=weighted, zero_division=0),\n",
       "                      &#x27;weighted_recall&#x27;: make_scorer(recall_score, average=weighted, zero_division=0)})</pre><b>In a Jupyter environment, please rerun this cell to show the HTML representation or trust the notebook. <br />On GitHub, the HTML representation is unable to render, please try loading this page with nbviewer.org.</b></div><div class=\"sk-container\" hidden><div class=\"sk-item sk-dashed-wrapped\"><div class=\"sk-label-container\"><div class=\"sk-label sk-toggleable\"><input class=\"sk-toggleable__control sk-hidden--visually\" id=\"sk-estimator-id-4\" type=\"checkbox\" ><label for=\"sk-estimator-id-4\" class=\"sk-toggleable__label sk-toggleable__label-arrow\">GridSearchCV</label><div class=\"sk-toggleable__content\"><pre>GridSearchCV(cv=10, estimator=SVC(C=10, kernel=&#x27;poly&#x27;),\n",
       "             param_grid={&#x27;coef0&#x27;: [0, 1, 2]}, refit=&#x27;accuracy&#x27;,\n",
       "             scoring={&#x27;accuracy&#x27;: &#x27;accuracy&#x27;,\n",
       "                      &#x27;weighted_f1&#x27;: make_scorer(f1_score, average=weighted, zero_division=0),\n",
       "                      &#x27;weighted_precision&#x27;: make_scorer(precision_score, average=weighted, zero_division=0),\n",
       "                      &#x27;weighted_recall&#x27;: make_scorer(recall_score, average=weighted, zero_division=0)})</pre></div></div></div><div class=\"sk-parallel\"><div class=\"sk-parallel-item\"><div class=\"sk-item\"><div class=\"sk-label-container\"><div class=\"sk-label sk-toggleable\"><input class=\"sk-toggleable__control sk-hidden--visually\" id=\"sk-estimator-id-5\" type=\"checkbox\" ><label for=\"sk-estimator-id-5\" class=\"sk-toggleable__label sk-toggleable__label-arrow\">estimator: SVC</label><div class=\"sk-toggleable__content\"><pre>SVC(C=10, kernel=&#x27;poly&#x27;)</pre></div></div></div><div class=\"sk-serial\"><div class=\"sk-item\"><div class=\"sk-estimator sk-toggleable\"><input class=\"sk-toggleable__control sk-hidden--visually\" id=\"sk-estimator-id-6\" type=\"checkbox\" ><label for=\"sk-estimator-id-6\" class=\"sk-toggleable__label sk-toggleable__label-arrow\">SVC</label><div class=\"sk-toggleable__content\"><pre>SVC(C=10, kernel=&#x27;poly&#x27;)</pre></div></div></div></div></div></div></div></div></div></div>"
      ],
      "text/plain": [
       "GridSearchCV(cv=10, estimator=SVC(C=10, kernel='poly'),\n",
       "             param_grid={'coef0': [0, 1, 2]}, refit='accuracy',\n",
       "             scoring={'accuracy': 'accuracy',\n",
       "                      'weighted_f1': make_scorer(f1_score, average=weighted, zero_division=0),\n",
       "                      'weighted_precision': make_scorer(precision_score, average=weighted, zero_division=0),\n",
       "                      'weighted_recall': make_scorer(recall_score, average=weighted, zero_division=0)})"
      ]
     },
     "execution_count": 8,
     "metadata": {},
     "output_type": "execute_result"
    }
   ],
   "source": [
    "grid_search.fit(features, target)"
   ]
  },
  {
   "cell_type": "code",
   "execution_count": 9,
   "id": "f2af1f0b-cdd5-4004-b39b-c7ec694f8410",
   "metadata": {},
   "outputs": [
    {
     "name": "stdout",
     "output_type": "stream",
     "text": [
      "Best parameter for Polynomial Kernel SVM = {'coef0': 0}\n",
      "Best Accuracy Score for Polynomial Kernel SVM = 0.6471794871794871\n",
      "Best Weighted Precision Score for Polynomial Kernel SVM = 0.6554194134912836\n",
      "Best Weighted Recall Score for Polynomial Kernel SVM = 0.6471794871794871\n",
      "Best Weighted F1 Score for Polynomial Kernel SVM = 0.6442918824777149\n"
     ]
    }
   ],
   "source": [
    "best_params = grid_search.best_params_\n",
    "best_accuracy = grid_search.best_score_\n",
    "best_weighted_precision = grid_search.cv_results_['mean_test_weighted_precision'][grid_search.best_index_]\n",
    "best_weighted_recall = grid_search.cv_results_['mean_test_weighted_recall'][grid_search.best_index_]\n",
    "best_weighted_f1 = grid_search.cv_results_['mean_test_weighted_f1'][grid_search.best_index_]\n",
    "\n",
    "print(\"Best parameter for Polynomial Kernel SVM =\", best_params)\n",
    "print(\"Best Accuracy Score for Polynomial Kernel SVM =\", best_accuracy)\n",
    "print(\"Best Weighted Precision Score for Polynomial Kernel SVM =\", best_weighted_precision)\n",
    "print(\"Best Weighted Recall Score for Polynomial Kernel SVM =\", best_weighted_recall)\n",
    "print(\"Best Weighted F1 Score for Polynomial Kernel SVM =\", best_weighted_f1)"
   ]
  },
  {
   "cell_type": "code",
   "execution_count": 10,
   "id": "5977c5b6-28d5-438b-8e60-1b980d69a4c1",
   "metadata": {},
   "outputs": [],
   "source": [
    "from sklearn.model_selection import GridSearchCV\n",
    "from sklearn.svm import SVC\n",
    "from sklearn.metrics import make_scorer, accuracy_score, precision_score, recall_score, f1_score\n",
    "\n",
    "poly = SVC(kernel = 'poly', degree = 3, C = 10, coef0 = 0)\n",
    "\n",
    "poly_param = {\n",
    "    'degree': [1, 2, 3, 4]\n",
    "}\n",
    "\n",
    "scoring = {\n",
    "    'accuracy': 'accuracy',\n",
    "    'weighted_precision': make_scorer(precision_score, average='weighted', zero_division=0),\n",
    "    'weighted_recall': make_scorer(recall_score, average='weighted', zero_division=0),\n",
    "    'weighted_f1': make_scorer(f1_score, average='weighted', zero_division=0)\n",
    "}\n",
    "\n",
    "grid_search = GridSearchCV(poly, poly_param, cv=10, scoring=scoring, refit='accuracy')"
   ]
  },
  {
   "cell_type": "code",
   "execution_count": 11,
   "id": "db54450a-c281-4ed5-ad0c-4f2589a1cf19",
   "metadata": {},
   "outputs": [
    {
     "data": {
      "text/html": [
       "<style>#sk-container-id-3 {color: black;background-color: white;}#sk-container-id-3 pre{padding: 0;}#sk-container-id-3 div.sk-toggleable {background-color: white;}#sk-container-id-3 label.sk-toggleable__label {cursor: pointer;display: block;width: 100%;margin-bottom: 0;padding: 0.3em;box-sizing: border-box;text-align: center;}#sk-container-id-3 label.sk-toggleable__label-arrow:before {content: \"▸\";float: left;margin-right: 0.25em;color: #696969;}#sk-container-id-3 label.sk-toggleable__label-arrow:hover:before {color: black;}#sk-container-id-3 div.sk-estimator:hover label.sk-toggleable__label-arrow:before {color: black;}#sk-container-id-3 div.sk-toggleable__content {max-height: 0;max-width: 0;overflow: hidden;text-align: left;background-color: #f0f8ff;}#sk-container-id-3 div.sk-toggleable__content pre {margin: 0.2em;color: black;border-radius: 0.25em;background-color: #f0f8ff;}#sk-container-id-3 input.sk-toggleable__control:checked~div.sk-toggleable__content {max-height: 200px;max-width: 100%;overflow: auto;}#sk-container-id-3 input.sk-toggleable__control:checked~label.sk-toggleable__label-arrow:before {content: \"▾\";}#sk-container-id-3 div.sk-estimator input.sk-toggleable__control:checked~label.sk-toggleable__label {background-color: #d4ebff;}#sk-container-id-3 div.sk-label input.sk-toggleable__control:checked~label.sk-toggleable__label {background-color: #d4ebff;}#sk-container-id-3 input.sk-hidden--visually {border: 0;clip: rect(1px 1px 1px 1px);clip: rect(1px, 1px, 1px, 1px);height: 1px;margin: -1px;overflow: hidden;padding: 0;position: absolute;width: 1px;}#sk-container-id-3 div.sk-estimator {font-family: monospace;background-color: #f0f8ff;border: 1px dotted black;border-radius: 0.25em;box-sizing: border-box;margin-bottom: 0.5em;}#sk-container-id-3 div.sk-estimator:hover {background-color: #d4ebff;}#sk-container-id-3 div.sk-parallel-item::after {content: \"\";width: 100%;border-bottom: 1px solid gray;flex-grow: 1;}#sk-container-id-3 div.sk-label:hover label.sk-toggleable__label {background-color: #d4ebff;}#sk-container-id-3 div.sk-serial::before {content: \"\";position: absolute;border-left: 1px solid gray;box-sizing: border-box;top: 0;bottom: 0;left: 50%;z-index: 0;}#sk-container-id-3 div.sk-serial {display: flex;flex-direction: column;align-items: center;background-color: white;padding-right: 0.2em;padding-left: 0.2em;position: relative;}#sk-container-id-3 div.sk-item {position: relative;z-index: 1;}#sk-container-id-3 div.sk-parallel {display: flex;align-items: stretch;justify-content: center;background-color: white;position: relative;}#sk-container-id-3 div.sk-item::before, #sk-container-id-3 div.sk-parallel-item::before {content: \"\";position: absolute;border-left: 1px solid gray;box-sizing: border-box;top: 0;bottom: 0;left: 50%;z-index: -1;}#sk-container-id-3 div.sk-parallel-item {display: flex;flex-direction: column;z-index: 1;position: relative;background-color: white;}#sk-container-id-3 div.sk-parallel-item:first-child::after {align-self: flex-end;width: 50%;}#sk-container-id-3 div.sk-parallel-item:last-child::after {align-self: flex-start;width: 50%;}#sk-container-id-3 div.sk-parallel-item:only-child::after {width: 0;}#sk-container-id-3 div.sk-dashed-wrapped {border: 1px dashed gray;margin: 0 0.4em 0.5em 0.4em;box-sizing: border-box;padding-bottom: 0.4em;background-color: white;}#sk-container-id-3 div.sk-label label {font-family: monospace;font-weight: bold;display: inline-block;line-height: 1.2em;}#sk-container-id-3 div.sk-label-container {text-align: center;}#sk-container-id-3 div.sk-container {/* jupyter's `normalize.less` sets `[hidden] { display: none; }` but bootstrap.min.css set `[hidden] { display: none !important; }` so we also need the `!important` here to be able to override the default hidden behavior on the sphinx rendered scikit-learn.org. See: https://github.com/scikit-learn/scikit-learn/issues/21755 */display: inline-block !important;position: relative;}#sk-container-id-3 div.sk-text-repr-fallback {display: none;}</style><div id=\"sk-container-id-3\" class=\"sk-top-container\"><div class=\"sk-text-repr-fallback\"><pre>GridSearchCV(cv=10, estimator=SVC(C=10, coef0=0, kernel=&#x27;poly&#x27;),\n",
       "             param_grid={&#x27;degree&#x27;: [1, 2, 3, 4]}, refit=&#x27;accuracy&#x27;,\n",
       "             scoring={&#x27;accuracy&#x27;: &#x27;accuracy&#x27;,\n",
       "                      &#x27;weighted_f1&#x27;: make_scorer(f1_score, average=weighted, zero_division=0),\n",
       "                      &#x27;weighted_precision&#x27;: make_scorer(precision_score, average=weighted, zero_division=0),\n",
       "                      &#x27;weighted_recall&#x27;: make_scorer(recall_score, average=weighted, zero_division=0)})</pre><b>In a Jupyter environment, please rerun this cell to show the HTML representation or trust the notebook. <br />On GitHub, the HTML representation is unable to render, please try loading this page with nbviewer.org.</b></div><div class=\"sk-container\" hidden><div class=\"sk-item sk-dashed-wrapped\"><div class=\"sk-label-container\"><div class=\"sk-label sk-toggleable\"><input class=\"sk-toggleable__control sk-hidden--visually\" id=\"sk-estimator-id-7\" type=\"checkbox\" ><label for=\"sk-estimator-id-7\" class=\"sk-toggleable__label sk-toggleable__label-arrow\">GridSearchCV</label><div class=\"sk-toggleable__content\"><pre>GridSearchCV(cv=10, estimator=SVC(C=10, coef0=0, kernel=&#x27;poly&#x27;),\n",
       "             param_grid={&#x27;degree&#x27;: [1, 2, 3, 4]}, refit=&#x27;accuracy&#x27;,\n",
       "             scoring={&#x27;accuracy&#x27;: &#x27;accuracy&#x27;,\n",
       "                      &#x27;weighted_f1&#x27;: make_scorer(f1_score, average=weighted, zero_division=0),\n",
       "                      &#x27;weighted_precision&#x27;: make_scorer(precision_score, average=weighted, zero_division=0),\n",
       "                      &#x27;weighted_recall&#x27;: make_scorer(recall_score, average=weighted, zero_division=0)})</pre></div></div></div><div class=\"sk-parallel\"><div class=\"sk-parallel-item\"><div class=\"sk-item\"><div class=\"sk-label-container\"><div class=\"sk-label sk-toggleable\"><input class=\"sk-toggleable__control sk-hidden--visually\" id=\"sk-estimator-id-8\" type=\"checkbox\" ><label for=\"sk-estimator-id-8\" class=\"sk-toggleable__label sk-toggleable__label-arrow\">estimator: SVC</label><div class=\"sk-toggleable__content\"><pre>SVC(C=10, coef0=0, kernel=&#x27;poly&#x27;)</pre></div></div></div><div class=\"sk-serial\"><div class=\"sk-item\"><div class=\"sk-estimator sk-toggleable\"><input class=\"sk-toggleable__control sk-hidden--visually\" id=\"sk-estimator-id-9\" type=\"checkbox\" ><label for=\"sk-estimator-id-9\" class=\"sk-toggleable__label sk-toggleable__label-arrow\">SVC</label><div class=\"sk-toggleable__content\"><pre>SVC(C=10, coef0=0, kernel=&#x27;poly&#x27;)</pre></div></div></div></div></div></div></div></div></div></div>"
      ],
      "text/plain": [
       "GridSearchCV(cv=10, estimator=SVC(C=10, coef0=0, kernel='poly'),\n",
       "             param_grid={'degree': [1, 2, 3, 4]}, refit='accuracy',\n",
       "             scoring={'accuracy': 'accuracy',\n",
       "                      'weighted_f1': make_scorer(f1_score, average=weighted, zero_division=0),\n",
       "                      'weighted_precision': make_scorer(precision_score, average=weighted, zero_division=0),\n",
       "                      'weighted_recall': make_scorer(recall_score, average=weighted, zero_division=0)})"
      ]
     },
     "execution_count": 11,
     "metadata": {},
     "output_type": "execute_result"
    }
   ],
   "source": [
    "grid_search.fit(features, target)"
   ]
  },
  {
   "cell_type": "code",
   "execution_count": 12,
   "id": "62de5f21-fcd7-47ed-9a5c-8372f30fee93",
   "metadata": {
    "scrolled": true
   },
   "outputs": [
    {
     "name": "stdout",
     "output_type": "stream",
     "text": [
      "Best parameter for Polynomial Kernel SVM = {'degree': 3}\n",
      "Best Accuracy Score for Polynomial Kernel SVM = 0.6471794871794871\n",
      "Best Weighted Precision Score for Polynomial Kernel SVM = 0.6554194134912836\n",
      "Best Weighted Recall Score for Polynomial Kernel SVM = 0.6471794871794871\n",
      "Best Weighted F1 Score for Polynomial Kernel SVM = 0.6442918824777149\n"
     ]
    }
   ],
   "source": [
    "best_params = grid_search.best_params_\n",
    "best_accuracy = grid_search.best_score_\n",
    "best_weighted_precision = grid_search.cv_results_['mean_test_weighted_precision'][grid_search.best_index_]\n",
    "best_weighted_recall = grid_search.cv_results_['mean_test_weighted_recall'][grid_search.best_index_]\n",
    "best_weighted_f1 = grid_search.cv_results_['mean_test_weighted_f1'][grid_search.best_index_]\n",
    "\n",
    "print(\"Best parameter for Polynomial Kernel SVM =\", best_params)\n",
    "print(\"Best Accuracy Score for Polynomial Kernel SVM =\", best_accuracy)\n",
    "print(\"Best Weighted Precision Score for Polynomial Kernel SVM =\", best_weighted_precision)\n",
    "print(\"Best Weighted Recall Score for Polynomial Kernel SVM =\", best_weighted_recall)\n",
    "print(\"Best Weighted F1 Score for Polynomial Kernel SVM =\", best_weighted_f1)"
   ]
  },
  {
   "cell_type": "markdown",
   "id": "fe2b871e-c584-4889-8e97-027e6f03adf2",
   "metadata": {},
   "source": [
    "#### Manually search for best gamma value rather than using GridSearch as it takes longer time"
   ]
  },
  {
   "cell_type": "markdown",
   "id": "b9d6c202-5159-44e2-a7f0-8cf6ae1a9eba",
   "metadata": {},
   "source": [
    "##### Gamma = 0.1"
   ]
  },
  {
   "cell_type": "code",
   "execution_count": 4,
   "id": "67ca2476-2cc3-484d-a1a3-48eb5d47273e",
   "metadata": {},
   "outputs": [],
   "source": [
    "from sklearn.svm import SVC\n",
    "from sklearn.model_selection import cross_val_predict\n",
    "\n",
    "poly = SVC(kernel = 'poly', C = 10, coef0 = 0, degree = 3, gamma = 0.1)\n",
    "\n",
    "# Perform cross-validation and get predictions for each fold\n",
    "poly_val_predictions = cross_val_predict(poly, features, target, cv=10)"
   ]
  },
  {
   "cell_type": "code",
   "execution_count": 5,
   "id": "ac8d14b0-1a2b-4238-aa6e-9fb38e405cec",
   "metadata": {},
   "outputs": [
    {
     "name": "stdout",
     "output_type": "stream",
     "text": [
      "Validation Accuracy for Polynomial Kernel SVM = 0.5703324808184144\n",
      "Validation Precision (Weighted Avg) for Polynomial Kernel SVM = 0.5713831011367901\n",
      "Validation Recall (Weighted Avg) for Polynomial Kernel SVM = 0.5703324808184144\n",
      "Validation F1 (Weighted Avg) for Polynomial Kernel SVM = 0.5707985223074736\n"
     ]
    }
   ],
   "source": [
    "from sklearn.metrics import accuracy_score, precision_score, recall_score, f1_score\n",
    "accuracy = accuracy_score(target, poly_val_predictions)\n",
    "precision_weighted = precision_score(target, poly_val_predictions, average='weighted')\n",
    "recall_weighted = recall_score(target, poly_val_predictions, average='weighted')\n",
    "f1_weighted = f1_score(target, poly_val_predictions, average='weighted')\n",
    "\n",
    "# Print the weighted average evaluation metrics\n",
    "print('Validation Accuracy for Polynomial Kernel SVM =', accuracy)\n",
    "print('Validation Precision (Weighted Avg) for Polynomial Kernel SVM =', precision_weighted)\n",
    "print('Validation Recall (Weighted Avg) for Polynomial Kernel SVM =', recall_weighted)\n",
    "print('Validation F1 (Weighted Avg) for Polynomial Kernel SVM =', f1_weighted)"
   ]
  },
  {
   "cell_type": "markdown",
   "id": "65bc178c-3552-475a-9d0b-51b8e42f4527",
   "metadata": {},
   "source": [
    "##### Gamma = 1"
   ]
  },
  {
   "cell_type": "code",
   "execution_count": 4,
   "id": "cb229e2f-1da6-43f2-9756-8b8f94314e1e",
   "metadata": {},
   "outputs": [],
   "source": [
    "from sklearn.svm import SVC\n",
    "from sklearn.model_selection import cross_val_predict\n",
    "\n",
    "poly = SVC(kernel = 'poly', C = 10, coef0 = 0, degree = 3, gamma = 1)\n",
    "\n",
    "# Perform cross-validation and get predictions for each fold\n",
    "poly_val_predictions = cross_val_predict(poly, features, target, cv=10)"
   ]
  },
  {
   "cell_type": "code",
   "execution_count": 5,
   "id": "29a58845-28c4-4b53-a9e6-d04e924cefe6",
   "metadata": {},
   "outputs": [
    {
     "name": "stdout",
     "output_type": "stream",
     "text": [
      "Validation Accuracy for Polynomial Kernel SVM = 0.5447570332480819\n",
      "Validation Precision (Weighted Avg) for Polynomial Kernel SVM = 0.5469882404078614\n",
      "Validation Recall (Weighted Avg) for Polynomial Kernel SVM = 0.5447570332480819\n",
      "Validation F1 (Weighted Avg) for Polynomial Kernel SVM = 0.5456464144070564\n"
     ]
    }
   ],
   "source": [
    "from sklearn.metrics import accuracy_score, precision_score, recall_score, f1_score\n",
    "accuracy = accuracy_score(target, poly_val_predictions)\n",
    "precision_weighted = precision_score(target, poly_val_predictions, average='weighted')\n",
    "recall_weighted = recall_score(target, poly_val_predictions, average='weighted')\n",
    "f1_weighted = f1_score(target, poly_val_predictions, average='weighted')\n",
    "\n",
    "# Print the weighted average evaluation metrics\n",
    "print('Validation Accuracy for Polynomial Kernel SVM =', accuracy)\n",
    "print('Validation Precision (Weighted Avg) for Polynomial Kernel SVM =', precision_weighted)\n",
    "print('Validation Recall (Weighted Avg) for Polynomial Kernel SVM =', recall_weighted)\n",
    "print('Validation F1 (Weighted Avg) for Polynomial Kernel SVM =', f1_weighted)"
   ]
  },
  {
   "cell_type": "markdown",
   "id": "5941d9db-9132-4539-b40a-5e0abce2f006",
   "metadata": {},
   "source": [
    "##### Gamma = scale (default value)"
   ]
  },
  {
   "cell_type": "code",
   "execution_count": 6,
   "id": "8e95b63b-6101-4c11-ad48-3bbd0c06e4fd",
   "metadata": {},
   "outputs": [],
   "source": [
    "from sklearn.svm import SVC\n",
    "from sklearn.model_selection import cross_val_predict\n",
    "\n",
    "poly = SVC(kernel = 'poly', C = 10, coef0 = 0, degree = 3, gamma = 'scale')\n",
    "\n",
    "# Perform cross-validation and get predictions for each fold\n",
    "poly_val_predictions = cross_val_predict(poly, features, target, cv=10)"
   ]
  },
  {
   "cell_type": "code",
   "execution_count": 7,
   "id": "3539d5f6-1b64-431d-952f-2e91450c28a4",
   "metadata": {},
   "outputs": [
    {
     "name": "stdout",
     "output_type": "stream",
     "text": [
      "Validation Accuracy for Polynomial Kernel SVM = 0.6470588235294118\n",
      "Validation Precision (Weighted Avg) for Polynomial Kernel SVM = 0.6479595481468368\n",
      "Validation Recall (Weighted Avg) for Polynomial Kernel SVM = 0.6470588235294118\n",
      "Validation F1 (Weighted Avg) for Polynomial Kernel SVM = 0.6474416433239962\n"
     ]
    }
   ],
   "source": [
    "from sklearn.metrics import accuracy_score, precision_score, recall_score, f1_score\n",
    "accuracy = accuracy_score(target, poly_val_predictions)\n",
    "precision_weighted = precision_score(target, poly_val_predictions, average='weighted')\n",
    "recall_weighted = recall_score(target, poly_val_predictions, average='weighted')\n",
    "f1_weighted = f1_score(target, poly_val_predictions, average='weighted')\n",
    "\n",
    "# Print the weighted average evaluation metrics\n",
    "print('Validation Accuracy for Polynomial Kernel SVM =', accuracy)\n",
    "print('Validation Precision (Weighted Avg) for Polynomial Kernel SVM =', precision_weighted)\n",
    "print('Validation Recall (Weighted Avg) for Polynomial Kernel SVM =', recall_weighted)\n",
    "print('Validation F1 (Weighted Avg) for Polynomial Kernel SVM =', f1_weighted)"
   ]
  },
  {
   "cell_type": "markdown",
   "id": "d0502a9e-ff3e-4925-a74a-fa965d43544a",
   "metadata": {},
   "source": [
    "##### Gamma = auto"
   ]
  },
  {
   "cell_type": "code",
   "execution_count": 8,
   "id": "7f1a36d0-3f50-4d24-9337-738e3980138b",
   "metadata": {},
   "outputs": [],
   "source": [
    "from sklearn.svm import SVC\n",
    "from sklearn.model_selection import cross_val_predict\n",
    "\n",
    "poly = SVC(kernel = 'poly', C = 10, coef0 = 0, degree = 3, gamma = 'auto')\n",
    "\n",
    "# Perform cross-validation and get predictions for each fold\n",
    "poly_val_predictions = cross_val_predict(poly, features, target, cv=10)"
   ]
  },
  {
   "cell_type": "code",
   "execution_count": 9,
   "id": "784eb389-0d39-46d4-870b-ba506cb83aba",
   "metadata": {},
   "outputs": [
    {
     "name": "stdout",
     "output_type": "stream",
     "text": [
      "Validation Accuracy for Polynomial Kernel SVM = 0.5652173913043478\n",
      "Validation Precision (Weighted Avg) for Polynomial Kernel SVM = 0.5668259998808438\n",
      "Validation Recall (Weighted Avg) for Polynomial Kernel SVM = 0.5652173913043478\n",
      "Validation F1 (Weighted Avg) for Polynomial Kernel SVM = 0.5658895578637742\n"
     ]
    }
   ],
   "source": [
    "from sklearn.metrics import accuracy_score, precision_score, recall_score, f1_score\n",
    "accuracy = accuracy_score(target, poly_val_predictions)\n",
    "precision_weighted = precision_score(target, poly_val_predictions, average='weighted')\n",
    "recall_weighted = recall_score(target, poly_val_predictions, average='weighted')\n",
    "f1_weighted = f1_score(target, poly_val_predictions, average='weighted')\n",
    "\n",
    "# Print the weighted average evaluation metrics\n",
    "print('Validation Accuracy for Polynomial Kernel SVM =', accuracy)\n",
    "print('Validation Precision (Weighted Avg) for Polynomial Kernel SVM =', precision_weighted)\n",
    "print('Validation Recall (Weighted Avg) for Polynomial Kernel SVM =', recall_weighted)\n",
    "print('Validation F1 (Weighted Avg) for Polynomial Kernel SVM =', f1_weighted)"
   ]
  },
  {
   "cell_type": "markdown",
   "id": "2e7d7112-86b1-4b37-ba64-f5126c7c241a",
   "metadata": {},
   "source": [
    "#### Code to search for best gamma value using GridSearch (unable to run it)"
   ]
  },
  {
   "cell_type": "code",
   "execution_count": 18,
   "id": "5657049e-a303-4491-b723-834f8380d87a",
   "metadata": {},
   "outputs": [],
   "source": [
    "from sklearn.model_selection import GridSearchCV\n",
    "from sklearn.svm import SVC\n",
    "from sklearn.metrics import make_scorer, accuracy_score, precision_score, recall_score, f1_score\n",
    "\n",
    "poly = SVC(kernel = 'poly', C = 10, coef0 = 0, degree = 3)\n",
    "\n",
    "poly_param = {\n",
    "    'gamma': [0.1, 1, 'scale', 'auto'],\n",
    "}\n",
    "\n",
    "scoring = {\n",
    "    'accuracy': 'accuracy',\n",
    "    'weighted_precision': make_scorer(precision_score, average='weighted', zero_division=0),\n",
    "    'weighted_recall': make_scorer(recall_score, average='weighted', zero_division=0),\n",
    "    'weighted_f1': make_scorer(f1_score, average='weighted', zero_division=0)\n",
    "}\n",
    "\n",
    "grid_search = GridSearchCV(poly, poly_param, cv=10, scoring=scoring, refit='accuracy')"
   ]
  },
  {
   "cell_type": "code",
   "execution_count": null,
   "id": "d1e6c9d3-afee-450a-84bb-523d9d5d38ab",
   "metadata": {},
   "outputs": [],
   "source": [
    "grid_search.fit(features, target)"
   ]
  },
  {
   "cell_type": "code",
   "execution_count": null,
   "id": "5ab73eb2-623b-4b1d-bf50-8bf1c5ec5b5a",
   "metadata": {},
   "outputs": [],
   "source": [
    "best_params = grid_search.best_params_\n",
    "best_accuracy = grid_search.best_score_\n",
    "best_weighted_precision = grid_search.cv_results_['mean_test_weighted_precision'][grid_search.best_index_]\n",
    "best_weighted_recall = grid_search.cv_results_['mean_test_weighted_recall'][grid_search.best_index_]\n",
    "best_weighted_f1 = grid_search.cv_results_['mean_test_weighted_f1'][grid_search.best_index_]\n",
    "\n",
    "print(\"Best parameter for Polynomial Kernel SVM =\", best_params)\n",
    "print(\"Best Accuracy Score for Polynomial Kernel SVM =\", best_accuracy)\n",
    "print(\"Best Weighted Precision Score for Polynomial Kernel SVM =\", best_weighted_precision)\n",
    "print(\"Best Weighted Recall Score for Polynomial Kernel SVM =\", best_weighted_recall)\n",
    "print(\"Best Weighted F1 Score for Polynomial Kernel SVM =\", best_weighted_f1)"
   ]
  },
  {
   "cell_type": "markdown",
   "id": "0c03db7d-1026-4707-9dd7-1031ef4eb5f4",
   "metadata": {},
   "source": [
    "# Best Model \n",
    "\n",
    "SVM (kernel = poly) using Norm Dataset"
   ]
  },
  {
   "cell_type": "code",
   "execution_count": 24,
   "id": "6a4ed134-4f1e-49cf-b732-e8615a1f790e",
   "metadata": {},
   "outputs": [],
   "source": [
    "from sklearn.svm import SVC\n",
    "from sklearn.model_selection import cross_val_predict\n",
    "\n",
    "poly = SVC(kernel = 'poly', C = 10, coef0 = 0, degree = 3, gamma = 'scale')\n",
    "\n",
    "# Perform cross-validation and get predictions for each fold\n",
    "poly_val_predictions = cross_val_predict(poly, features, target, cv=10)"
   ]
  },
  {
   "cell_type": "code",
   "execution_count": 25,
   "id": "4192ef64-b28d-4eef-96a4-eb65d2a2e259",
   "metadata": {},
   "outputs": [
    {
     "name": "stdout",
     "output_type": "stream",
     "text": [
      "Validation Accuracy for Polynomial Kernel SVM = 0.6470588235294118\n",
      "Validation Precision (Weighted Avg) for Polynomial Kernel SVM = 0.6479595481468368\n",
      "Validation Recall (Weighted Avg) for Polynomial Kernel SVM = 0.6470588235294118\n",
      "Validation F1 (Weighted Avg) for Polynomial Kernel SVM = 0.6474416433239962\n"
     ]
    }
   ],
   "source": [
    "from sklearn.metrics import accuracy_score, precision_score, recall_score, f1_score\n",
    "accuracy = accuracy_score(target, poly_val_predictions)\n",
    "precision_weighted = precision_score(target, poly_val_predictions, average='weighted')\n",
    "recall_weighted = recall_score(target, poly_val_predictions, average='weighted')\n",
    "f1_weighted = f1_score(target, poly_val_predictions, average='weighted')\n",
    "\n",
    "# Print the weighted average evaluation metrics\n",
    "print('Validation Accuracy for Polynomial Kernel SVM =', accuracy)\n",
    "print('Validation Precision (Weighted Avg) for Polynomial Kernel SVM =', precision_weighted)\n",
    "print('Validation Recall (Weighted Avg) for Polynomial Kernel SVM =', recall_weighted)\n",
    "print('Validation F1 (Weighted Avg) for Polynomial Kernel SVM =', f1_weighted)"
   ]
  },
  {
   "cell_type": "code",
   "execution_count": 26,
   "id": "42567f07-9a8d-4ae1-8f5a-58782cd3d462",
   "metadata": {},
   "outputs": [
    {
     "data": {
      "text/html": [
       "<style>#sk-container-id-5 {color: black;background-color: white;}#sk-container-id-5 pre{padding: 0;}#sk-container-id-5 div.sk-toggleable {background-color: white;}#sk-container-id-5 label.sk-toggleable__label {cursor: pointer;display: block;width: 100%;margin-bottom: 0;padding: 0.3em;box-sizing: border-box;text-align: center;}#sk-container-id-5 label.sk-toggleable__label-arrow:before {content: \"▸\";float: left;margin-right: 0.25em;color: #696969;}#sk-container-id-5 label.sk-toggleable__label-arrow:hover:before {color: black;}#sk-container-id-5 div.sk-estimator:hover label.sk-toggleable__label-arrow:before {color: black;}#sk-container-id-5 div.sk-toggleable__content {max-height: 0;max-width: 0;overflow: hidden;text-align: left;background-color: #f0f8ff;}#sk-container-id-5 div.sk-toggleable__content pre {margin: 0.2em;color: black;border-radius: 0.25em;background-color: #f0f8ff;}#sk-container-id-5 input.sk-toggleable__control:checked~div.sk-toggleable__content {max-height: 200px;max-width: 100%;overflow: auto;}#sk-container-id-5 input.sk-toggleable__control:checked~label.sk-toggleable__label-arrow:before {content: \"▾\";}#sk-container-id-5 div.sk-estimator input.sk-toggleable__control:checked~label.sk-toggleable__label {background-color: #d4ebff;}#sk-container-id-5 div.sk-label input.sk-toggleable__control:checked~label.sk-toggleable__label {background-color: #d4ebff;}#sk-container-id-5 input.sk-hidden--visually {border: 0;clip: rect(1px 1px 1px 1px);clip: rect(1px, 1px, 1px, 1px);height: 1px;margin: -1px;overflow: hidden;padding: 0;position: absolute;width: 1px;}#sk-container-id-5 div.sk-estimator {font-family: monospace;background-color: #f0f8ff;border: 1px dotted black;border-radius: 0.25em;box-sizing: border-box;margin-bottom: 0.5em;}#sk-container-id-5 div.sk-estimator:hover {background-color: #d4ebff;}#sk-container-id-5 div.sk-parallel-item::after {content: \"\";width: 100%;border-bottom: 1px solid gray;flex-grow: 1;}#sk-container-id-5 div.sk-label:hover label.sk-toggleable__label {background-color: #d4ebff;}#sk-container-id-5 div.sk-serial::before {content: \"\";position: absolute;border-left: 1px solid gray;box-sizing: border-box;top: 0;bottom: 0;left: 50%;z-index: 0;}#sk-container-id-5 div.sk-serial {display: flex;flex-direction: column;align-items: center;background-color: white;padding-right: 0.2em;padding-left: 0.2em;position: relative;}#sk-container-id-5 div.sk-item {position: relative;z-index: 1;}#sk-container-id-5 div.sk-parallel {display: flex;align-items: stretch;justify-content: center;background-color: white;position: relative;}#sk-container-id-5 div.sk-item::before, #sk-container-id-5 div.sk-parallel-item::before {content: \"\";position: absolute;border-left: 1px solid gray;box-sizing: border-box;top: 0;bottom: 0;left: 50%;z-index: -1;}#sk-container-id-5 div.sk-parallel-item {display: flex;flex-direction: column;z-index: 1;position: relative;background-color: white;}#sk-container-id-5 div.sk-parallel-item:first-child::after {align-self: flex-end;width: 50%;}#sk-container-id-5 div.sk-parallel-item:last-child::after {align-self: flex-start;width: 50%;}#sk-container-id-5 div.sk-parallel-item:only-child::after {width: 0;}#sk-container-id-5 div.sk-dashed-wrapped {border: 1px dashed gray;margin: 0 0.4em 0.5em 0.4em;box-sizing: border-box;padding-bottom: 0.4em;background-color: white;}#sk-container-id-5 div.sk-label label {font-family: monospace;font-weight: bold;display: inline-block;line-height: 1.2em;}#sk-container-id-5 div.sk-label-container {text-align: center;}#sk-container-id-5 div.sk-container {/* jupyter's `normalize.less` sets `[hidden] { display: none; }` but bootstrap.min.css set `[hidden] { display: none !important; }` so we also need the `!important` here to be able to override the default hidden behavior on the sphinx rendered scikit-learn.org. See: https://github.com/scikit-learn/scikit-learn/issues/21755 */display: inline-block !important;position: relative;}#sk-container-id-5 div.sk-text-repr-fallback {display: none;}</style><div id=\"sk-container-id-5\" class=\"sk-top-container\"><div class=\"sk-text-repr-fallback\"><pre>SVC(C=10, coef0=0, kernel=&#x27;poly&#x27;)</pre><b>In a Jupyter environment, please rerun this cell to show the HTML representation or trust the notebook. <br />On GitHub, the HTML representation is unable to render, please try loading this page with nbviewer.org.</b></div><div class=\"sk-container\" hidden><div class=\"sk-item\"><div class=\"sk-estimator sk-toggleable\"><input class=\"sk-toggleable__control sk-hidden--visually\" id=\"sk-estimator-id-11\" type=\"checkbox\" checked><label for=\"sk-estimator-id-11\" class=\"sk-toggleable__label sk-toggleable__label-arrow\">SVC</label><div class=\"sk-toggleable__content\"><pre>SVC(C=10, coef0=0, kernel=&#x27;poly&#x27;)</pre></div></div></div></div></div>"
      ],
      "text/plain": [
       "SVC(C=10, coef0=0, kernel='poly')"
      ]
     },
     "execution_count": 26,
     "metadata": {},
     "output_type": "execute_result"
    }
   ],
   "source": [
    "# Train the final model on the entire dataset\n",
    "poly.fit(features, target)"
   ]
  },
  {
   "cell_type": "code",
   "execution_count": 27,
   "id": "2667066f-f20d-439e-930d-2e7b52a51e7c",
   "metadata": {},
   "outputs": [],
   "source": [
    "# Import pickle\n",
    "import pickle\n",
    "\n",
    "# Specify the file name to save the model\n",
    "# Use filename='freq_model.sav' for Freq-PHO-Binary\n",
    "# Use filename='norm_model.sav' for Norm-PHO-Binary\n",
    "filename='norm_model.sav'\n",
    "# Open the file name in write mode. Pass the filename and model.\n",
    "# Replace modelname with the name of your model\n",
    "pickle.dump(poly, open(filename, 'wb'))"
   ]
  }
 ],
 "metadata": {
  "kernelspec": {
   "display_name": "Python 3 (ipykernel)",
   "language": "python",
   "name": "python3"
  },
  "language_info": {
   "codemirror_mode": {
    "name": "ipython",
    "version": 3
   },
   "file_extension": ".py",
   "mimetype": "text/x-python",
   "name": "python",
   "nbconvert_exporter": "python",
   "pygments_lexer": "ipython3",
   "version": "3.11.7"
  }
 },
 "nbformat": 4,
 "nbformat_minor": 5
}
